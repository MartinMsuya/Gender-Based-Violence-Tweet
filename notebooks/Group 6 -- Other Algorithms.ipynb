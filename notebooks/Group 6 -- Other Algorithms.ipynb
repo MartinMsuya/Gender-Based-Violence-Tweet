{
 "cells": [
  {
   "cell_type": "code",
   "execution_count": 1,
   "id": "fb626957",
   "metadata": {},
   "outputs": [],
   "source": [
    "\n",
    "import pandas as pd\n",
    "import numpy as np\n",
    "import matplotlib.pyplot as plt\n",
    "import seaborn as sns  \n",
    "plt.rcParams[\"axes.labelsize\"] = 18\n",
    "import warnings\n",
    "warnings.filterwarnings('ignore')\n",
    "%matplotlib inline "
   ]
  },
  {
   "cell_type": "code",
   "execution_count": 2,
   "id": "6ab241bc",
   "metadata": {
    "scrolled": true
   },
   "outputs": [],
   "source": [
    "# Import data\n",
    "train = pd.read_csv('Train.csv')\n"
   ]
  },
  {
   "cell_type": "code",
   "execution_count": 3,
   "id": "8f7202e0",
   "metadata": {},
   "outputs": [
    {
     "name": "stdout",
     "output_type": "stream",
     "text": [
      "train data shape : (39650, 3)\n"
     ]
    }
   ],
   "source": [
    "# print shape \n",
    "print('train data shape :', train.shape)"
   ]
  },
  {
   "cell_type": "code",
   "execution_count": 4,
   "id": "a4d6b861",
   "metadata": {},
   "outputs": [
    {
     "data": {
      "text/html": [
       "<div>\n",
       "<style scoped>\n",
       "    .dataframe tbody tr th:only-of-type {\n",
       "        vertical-align: middle;\n",
       "    }\n",
       "\n",
       "    .dataframe tbody tr th {\n",
       "        vertical-align: top;\n",
       "    }\n",
       "\n",
       "    .dataframe thead th {\n",
       "        text-align: right;\n",
       "    }\n",
       "</style>\n",
       "<table border=\"1\" class=\"dataframe\">\n",
       "  <thead>\n",
       "    <tr style=\"text-align: right;\">\n",
       "      <th></th>\n",
       "      <th>Tweet_ID</th>\n",
       "      <th>tweet</th>\n",
       "      <th>type</th>\n",
       "    </tr>\n",
       "  </thead>\n",
       "  <tbody>\n",
       "    <tr>\n",
       "      <th>0</th>\n",
       "      <td>ID_0022DWKP</td>\n",
       "      <td>Had a dream i got raped last night. By a guy i...</td>\n",
       "      <td>sexual_violence</td>\n",
       "    </tr>\n",
       "    <tr>\n",
       "      <th>1</th>\n",
       "      <td>ID_00395QYM</td>\n",
       "      <td>he thought the word raped means sex and told m...</td>\n",
       "      <td>sexual_violence</td>\n",
       "    </tr>\n",
       "    <tr>\n",
       "      <th>2</th>\n",
       "      <td>ID_003EOSSF</td>\n",
       "      <td>She NOT TALKING TO ME I WAS RAPED BY 2 MEN 1 M...</td>\n",
       "      <td>sexual_violence</td>\n",
       "    </tr>\n",
       "    <tr>\n",
       "      <th>3</th>\n",
       "      <td>ID_004BBHOD</td>\n",
       "      <td>I was sexually abused for 3 years at age 4 to ...</td>\n",
       "      <td>sexual_violence</td>\n",
       "    </tr>\n",
       "    <tr>\n",
       "      <th>4</th>\n",
       "      <td>ID_004F7516</td>\n",
       "      <td>Chessy Prout can do better by telling the trut...</td>\n",
       "      <td>sexual_violence</td>\n",
       "    </tr>\n",
       "    <tr>\n",
       "      <th>5</th>\n",
       "      <td>ID_0052TYKI</td>\n",
       "      <td>Yes men rape women. But women also rape men, y...</td>\n",
       "      <td>sexual_violence</td>\n",
       "    </tr>\n",
       "    <tr>\n",
       "      <th>6</th>\n",
       "      <td>ID_0058QG76</td>\n",
       "      <td>My Husband Beats Me Frequently, Wife Tells Cou...</td>\n",
       "      <td>Physical_violence</td>\n",
       "    </tr>\n",
       "    <tr>\n",
       "      <th>7</th>\n",
       "      <td>ID_005VM1DJ</td>\n",
       "      <td>Pretty sure he raped a 16yr old girl with 2 fr...</td>\n",
       "      <td>sexual_violence</td>\n",
       "    </tr>\n",
       "    <tr>\n",
       "      <th>8</th>\n",
       "      <td>ID_0060BW8R</td>\n",
       "      <td>TW sorry to hear that  and yeah he recently th...</td>\n",
       "      <td>sexual_violence</td>\n",
       "    </tr>\n",
       "    <tr>\n",
       "      <th>9</th>\n",
       "      <td>ID_007FAIEI</td>\n",
       "      <td>\"I understand that... My father was abusive as...</td>\n",
       "      <td>sexual_violence</td>\n",
       "    </tr>\n",
       "  </tbody>\n",
       "</table>\n",
       "</div>"
      ],
      "text/plain": [
       "      Tweet_ID                                              tweet  \\\n",
       "0  ID_0022DWKP  Had a dream i got raped last night. By a guy i...   \n",
       "1  ID_00395QYM  he thought the word raped means sex and told m...   \n",
       "2  ID_003EOSSF  She NOT TALKING TO ME I WAS RAPED BY 2 MEN 1 M...   \n",
       "3  ID_004BBHOD  I was sexually abused for 3 years at age 4 to ...   \n",
       "4  ID_004F7516  Chessy Prout can do better by telling the trut...   \n",
       "5  ID_0052TYKI  Yes men rape women. But women also rape men, y...   \n",
       "6  ID_0058QG76  My Husband Beats Me Frequently, Wife Tells Cou...   \n",
       "7  ID_005VM1DJ  Pretty sure he raped a 16yr old girl with 2 fr...   \n",
       "8  ID_0060BW8R  TW sorry to hear that  and yeah he recently th...   \n",
       "9  ID_007FAIEI  \"I understand that... My father was abusive as...   \n",
       "\n",
       "                type  \n",
       "0    sexual_violence  \n",
       "1    sexual_violence  \n",
       "2    sexual_violence  \n",
       "3    sexual_violence  \n",
       "4    sexual_violence  \n",
       "5    sexual_violence  \n",
       "6  Physical_violence  \n",
       "7    sexual_violence  \n",
       "8    sexual_violence  \n",
       "9    sexual_violence  "
      ]
     },
     "execution_count": 4,
     "metadata": {},
     "output_type": "execute_result"
    }
   ],
   "source": [
    "# Inspect Data by shing the first five rows \n",
    "train.head(10)"
   ]
  },
  {
   "cell_type": "code",
   "execution_count": 5,
   "id": "bdc4d4d6",
   "metadata": {},
   "outputs": [
    {
     "data": {
      "text/plain": [
       "Harmful_Traditional_practice      188\n",
       "economic_violence                 217\n",
       "emotional_violence                651\n",
       "Physical_violence                5946\n",
       "sexual_violence                 32648\n",
       "Name: type, dtype: int64"
      ]
     },
     "execution_count": 5,
     "metadata": {},
     "output_type": "execute_result"
    }
   ],
   "source": [
    "train['type'].value_counts(ascending=True) "
   ]
  },
  {
   "cell_type": "code",
   "execution_count": 6,
   "id": "65c1b6ac",
   "metadata": {},
   "outputs": [
    {
     "name": "stderr",
     "output_type": "stream",
     "text": [
      "[nltk_data] Downloading package stopwords to C:\\Users\\Martin\n",
      "[nltk_data]     Msuya\\AppData\\Roaming\\nltk_data...\n",
      "[nltk_data]   Package stopwords is already up-to-date!\n"
     ]
    },
    {
     "data": {
      "text/plain": [
       "True"
      ]
     },
     "execution_count": 6,
     "metadata": {},
     "output_type": "execute_result"
    }
   ],
   "source": [
    "# Importing modules used to remove stopwords\n",
    "import nltk\n",
    "nltk.download('stopwords')"
   ]
  },
  {
   "cell_type": "code",
   "execution_count": 7,
   "id": "bfeff674",
   "metadata": {},
   "outputs": [],
   "source": [
    "#remove id feature \n",
    "\n",
    "train = train.drop('Tweet_ID', axis=1)\n"
   ]
  },
  {
   "cell_type": "code",
   "execution_count": 8,
   "id": "e49803e4",
   "metadata": {},
   "outputs": [],
   "source": [
    "# loading important libraries\n",
    "from nltk.corpus import stopwords # importing stopwords\n",
    "from nltk.stem import PorterStemmer\n",
    "import re # used for text persing\n",
    "\n",
    "stemmer = PorterStemmer()\n",
    "words = stopwords.words(\"english\")\n",
    "\n",
    "train['processedtext'] = train['tweet'].apply(lambda x: \" \".join([stemmer.stem(i) for i in re.sub(\"[^a-zA-Z]\", \" \", x).split() if i not in words]).lower())"
   ]
  },
  {
   "cell_type": "code",
   "execution_count": 9,
   "id": "af44b4fe",
   "metadata": {},
   "outputs": [
    {
     "data": {
      "text/html": [
       "<div>\n",
       "<style scoped>\n",
       "    .dataframe tbody tr th:only-of-type {\n",
       "        vertical-align: middle;\n",
       "    }\n",
       "\n",
       "    .dataframe tbody tr th {\n",
       "        vertical-align: top;\n",
       "    }\n",
       "\n",
       "    .dataframe thead th {\n",
       "        text-align: right;\n",
       "    }\n",
       "</style>\n",
       "<table border=\"1\" class=\"dataframe\">\n",
       "  <thead>\n",
       "    <tr style=\"text-align: right;\">\n",
       "      <th></th>\n",
       "      <th>tweet</th>\n",
       "      <th>type</th>\n",
       "      <th>processedtext</th>\n",
       "    </tr>\n",
       "  </thead>\n",
       "  <tbody>\n",
       "    <tr>\n",
       "      <th>0</th>\n",
       "      <td>Had a dream i got raped last night. By a guy i...</td>\n",
       "      <td>sexual_violence</td>\n",
       "      <td>had dream got rape last night by guy work actu...</td>\n",
       "    </tr>\n",
       "    <tr>\n",
       "      <th>1</th>\n",
       "      <td>he thought the word raped means sex and told m...</td>\n",
       "      <td>sexual_violence</td>\n",
       "      <td>thought word rape mean sex told saw dog rape e...</td>\n",
       "    </tr>\n",
       "    <tr>\n",
       "      <th>2</th>\n",
       "      <td>She NOT TALKING TO ME I WAS RAPED BY 2 MEN 1 M...</td>\n",
       "      <td>sexual_violence</td>\n",
       "      <td>she not talk to me i wa rape by men molest he ...</td>\n",
       "    </tr>\n",
       "    <tr>\n",
       "      <th>3</th>\n",
       "      <td>I was sexually abused for 3 years at age 4 to ...</td>\n",
       "      <td>sexual_violence</td>\n",
       "      <td>i sexual abus year age no one believ i rape br...</td>\n",
       "    </tr>\n",
       "    <tr>\n",
       "      <th>4</th>\n",
       "      <td>Chessy Prout can do better by telling the trut...</td>\n",
       "      <td>sexual_violence</td>\n",
       "      <td>chessi prout better tell truth by sell owen la...</td>\n",
       "    </tr>\n",
       "    <tr>\n",
       "      <th>5</th>\n",
       "      <td>Yes men rape women. But women also rape men, y...</td>\n",
       "      <td>sexual_violence</td>\n",
       "      <td>ye men rape women but women also rape men yet ...</td>\n",
       "    </tr>\n",
       "    <tr>\n",
       "      <th>6</th>\n",
       "      <td>My Husband Beats Me Frequently, Wife Tells Cou...</td>\n",
       "      <td>Physical_violence</td>\n",
       "      <td>my husband beat me frequent wife tell court</td>\n",
       "    </tr>\n",
       "  </tbody>\n",
       "</table>\n",
       "</div>"
      ],
      "text/plain": [
       "                                               tweet               type  \\\n",
       "0  Had a dream i got raped last night. By a guy i...    sexual_violence   \n",
       "1  he thought the word raped means sex and told m...    sexual_violence   \n",
       "2  She NOT TALKING TO ME I WAS RAPED BY 2 MEN 1 M...    sexual_violence   \n",
       "3  I was sexually abused for 3 years at age 4 to ...    sexual_violence   \n",
       "4  Chessy Prout can do better by telling the trut...    sexual_violence   \n",
       "5  Yes men rape women. But women also rape men, y...    sexual_violence   \n",
       "6  My Husband Beats Me Frequently, Wife Tells Cou...  Physical_violence   \n",
       "\n",
       "                                       processedtext  \n",
       "0  had dream got rape last night by guy work actu...  \n",
       "1  thought word rape mean sex told saw dog rape e...  \n",
       "2  she not talk to me i wa rape by men molest he ...  \n",
       "3  i sexual abus year age no one believ i rape br...  \n",
       "4  chessi prout better tell truth by sell owen la...  \n",
       "5  ye men rape women but women also rape men yet ...  \n",
       "6        my husband beat me frequent wife tell court  "
      ]
     },
     "execution_count": 9,
     "metadata": {},
     "output_type": "execute_result"
    }
   ],
   "source": [
    "train.head(7)"
   ]
  },
  {
   "cell_type": "markdown",
   "id": "0dd89070",
   "metadata": {},
   "source": [
    "### Convert Into Lower case "
   ]
  },
  {
   "cell_type": "code",
   "execution_count": 10,
   "id": "25374ba3",
   "metadata": {},
   "outputs": [],
   "source": [
    "# Convert into lower case\n",
    "train['processedtext']= train['processedtext'].str.lower()\n"
   ]
  },
  {
   "cell_type": "markdown",
   "id": "d2f0131d",
   "metadata": {},
   "source": [
    "### Removing Punctuation from Tweets"
   ]
  },
  {
   "cell_type": "code",
   "execution_count": 11,
   "id": "60873d1c",
   "metadata": {},
   "outputs": [],
   "source": [
    "# Removing Punctuation from the Tweets\n",
    "import string\n",
    "\n",
    "train['processedtext']= train['processedtext'].str.strip(string.punctuation)\n"
   ]
  },
  {
   "cell_type": "markdown",
   "id": "97d79b86",
   "metadata": {},
   "source": [
    "### Removing Intergers from the tweets"
   ]
  },
  {
   "cell_type": "code",
   "execution_count": 12,
   "id": "d3ea1c78",
   "metadata": {},
   "outputs": [],
   "source": [
    "# Removing Intergers from the tweets\n",
    "train['processedtext'] = [x for x in train['processedtext'] if not isinstance(x, int)]\n"
   ]
  },
  {
   "cell_type": "markdown",
   "id": "b455a420",
   "metadata": {},
   "source": [
    "### Removing Emojis from the tweets"
   ]
  },
  {
   "cell_type": "code",
   "execution_count": 13,
   "id": "532c689a",
   "metadata": {},
   "outputs": [],
   "source": [
    "# Removing Emojis from the tweets\n",
    "train['processedtext'] = [item.encode('ascii', 'ignore').decode('ascii') for item in train['processedtext'] ]\n"
   ]
  },
  {
   "cell_type": "markdown",
   "id": "0854772a",
   "metadata": {},
   "source": [
    "### Lable Encoding our target variable "
   ]
  },
  {
   "cell_type": "code",
   "execution_count": 14,
   "id": "dd7b6d33",
   "metadata": {},
   "outputs": [
    {
     "data": {
      "text/html": [
       "<div>\n",
       "<style scoped>\n",
       "    .dataframe tbody tr th:only-of-type {\n",
       "        vertical-align: middle;\n",
       "    }\n",
       "\n",
       "    .dataframe tbody tr th {\n",
       "        vertical-align: top;\n",
       "    }\n",
       "\n",
       "    .dataframe thead th {\n",
       "        text-align: right;\n",
       "    }\n",
       "</style>\n",
       "<table border=\"1\" class=\"dataframe\">\n",
       "  <thead>\n",
       "    <tr style=\"text-align: right;\">\n",
       "      <th></th>\n",
       "      <th>tweet</th>\n",
       "      <th>type</th>\n",
       "      <th>processedtext</th>\n",
       "    </tr>\n",
       "  </thead>\n",
       "  <tbody>\n",
       "    <tr>\n",
       "      <th>0</th>\n",
       "      <td>Had a dream i got raped last night. By a guy i...</td>\n",
       "      <td>4</td>\n",
       "      <td>had dream got rape last night by guy work actu...</td>\n",
       "    </tr>\n",
       "    <tr>\n",
       "      <th>1</th>\n",
       "      <td>he thought the word raped means sex and told m...</td>\n",
       "      <td>4</td>\n",
       "      <td>thought word rape mean sex told saw dog rape e...</td>\n",
       "    </tr>\n",
       "    <tr>\n",
       "      <th>2</th>\n",
       "      <td>She NOT TALKING TO ME I WAS RAPED BY 2 MEN 1 M...</td>\n",
       "      <td>4</td>\n",
       "      <td>she not talk to me i wa rape by men molest he ...</td>\n",
       "    </tr>\n",
       "    <tr>\n",
       "      <th>3</th>\n",
       "      <td>I was sexually abused for 3 years at age 4 to ...</td>\n",
       "      <td>4</td>\n",
       "      <td>i sexual abus year age no one believ i rape br...</td>\n",
       "    </tr>\n",
       "    <tr>\n",
       "      <th>4</th>\n",
       "      <td>Chessy Prout can do better by telling the trut...</td>\n",
       "      <td>4</td>\n",
       "      <td>chessi prout better tell truth by sell owen la...</td>\n",
       "    </tr>\n",
       "    <tr>\n",
       "      <th>...</th>\n",
       "      <td>...</td>\n",
       "      <td>...</td>\n",
       "      <td>...</td>\n",
       "    </tr>\n",
       "    <tr>\n",
       "      <th>39645</th>\n",
       "      <td>ENTRY 1299: 21F. 23M, BF’s cousin. Got drunk o...</td>\n",
       "      <td>4</td>\n",
       "      <td>entri f m bf cousin got drunk halloween i like...</td>\n",
       "    </tr>\n",
       "    <tr>\n",
       "      <th>39646</th>\n",
       "      <td>So you’re telling me Emmanuel Macron was groom...</td>\n",
       "      <td>4</td>\n",
       "      <td>so tell emmanuel macron groom mayb even rape c...</td>\n",
       "    </tr>\n",
       "    <tr>\n",
       "      <th>39647</th>\n",
       "      <td>My wife regularly beats me, I get dirty slaps ...</td>\n",
       "      <td>1</td>\n",
       "      <td>my wife regularli beat i get dirti slap husban...</td>\n",
       "    </tr>\n",
       "    <tr>\n",
       "      <th>39648</th>\n",
       "      <td>Me: Hey babe! Police officer boyfriend: is tha...</td>\n",
       "      <td>4</td>\n",
       "      <td>me hey babe polic offic boyfriend me ye babe g...</td>\n",
       "    </tr>\n",
       "    <tr>\n",
       "      <th>39649</th>\n",
       "      <td>“I will take accountability if you think it’s ...</td>\n",
       "      <td>4</td>\n",
       "      <td>i take account think ok live tenn jail rest li...</td>\n",
       "    </tr>\n",
       "  </tbody>\n",
       "</table>\n",
       "<p>100 rows × 3 columns</p>\n",
       "</div>"
      ],
      "text/plain": [
       "                                                   tweet  type  \\\n",
       "0      Had a dream i got raped last night. By a guy i...     4   \n",
       "1      he thought the word raped means sex and told m...     4   \n",
       "2      She NOT TALKING TO ME I WAS RAPED BY 2 MEN 1 M...     4   \n",
       "3      I was sexually abused for 3 years at age 4 to ...     4   \n",
       "4      Chessy Prout can do better by telling the trut...     4   \n",
       "...                                                  ...   ...   \n",
       "39645  ENTRY 1299: 21F. 23M, BF’s cousin. Got drunk o...     4   \n",
       "39646  So you’re telling me Emmanuel Macron was groom...     4   \n",
       "39647  My wife regularly beats me, I get dirty slaps ...     1   \n",
       "39648  Me: Hey babe! Police officer boyfriend: is tha...     4   \n",
       "39649  “I will take accountability if you think it’s ...     4   \n",
       "\n",
       "                                           processedtext  \n",
       "0      had dream got rape last night by guy work actu...  \n",
       "1      thought word rape mean sex told saw dog rape e...  \n",
       "2      she not talk to me i wa rape by men molest he ...  \n",
       "3      i sexual abus year age no one believ i rape br...  \n",
       "4      chessi prout better tell truth by sell owen la...  \n",
       "...                                                  ...  \n",
       "39645  entri f m bf cousin got drunk halloween i like...  \n",
       "39646  so tell emmanuel macron groom mayb even rape c...  \n",
       "39647  my wife regularli beat i get dirti slap husban...  \n",
       "39648  me hey babe polic offic boyfriend me ye babe g...  \n",
       "39649  i take account think ok live tenn jail rest li...  \n",
       "\n",
       "[100 rows x 3 columns]"
      ]
     },
     "execution_count": 14,
     "metadata": {},
     "output_type": "execute_result"
    }
   ],
   "source": [
    "#import LableEncoder module \n",
    "from sklearn.preprocessing import LabelEncoder\n",
    "\n",
    "le = LabelEncoder()\n",
    "\n",
    "train['type'] = le.fit_transform(train['type'])\n",
    "\n",
    "train.head(50).append(train.tail(50))"
   ]
  },
  {
   "cell_type": "markdown",
   "id": "db2cf9c7",
   "metadata": {},
   "source": [
    "### Text Vectorization using TF-IDF Vectorizer"
   ]
  },
  {
   "cell_type": "code",
   "execution_count": 15,
   "id": "845c465b",
   "metadata": {},
   "outputs": [
    {
     "name": "stdout",
     "output_type": "stream",
     "text": [
      "n_samples: 39650, n_features: 25954\n"
     ]
    }
   ],
   "source": [
    "from sklearn.feature_extraction.text import TfidfVectorizer\n",
    "\n",
    "\n",
    "vectorizer_tfidf = TfidfVectorizer(stop_words='english', max_df=0.7)\n",
    "\n",
    "vector=vectorizer_tfidf.fit_transform(train['processedtext'].values.astype('U'))\n",
    "\n",
    "#print(vectorizer_tfidf.get_feature_names()[:10])\n",
    "print(\"n_samples: %d, n_features: %d\" % vector.shape)\n"
   ]
  },
  {
   "cell_type": "code",
   "execution_count": 16,
   "id": "c38128b4",
   "metadata": {},
   "outputs": [
    {
     "name": "stdout",
     "output_type": "stream",
     "text": [
      "             tweet1    tweet2    tweet3    tweet4    tweet5\n",
      "smoke      0.635930  0.000000  0.000000  0.000000  0.000000\n",
      "word       0.000000  0.294805  0.301498  0.000000  0.000000\n",
      "nother     0.000000  0.000000  0.593019  0.000000  0.000000\n",
      "eachoth    0.000000  0.552542  0.000000  0.000000  0.000000\n",
      "bro        0.000000  0.000000  0.000000  0.473031  0.000000\n",
      "chessi     0.000000  0.000000  0.000000  0.000000  0.463254\n",
      "classroom  0.000000  0.000000  0.000000  0.373405  0.000000\n",
      "dog        0.000000  0.362656  0.000000  0.000000  0.000000\n",
      "wtf        0.000000  0.348267  0.000000  0.000000  0.000000\n",
      "sexual     0.187536  0.000000  0.000000  0.159266  0.000000\n"
     ]
    }
   ],
   "source": [
    "# Select the first five documents from the data set\n",
    "tf_idf = pd.DataFrame(vector.todense()).iloc[:5]  \n",
    "tf_idf.columns = vectorizer_tfidf.get_feature_names()\n",
    "tfidf_matrix = tf_idf.T\n",
    "tfidf_matrix.columns = ['tweet'+ str(i) for i in range(1, 6)]\n",
    "tfidf_matrix['count'] = tfidf_matrix.sum(axis=1)\n",
    "\n",
    "# Top 10 words \n",
    "tfidf_matrix = tfidf_matrix.sort_values(by ='count', ascending=False)[:10] \n",
    "\n",
    "# Print the first 10 words \n",
    "print(tfidf_matrix.drop(columns=['count']).head(10))"
   ]
  },
  {
   "cell_type": "code",
   "execution_count": 17,
   "id": "c06702db",
   "metadata": {},
   "outputs": [
    {
     "name": "stdout",
     "output_type": "stream",
     "text": [
      "(39650, 3)\n",
      "(27755, 25954)\n",
      "(11895, 25954)\n"
     ]
    }
   ],
   "source": [
    "# Splitting the dataset to training and testing sets\n",
    "from sklearn.model_selection import train_test_split\n",
    "\n",
    "\n",
    "target = train['type']\n",
    "\n",
    "\n",
    "X_train, X_test, y_train, y_test = train_test_split(vector, target, test_size=0.30, random_state=100, stratify = target)\n",
    "\n",
    "print(train.shape); print(X_train.shape); print(X_test.shape)"
   ]
  },
  {
   "cell_type": "code",
   "execution_count": null,
   "id": "f308e385",
   "metadata": {},
   "outputs": [],
   "source": [
    "# # Fitting Random Forest Classification to the dataset\n",
    "# import the classifier\n",
    "from sklearn.ensemble import RandomForestClassifier\n",
    "\n",
    "# # create classifier object\n",
    "classifier = RandomForestClassifier(n_estimators = 100, random_state = 0)\n",
    "\n",
    "# # fit the classifier with x and y data\n",
    "classifier.fit(x_train_ros, y_train_ros)\n",
    "\n",
    "pred = classifier.predict(X_test)\n"
   ]
  },
  {
   "cell_type": "code",
   "execution_count": null,
   "id": "63ded657",
   "metadata": {},
   "outputs": [],
   "source": [
    "# # Calculating the f1 score\n",
    "from sklearn import metrics\n",
    "f1_score=metrics.f1_score(y_test,pred,average='macro')\n",
    "print(f1_score)"
   ]
  },
  {
   "cell_type": "code",
   "execution_count": null,
   "id": "32cf86e8",
   "metadata": {},
   "outputs": [],
   "source": [
    "from sklearn.metrics import classification_report\n",
    "print(classification_report(y_test,pred))\n"
   ]
  },
  {
   "cell_type": "code",
   "execution_count": null,
   "id": "226e78c5",
   "metadata": {},
   "outputs": [],
   "source": [
    "# # how to save the model into the folder \n",
    "import joblib\n",
    "\n",
    "joblib.dump(classifier, 'GBV/model/RandomForestClassifier.pkl')"
   ]
  },
  {
   "cell_type": "code",
   "execution_count": null,
   "id": "beee0e3d",
   "metadata": {},
   "outputs": [],
   "source": [
    "# how to save the model into the folder \n",
    "import joblib\n",
    "\n",
    "joblib.dump(vectorizer_tfidf, 'GBV/Preprocessing/vectorizer_tfidf.pkl')"
   ]
  },
  {
   "cell_type": "markdown",
   "id": "51d0a791",
   "metadata": {},
   "source": [
    "### Text Vectorization using Count Vectorizer"
   ]
  },
  {
   "cell_type": "code",
   "execution_count": null,
   "id": "e20048f0",
   "metadata": {},
   "outputs": [],
   "source": [
    "from sklearn.feature_extraction.text import CountVectorizer\n",
    "\n",
    "\n",
    "vectorizer_count = CountVectorizer(stop_words='english', max_df=0.7)\n",
    "\n",
    "vector_count=vectorizer_count.fit_transform(train['processedtext'].values.astype('U'))\n",
    "\n",
    "#print(vectorizer_tfidf.get_feature_names()[:10])\n",
    "print(\"n_samples: %d, n_features: %d\" % vector_count.shape)"
   ]
  },
  {
   "cell_type": "code",
   "execution_count": null,
   "id": "25d51bfd",
   "metadata": {},
   "outputs": [],
   "source": [
    "from sklearn.model_selection import train_test_split\n",
    "\n",
    "\n",
    "target = train['type']\n",
    "\n",
    "\n",
    "c_X_train, c_X_test, c_y_train, c_y_test = train_test_split(vector_count, target, test_size=0.30, random_state=100, stratify = target)\n",
    "\n",
    "print(train.shape); print(X_train.shape); print(X_test.shape)"
   ]
  },
  {
   "cell_type": "code",
   "execution_count": null,
   "id": "10c6d66c",
   "metadata": {},
   "outputs": [],
   "source": [
    "# Fitting Random Forest Regression to the dataset\n",
    "# import the regressor\n",
    "from sklearn.ensemble import RandomForestClassifier\n",
    "\n",
    "# create regressor object\n",
    "classifier_count = RandomForestClassifier(n_estimators = 100, random_state = 0)\n",
    "\n",
    "# fit the regressor with x and y data\n",
    "classifier_count.fit(c_X_train, c_y_train)\n",
    "\n",
    "c_pred = classifier_count.predict(c_X_test)\n"
   ]
  },
  {
   "cell_type": "code",
   "execution_count": null,
   "id": "1ffaf426",
   "metadata": {},
   "outputs": [],
   "source": [
    "# Calculating the f1 score\n",
    "from sklearn import metrics\n",
    "f1_score=metrics.f1_score(c_y_test,c_pred,average='macro')\n",
    "f1_score"
   ]
  },
  {
   "cell_type": "code",
   "execution_count": null,
   "id": "5b102ae9",
   "metadata": {
    "scrolled": true
   },
   "outputs": [],
   "source": [
    "from sklearn.metrics import classification_report\n",
    "print(classification_report(c_y_test,c_pred))"
   ]
  },
  {
   "cell_type": "code",
   "execution_count": null,
   "id": "35db94b0",
   "metadata": {},
   "outputs": [],
   "source": [
    "# # how to save the model into the folder \n",
    "# import joblib\n",
    "joblib.dump(vectorizer_count, 'GBV/Preprocessing/vectorizer_count.pkl')"
   ]
  },
  {
   "cell_type": "markdown",
   "id": "16767d1e",
   "metadata": {},
   "source": [
    "##### Confusion Matrix"
   ]
  },
  {
   "cell_type": "code",
   "execution_count": null,
   "id": "0cafc45a",
   "metadata": {},
   "outputs": [],
   "source": [
    "from sklearn.metrics import confusion_matrix, ConfusionMatrixDisplay\n",
    "plt.figure(figsize=(30,30))\n",
    "#Compute confusion matrix to evaluate the accuray of a classification\n",
    "confusion_table = confusion_matrix(c_y_test,c_pred)\n",
    "\n",
    "#Confusion matrix visualization\n",
    "cm_display = ConfusionMatrixDisplay(confusion_matrix=confusion_table, display_labels=[0,1,2,3,4])\n",
    "\n",
    "#create the plot\n",
    "cm_display.plot()\n",
    "\n",
    "#display the plot\n",
    "plt.show()\n"
   ]
  },
  {
   "cell_type": "markdown",
   "id": "8fe3bab9",
   "metadata": {},
   "source": [
    " ### 0 - 'Harmful_Traditional_practice', 1 - 'Physical_violence', 2 - 'economic_violence', 3 - 'emotional_violence',  4 - 'sexual_violence'   "
   ]
  },
  {
   "cell_type": "markdown",
   "id": "05987943",
   "metadata": {},
   "source": [
    "### Data Imbalancing"
   ]
  },
  {
   "cell_type": "code",
   "execution_count": null,
   "id": "5478f125",
   "metadata": {},
   "outputs": [],
   "source": [
    "# !pip install -U imbalanced-learn"
   ]
  },
  {
   "cell_type": "code",
   "execution_count": 18,
   "id": "0220e523",
   "metadata": {},
   "outputs": [],
   "source": [
    "from imblearn.over_sampling import RandomOverSampler\n",
    "from imblearn.under_sampling import RandomUnderSampler"
   ]
  },
  {
   "cell_type": "code",
   "execution_count": 19,
   "id": "6d658934",
   "metadata": {},
   "outputs": [],
   "source": [
    "target = train['type']\n",
    "\n",
    "X_train, X_test, y_train, y_test = train_test_split(vector, target, test_size=0.30, random_state=100, stratify = target)"
   ]
  },
  {
   "cell_type": "code",
   "execution_count": 20,
   "id": "09e1d8b1",
   "metadata": {},
   "outputs": [],
   "source": [
    "ros = RandomUnderSampler()\n",
    "x_train_ros, y_train_ros = ros.fit_resample(X_train, y_train)\n"
   ]
  },
  {
   "cell_type": "code",
   "execution_count": null,
   "id": "75573b98",
   "metadata": {},
   "outputs": [],
   "source": [
    "model = RandomForestClassifier(random_state=100)\n",
    "model.fit(x_train_ros, y_train_ros)"
   ]
  },
  {
   "cell_type": "code",
   "execution_count": null,
   "id": "a300557b",
   "metadata": {},
   "outputs": [],
   "source": [
    "y_test_pred = model.predict(X_test)\n"
   ]
  },
  {
   "cell_type": "code",
   "execution_count": null,
   "id": "1ad4cf98",
   "metadata": {},
   "outputs": [],
   "source": [
    "f1_score=metrics.f1_score(y_test,y_test_pred,average='macro')\n",
    "f1_score"
   ]
  },
  {
   "cell_type": "code",
   "execution_count": null,
   "id": "55db761a",
   "metadata": {},
   "outputs": [],
   "source": [
    "ax = y_train_ros.value_counts().plot.pie(autopct='%.2f')\n",
    "# _ = ax.set_title(\"Under-sampling\")"
   ]
  },
  {
   "cell_type": "code",
   "execution_count": null,
   "id": "26cbe3ac",
   "metadata": {},
   "outputs": [],
   "source": [
    "print(y_train_ros.value_counts())"
   ]
  },
  {
   "cell_type": "markdown",
   "id": "9cbc6cf9",
   "metadata": {},
   "source": [
    "# OTHER ALGORITHMS"
   ]
  },
  {
   "cell_type": "code",
   "execution_count": null,
   "id": "676a8513",
   "metadata": {},
   "outputs": [],
   "source": [
    "# !pip install xgboost"
   ]
  },
  {
   "cell_type": "markdown",
   "id": "0ad1a59a",
   "metadata": {},
   "source": [
    "## 1. XgBoost after Over balancing"
   ]
  },
  {
   "cell_type": "code",
   "execution_count": null,
   "id": "51859f0e",
   "metadata": {},
   "outputs": [],
   "source": [
    "# evaluate xgboost algorithm for classification\n",
    "from sklearn.metrics import accuracy_score\n",
    "from xgboost import XGBClassifier\n",
    "from sklearn import metrics\n",
    "\n",
    "# split the data test\n",
    "from sklearn.model_selection import train_test_split\n",
    "target = train['type']\n",
    "\n",
    "x_train,x_test,y_train,y_test=train_test_split(vector, target, test_size=0.30, random_state=100, stratify = target)\n",
    "\n",
    "\n",
    "# define the model\n",
    "xg_Classifier = XGBClassifier()\n",
    "\n",
    "#fit the model\n",
    "xg_Classifier.fit(x_train_ros, y_train_ros)\n",
    "\n",
    "# evaluate the model\n",
    "xg_pred = xg_Classifier.predict(x_test)\n",
    "\n",
    "# Calculating the f1 score\n",
    "f1_score=metrics.f1_score(y_test,xg_pred,average='macro')\n",
    "f1_score"
   ]
  },
  {
   "cell_type": "code",
   "execution_count": null,
   "id": "cd59df64",
   "metadata": {
    "scrolled": true
   },
   "outputs": [],
   "source": [
    "from sklearn.metrics import classification_report\n",
    "print(classification_report(y_test,xg_pred))"
   ]
  },
  {
   "cell_type": "code",
   "execution_count": null,
   "id": "49dd93d5",
   "metadata": {},
   "outputs": [],
   "source": [
    "from sklearn.metrics import confusion_matrix, ConfusionMatrixDisplay\n",
    "plt.figure(figsize=(30,30))\n",
    "#Compute confusion matrix to evaluate the accuray of a classification\n",
    "confusion_table = confusion_matrix(y_test,xg_pred)\n",
    "\n",
    "#Confusion matrix visualization\n",
    "cm_display = ConfusionMatrixDisplay(confusion_matrix=confusion_table, display_labels=[0,1,2,3,4])\n",
    "\n",
    "#create the plot\n",
    "cm_display.plot()\n",
    "\n",
    "#display the plot\n",
    "plt.show()\n"
   ]
  },
  {
   "cell_type": "markdown",
   "id": "7725a18a",
   "metadata": {},
   "source": [
    " ### 0 - 'Harmful_Traditional_practice', 1 - 'Physical_violence', 2 - 'economic_violence', 3 - 'emotional_violence',  4 - 'sexual_violence'   "
   ]
  },
  {
   "cell_type": "code",
   "execution_count": null,
   "id": "b3036bb2",
   "metadata": {},
   "outputs": [],
   "source": [
    "# how to save the model into the folder \n",
    "import joblib\n",
    "\n",
    "joblib.dump(xg_Classifier, 'GBV/model/XGBClassifier_model.pkl')"
   ]
  },
  {
   "cell_type": "markdown",
   "id": "0e1af549",
   "metadata": {},
   "source": [
    "## 2. Lightgbm after balancing"
   ]
  },
  {
   "cell_type": "code",
   "execution_count": null,
   "id": "24306727",
   "metadata": {},
   "outputs": [],
   "source": [
    "# installing lightgbm\n",
    "\n",
    "# !pip install lightgbm"
   ]
  },
  {
   "cell_type": "code",
   "execution_count": null,
   "id": "446cbdb8",
   "metadata": {},
   "outputs": [],
   "source": [
    "# evaluate lightgbm algorithm for classification\n",
    "from sklearn.metrics import accuracy_score\n",
    "from lightgbm import LGBMClassifier\n",
    "from sklearn import metrics\n",
    "\n",
    "# split the data test\n",
    "from sklearn.model_selection import train_test_split\n",
    "target = train['type']\n",
    "\n",
    "x_train,x_test,y_train,y_test=train_test_split(vector, target, test_size=0.30, random_state=100, stratify = target)\n",
    "\n",
    "\n",
    "# define the model\n",
    "l_Classifier = LGBMClassifier()\n",
    "\n",
    "#fit the model\n",
    "l_Classifier.fit(x_train_ros, y_train_ros)\n",
    "\n",
    "# evaluate the model\n",
    "l_pred = l_Classifier.predict(x_test)\n",
    "\n",
    "# Calculating the f1 score\n",
    "f1_score=metrics.f1_score(y_test,l_pred,average='macro')\n",
    "f1_score"
   ]
  },
  {
   "cell_type": "code",
   "execution_count": null,
   "id": "e8ebbb42",
   "metadata": {},
   "outputs": [],
   "source": [
    "from sklearn.metrics import classification_report\n",
    "print(classification_report(y_test,l_pred))"
   ]
  },
  {
   "cell_type": "code",
   "execution_count": null,
   "id": "e679edfe",
   "metadata": {},
   "outputs": [],
   "source": [
    "from sklearn.metrics import confusion_matrix, ConfusionMatrixDisplay\n",
    "plt.figure(figsize=(30,30))\n",
    "#Compute confusion matrix to evaluate the accuray of a classification\n",
    "confusion_table = confusion_matrix(y_test,l_pred)\n",
    "\n",
    "#Confusion matrix visualization\n",
    "cm_display = ConfusionMatrixDisplay(confusion_matrix=confusion_table, display_labels=[0,1,2,3,4])\n",
    "\n",
    "#create the plot\n",
    "cm_display.plot()\n",
    "\n",
    "#display the plot\n",
    "plt.show()\n"
   ]
  },
  {
   "cell_type": "markdown",
   "id": "52105432",
   "metadata": {},
   "source": [
    " ### 0 - 'Harmful_Traditional_practice', 1 - 'Physical_violence', 2 - 'economic_violence', 3 - 'emotional_violence',  4 - 'sexual_violence'   "
   ]
  },
  {
   "cell_type": "code",
   "execution_count": null,
   "id": "8affd907",
   "metadata": {},
   "outputs": [],
   "source": [
    "# how to save the model into the folder \n",
    "import joblib\n",
    "\n",
    "joblib.dump(l_Classifier, 'GBV/model/LGBMClassifier.pkl')"
   ]
  },
  {
   "cell_type": "markdown",
   "id": "196cb08e",
   "metadata": {},
   "source": [
    "## 3. CatBoost after Balancing"
   ]
  },
  {
   "cell_type": "code",
   "execution_count": null,
   "id": "4a138e7b",
   "metadata": {},
   "outputs": [],
   "source": [
    "# installing catboost\n",
    "# !pip install catBoost"
   ]
  },
  {
   "cell_type": "code",
   "execution_count": null,
   "id": "ed878383",
   "metadata": {
    "scrolled": true
   },
   "outputs": [],
   "source": [
    "# evaluate xgboost algorithm for classification\n",
    "from sklearn.metrics import accuracy_score\n",
    "from catboost import CatBoostClassifier\n",
    "from sklearn import metrics\n",
    "\n",
    "# split the data test\n",
    "from sklearn.model_selection import train_test_split\n",
    "target = train['type']\n",
    "\n",
    "x_train,x_test,y_train,y_test=train_test_split(vector, target, test_size=0.30, random_state=100, stratify = target)\n",
    "\n",
    "\n",
    "# define the model\n",
    "cat_Classifier = CatBoostClassifier()\n",
    "\n",
    "#fit the model\n",
    "cat_Classifier.fit(x_train_ros, y_train_ros)\n",
    "\n",
    "# evaluate the model\n",
    "cat_pred = cat_Classifier.predict(x_test)\n",
    "\n",
    "# Calculating the f1 score\n",
    "f1_score=metrics.f1_score(y_test,cat_pred,average='macro')\n",
    "f1_score"
   ]
  },
  {
   "cell_type": "code",
   "execution_count": null,
   "id": "a6bdac87",
   "metadata": {},
   "outputs": [],
   "source": [
    "from sklearn.metrics import classification_report\n",
    "print(classification_report(y_test,cat_pred))"
   ]
  },
  {
   "cell_type": "code",
   "execution_count": null,
   "id": "107c3d78",
   "metadata": {
    "scrolled": true
   },
   "outputs": [],
   "source": [
    "from sklearn.metrics import confusion_matrix, ConfusionMatrixDisplay\n",
    "plt.figure(figsize=(30,30))\n",
    "#Compute confusion matrix to evaluate the accuray of a classification\n",
    "confusion_table = confusion_matrix(y_test,cat_pred)\n",
    "\n",
    "#Confusion matrix visualization\n",
    "cm_display = ConfusionMatrixDisplay(confusion_matrix=confusion_table, display_labels=[0,1,2,3,4])\n",
    "\n",
    "#create the plot\n",
    "cm_display.plot()\n",
    "\n",
    "#display the plot\n",
    "plt.show()\n"
   ]
  },
  {
   "cell_type": "markdown",
   "id": "9303ef44",
   "metadata": {},
   "source": [
    " ### 0 - 'Harmful_Traditional_practice', 1 - 'Physical_violence', 2 - 'economic_violence', 3 - 'emotional_violence',  4 - 'sexual_violence'   "
   ]
  },
  {
   "cell_type": "code",
   "execution_count": null,
   "id": "f866dcd9",
   "metadata": {},
   "outputs": [],
   "source": [
    "# how to save the model into the folder \n",
    "import joblib\n",
    "\n",
    "joblib.dump(cat_Classifier, 'GBV/model/cat_Classifier_model.pkl')"
   ]
  },
  {
   "cell_type": "markdown",
   "id": "7dee79a1",
   "metadata": {},
   "source": [
    "## 4. Soft Voting Classifer after balancing "
   ]
  },
  {
   "cell_type": "code",
   "execution_count": null,
   "id": "76f95c82",
   "metadata": {},
   "outputs": [],
   "source": [
    "# evaluate VotingClassifer algorithm for classification\n",
    "from sklearn import model_selection\n",
    "from sklearn.tree import DecisionTreeClassifier\n",
    "from sklearn.linear_model import LogisticRegression\n",
    "from sklearn.svm import SVC\n",
    "from sklearn.metrics import accuracy_score\n",
    "from sklearn.ensemble import VotingClassifier\n",
    "from sklearn import metrics\n",
    "\n",
    "# split the data test\n",
    "from sklearn.model_selection import train_test_split\n",
    "target = train['type']\n",
    "\n",
    "x_train,x_test,y_train,y_test=train_test_split(vector, target, test_size=0.30, random_state=100, stratify = target)\n",
    "\n",
    "# creating submodels\n",
    "estimators = []\n",
    "model1 = LogisticRegression()\n",
    "estimators.append(('Logistic',model1))\n",
    "model2 = DecisionTreeClassifier()\n",
    "estimators.append(('cart',model2))\n",
    "model3 = SVC(probability=True)\n",
    "estimators.append(('svm',model3))\n",
    "\n",
    "# define the model\n",
    "ensemble = VotingClassifier(estimators, voting='soft')\n",
    "\n",
    "#fit the model\n",
    "ensemble.fit(x_train_ros, y_train_ros)\n",
    "\n",
    "# evaluate the model\n",
    "en_pred = ensemble.predict(x_test)\n",
    "\n",
    "# Calculating the f1 score\n",
    "f1_score=metrics.f1_score(y_test,en_pred,average='macro')\n",
    "f1_score"
   ]
  },
  {
   "cell_type": "code",
   "execution_count": null,
   "id": "218dc63b",
   "metadata": {},
   "outputs": [],
   "source": [
    "from sklearn.metrics import classification_report\n",
    "print(classification_report(y_test,en_pred))"
   ]
  },
  {
   "cell_type": "code",
   "execution_count": null,
   "id": "01e5afe5",
   "metadata": {
    "scrolled": false
   },
   "outputs": [],
   "source": [
    "from sklearn.metrics import confusion_matrix, ConfusionMatrixDisplay\n",
    "plt.figure(figsize=(30,30))\n",
    "#Compute confusion matrix to evaluate the accuray of a classification\n",
    "confusion_table = confusion_matrix(y_test,en_pred)\n",
    "\n",
    "#Confusion matrix visualization\n",
    "cm_display = ConfusionMatrixDisplay(confusion_matrix=confusion_table, display_labels=[0,1,2,3,4])\n",
    "\n",
    "#create the plot\n",
    "cm_display.plot()\n",
    "\n",
    "#display the plot\n",
    "plt.show()\n"
   ]
  },
  {
   "cell_type": "markdown",
   "id": "587ae381",
   "metadata": {},
   "source": [
    " ### 0 - 'Harmful_Traditional_practice', 1 - 'Physical_violence', 2 - 'economic_violence', 3 - 'emotional_violence',  4 - 'sexual_violence'   "
   ]
  },
  {
   "cell_type": "code",
   "execution_count": null,
   "id": "52fd349c",
   "metadata": {},
   "outputs": [],
   "source": [
    "# how to save the model into the folder \n",
    "import joblib\n",
    "\n",
    "joblib.dump(ensemble, 'GBV/model/VotingClassifier_soft_model.pkl')"
   ]
  },
  {
   "cell_type": "markdown",
   "id": "19815907",
   "metadata": {},
   "source": [
    "## 5. Histogram Gradient Boosting"
   ]
  },
  {
   "cell_type": "code",
   "execution_count": null,
   "id": "51406d70",
   "metadata": {},
   "outputs": [],
   "source": [
    "# evaluate Histogram gradient boosting algorithm for classification\n",
    "from sklearn.ensemble import HistGradientBoostingClassifier\n",
    "from sklearn import metrics\n",
    "\n",
    "# # explicitly requires this experimental feature\n",
    "from sklearn.experimental import enable_hist_gradient_boosting\n",
    "\n",
    "# # split the data test\n",
    "from sklearn.model_selection import train_test_split\n",
    "# # target = train['type']\n",
    "\n",
    "x_train,x_test,y_train,y_test=train_test_split(vector, target, test_size=0.30, random_state=100)\n",
    "\n",
    "xtr = x_train_ros.toarray()\n",
    "# # ytr = y_train.toarray()\n",
    "xte = x_test.toarray()\n",
    "# # yte = y_test.toarray()\n",
    "\n",
    "\n",
    "# # define the model\n",
    "hgb = HistGradientBoostingClassifier()\n",
    "\n",
    "# #fit the model\n",
    "hgb.fit(xtr, y_train_ros)\n",
    "\n",
    "# # evaluate the model\n",
    "hg_pred = hgb.predict(xte)\n",
    "\n",
    "# # Calculating the f1 score\n",
    "f1_score=metrics.f1_score(y_test,hg_pred,average='macro')\n",
    "f1_score"
   ]
  },
  {
   "cell_type": "code",
   "execution_count": null,
   "id": "0dd34aa7",
   "metadata": {},
   "outputs": [],
   "source": [
    "from sklearn.metrics import classification_report\n",
    "print(classification_report(y_test,hg_pred))"
   ]
  },
  {
   "cell_type": "code",
   "execution_count": null,
   "id": "36cb26e7",
   "metadata": {},
   "outputs": [],
   "source": [
    "# from sklearn.metrics import confusion_matrix, ConfusionMatrixDisplay\n",
    "plt.figure(figsize=(30,30))\n",
    " #Compute confusion matrix to evaluate the accuray of a classification\n",
    "confusion_table = confusion_matrix(y_test,hg_pred)\n",
    "\n",
    "# #Confusion matrix visualization\n",
    "cm_display = ConfusionMatrixDisplay(confusion_matrix=confusion_table, display_labels=[0,1,2,3,4])\n",
    "\n",
    "#create the plot\n",
    "cm_display.plot()\n",
    "\n",
    "#display the plot\n",
    "plt.show()\n"
   ]
  },
  {
   "cell_type": "markdown",
   "id": "8ea3a068",
   "metadata": {},
   "source": [
    " ### 0 - 'Harmful_Traditional_practice', 1 - 'Physical_violence', 2 - 'economic_violence', 3 - 'emotional_violence',  4 - 'sexual_violence'   "
   ]
  },
  {
   "cell_type": "code",
   "execution_count": null,
   "id": "7300db51",
   "metadata": {},
   "outputs": [],
   "source": [
    "#!pip install joblib"
   ]
  },
  {
   "cell_type": "code",
   "execution_count": null,
   "id": "6313ea27",
   "metadata": {},
   "outputs": [],
   "source": [
    "# how to save the model into the folder \n",
    "import joblib\n",
    "\n",
    "joblib.dump(ensemble, 'GBV/model/hgb.pkl')"
   ]
  },
  {
   "cell_type": "code",
   "execution_count": null,
   "id": "b18be403",
   "metadata": {},
   "outputs": [],
   "source": []
  }
 ],
 "metadata": {
  "kernelspec": {
   "display_name": "Python 3 (ipykernel)",
   "language": "python",
   "name": "python3"
  },
  "language_info": {
   "codemirror_mode": {
    "name": "ipython",
    "version": 3
   },
   "file_extension": ".py",
   "mimetype": "text/x-python",
   "name": "python",
   "nbconvert_exporter": "python",
   "pygments_lexer": "ipython3",
   "version": "3.9.12"
  }
 },
 "nbformat": 4,
 "nbformat_minor": 5
}
