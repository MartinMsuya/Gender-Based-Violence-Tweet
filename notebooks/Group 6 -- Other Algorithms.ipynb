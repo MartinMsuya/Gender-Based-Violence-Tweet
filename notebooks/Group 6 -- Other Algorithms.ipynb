{
 "cells": [
  {
   "cell_type": "code",
   "execution_count": 1,
   "id": "fb626957",
   "metadata": {},
   "outputs": [],
   "source": [
    "\n",
    "import pandas as pd\n",
    "import numpy as np\n",
    "import matplotlib.pyplot as plt\n",
    "import seaborn as sns  \n",
    "plt.rcParams[\"axes.labelsize\"] = 18\n",
    "import warnings\n",
    "warnings.filterwarnings('ignore')\n",
    "%matplotlib inline "
   ]
  },
  {
   "cell_type": "code",
   "execution_count": 2,
   "id": "6ab241bc",
   "metadata": {
    "scrolled": true
   },
   "outputs": [],
   "source": [
    "# Import data\n",
    "train = pd.read_csv('Train.csv')\n"
   ]
  },
  {
   "cell_type": "code",
   "execution_count": 3,
   "id": "8f7202e0",
   "metadata": {},
   "outputs": [
    {
     "name": "stdout",
     "output_type": "stream",
     "text": [
      "train data shape : (39650, 3)\n"
     ]
    }
   ],
   "source": [
    "# print shape \n",
    "print('train data shape :', train.shape)"
   ]
  },
  {
   "cell_type": "code",
   "execution_count": 4,
   "id": "a4d6b861",
   "metadata": {},
   "outputs": [
    {
     "data": {
      "text/html": [
       "<div>\n",
       "<style scoped>\n",
       "    .dataframe tbody tr th:only-of-type {\n",
       "        vertical-align: middle;\n",
       "    }\n",
       "\n",
       "    .dataframe tbody tr th {\n",
       "        vertical-align: top;\n",
       "    }\n",
       "\n",
       "    .dataframe thead th {\n",
       "        text-align: right;\n",
       "    }\n",
       "</style>\n",
       "<table border=\"1\" class=\"dataframe\">\n",
       "  <thead>\n",
       "    <tr style=\"text-align: right;\">\n",
       "      <th></th>\n",
       "      <th>Tweet_ID</th>\n",
       "      <th>tweet</th>\n",
       "      <th>type</th>\n",
       "    </tr>\n",
       "  </thead>\n",
       "  <tbody>\n",
       "    <tr>\n",
       "      <th>0</th>\n",
       "      <td>ID_0022DWKP</td>\n",
       "      <td>Had a dream i got raped last night. By a guy i...</td>\n",
       "      <td>sexual_violence</td>\n",
       "    </tr>\n",
       "    <tr>\n",
       "      <th>1</th>\n",
       "      <td>ID_00395QYM</td>\n",
       "      <td>he thought the word raped means sex and told m...</td>\n",
       "      <td>sexual_violence</td>\n",
       "    </tr>\n",
       "    <tr>\n",
       "      <th>2</th>\n",
       "      <td>ID_003EOSSF</td>\n",
       "      <td>She NOT TALKING TO ME I WAS RAPED BY 2 MEN 1 M...</td>\n",
       "      <td>sexual_violence</td>\n",
       "    </tr>\n",
       "    <tr>\n",
       "      <th>3</th>\n",
       "      <td>ID_004BBHOD</td>\n",
       "      <td>I was sexually abused for 3 years at age 4 to ...</td>\n",
       "      <td>sexual_violence</td>\n",
       "    </tr>\n",
       "    <tr>\n",
       "      <th>4</th>\n",
       "      <td>ID_004F7516</td>\n",
       "      <td>Chessy Prout can do better by telling the trut...</td>\n",
       "      <td>sexual_violence</td>\n",
       "    </tr>\n",
       "    <tr>\n",
       "      <th>5</th>\n",
       "      <td>ID_0052TYKI</td>\n",
       "      <td>Yes men rape women. But women also rape men, y...</td>\n",
       "      <td>sexual_violence</td>\n",
       "    </tr>\n",
       "    <tr>\n",
       "      <th>6</th>\n",
       "      <td>ID_0058QG76</td>\n",
       "      <td>My Husband Beats Me Frequently, Wife Tells Cou...</td>\n",
       "      <td>Physical_violence</td>\n",
       "    </tr>\n",
       "    <tr>\n",
       "      <th>7</th>\n",
       "      <td>ID_005VM1DJ</td>\n",
       "      <td>Pretty sure he raped a 16yr old girl with 2 fr...</td>\n",
       "      <td>sexual_violence</td>\n",
       "    </tr>\n",
       "    <tr>\n",
       "      <th>8</th>\n",
       "      <td>ID_0060BW8R</td>\n",
       "      <td>TW sorry to hear that  and yeah he recently th...</td>\n",
       "      <td>sexual_violence</td>\n",
       "    </tr>\n",
       "    <tr>\n",
       "      <th>9</th>\n",
       "      <td>ID_007FAIEI</td>\n",
       "      <td>\"I understand that... My father was abusive as...</td>\n",
       "      <td>sexual_violence</td>\n",
       "    </tr>\n",
       "  </tbody>\n",
       "</table>\n",
       "</div>"
      ],
      "text/plain": [
       "      Tweet_ID                                              tweet  \\\n",
       "0  ID_0022DWKP  Had a dream i got raped last night. By a guy i...   \n",
       "1  ID_00395QYM  he thought the word raped means sex and told m...   \n",
       "2  ID_003EOSSF  She NOT TALKING TO ME I WAS RAPED BY 2 MEN 1 M...   \n",
       "3  ID_004BBHOD  I was sexually abused for 3 years at age 4 to ...   \n",
       "4  ID_004F7516  Chessy Prout can do better by telling the trut...   \n",
       "5  ID_0052TYKI  Yes men rape women. But women also rape men, y...   \n",
       "6  ID_0058QG76  My Husband Beats Me Frequently, Wife Tells Cou...   \n",
       "7  ID_005VM1DJ  Pretty sure he raped a 16yr old girl with 2 fr...   \n",
       "8  ID_0060BW8R  TW sorry to hear that  and yeah he recently th...   \n",
       "9  ID_007FAIEI  \"I understand that... My father was abusive as...   \n",
       "\n",
       "                type  \n",
       "0    sexual_violence  \n",
       "1    sexual_violence  \n",
       "2    sexual_violence  \n",
       "3    sexual_violence  \n",
       "4    sexual_violence  \n",
       "5    sexual_violence  \n",
       "6  Physical_violence  \n",
       "7    sexual_violence  \n",
       "8    sexual_violence  \n",
       "9    sexual_violence  "
      ]
     },
     "execution_count": 4,
     "metadata": {},
     "output_type": "execute_result"
    }
   ],
   "source": [
    "# Inspect Data by shing the first five rows \n",
    "train.head(10)"
   ]
  },
  {
   "cell_type": "code",
   "execution_count": 5,
   "id": "bdc4d4d6",
   "metadata": {},
   "outputs": [
    {
     "data": {
      "text/plain": [
       "Harmful_Traditional_practice      188\n",
       "economic_violence                 217\n",
       "emotional_violence                651\n",
       "Physical_violence                5946\n",
       "sexual_violence                 32648\n",
       "Name: type, dtype: int64"
      ]
     },
     "execution_count": 5,
     "metadata": {},
     "output_type": "execute_result"
    }
   ],
   "source": [
    "train['type'].value_counts(ascending=True) "
   ]
  },
  {
   "cell_type": "code",
   "execution_count": 6,
   "id": "65c1b6ac",
   "metadata": {},
   "outputs": [
    {
     "name": "stderr",
     "output_type": "stream",
     "text": [
      "[nltk_data] Downloading package stopwords to C:\\Users\\Martin\n",
      "[nltk_data]     Msuya\\AppData\\Roaming\\nltk_data...\n",
      "[nltk_data]   Package stopwords is already up-to-date!\n"
     ]
    },
    {
     "data": {
      "text/plain": [
       "True"
      ]
     },
     "execution_count": 6,
     "metadata": {},
     "output_type": "execute_result"
    }
   ],
   "source": [
    "# Importing modules used to remove stopwords\n",
    "import nltk\n",
    "nltk.download('stopwords')"
   ]
  },
  {
   "cell_type": "code",
   "execution_count": 7,
   "id": "bfeff674",
   "metadata": {},
   "outputs": [],
   "source": [
    "#remove id feature \n",
    "\n",
    "train = train.drop('Tweet_ID', axis=1)\n"
   ]
  },
  {
   "cell_type": "code",
   "execution_count": 8,
   "id": "e49803e4",
   "metadata": {},
   "outputs": [],
   "source": [
    "# loading important libraries\n",
    "from nltk.corpus import stopwords # importing stopwords\n",
    "from nltk.stem import PorterStemmer\n",
    "import re # used for text persing\n",
    "\n",
    "stemmer = PorterStemmer()\n",
    "words = stopwords.words(\"english\")\n",
    "\n",
    "train['processedtext'] = train['tweet'].apply(lambda x: \" \".join([stemmer.stem(i) for i in re.sub(\"[^a-zA-Z]\", \" \", x).split() if i not in words]).lower())"
   ]
  },
  {
   "cell_type": "code",
   "execution_count": 9,
   "id": "af44b4fe",
   "metadata": {},
   "outputs": [
    {
     "data": {
      "text/html": [
       "<div>\n",
       "<style scoped>\n",
       "    .dataframe tbody tr th:only-of-type {\n",
       "        vertical-align: middle;\n",
       "    }\n",
       "\n",
       "    .dataframe tbody tr th {\n",
       "        vertical-align: top;\n",
       "    }\n",
       "\n",
       "    .dataframe thead th {\n",
       "        text-align: right;\n",
       "    }\n",
       "</style>\n",
       "<table border=\"1\" class=\"dataframe\">\n",
       "  <thead>\n",
       "    <tr style=\"text-align: right;\">\n",
       "      <th></th>\n",
       "      <th>tweet</th>\n",
       "      <th>type</th>\n",
       "      <th>processedtext</th>\n",
       "    </tr>\n",
       "  </thead>\n",
       "  <tbody>\n",
       "    <tr>\n",
       "      <th>0</th>\n",
       "      <td>Had a dream i got raped last night. By a guy i...</td>\n",
       "      <td>sexual_violence</td>\n",
       "      <td>had dream got rape last night by guy work actu...</td>\n",
       "    </tr>\n",
       "    <tr>\n",
       "      <th>1</th>\n",
       "      <td>he thought the word raped means sex and told m...</td>\n",
       "      <td>sexual_violence</td>\n",
       "      <td>thought word rape mean sex told saw dog rape e...</td>\n",
       "    </tr>\n",
       "    <tr>\n",
       "      <th>2</th>\n",
       "      <td>She NOT TALKING TO ME I WAS RAPED BY 2 MEN 1 M...</td>\n",
       "      <td>sexual_violence</td>\n",
       "      <td>she not talk to me i wa rape by men molest he ...</td>\n",
       "    </tr>\n",
       "    <tr>\n",
       "      <th>3</th>\n",
       "      <td>I was sexually abused for 3 years at age 4 to ...</td>\n",
       "      <td>sexual_violence</td>\n",
       "      <td>i sexual abus year age no one believ i rape br...</td>\n",
       "    </tr>\n",
       "    <tr>\n",
       "      <th>4</th>\n",
       "      <td>Chessy Prout can do better by telling the trut...</td>\n",
       "      <td>sexual_violence</td>\n",
       "      <td>chessi prout better tell truth by sell owen la...</td>\n",
       "    </tr>\n",
       "    <tr>\n",
       "      <th>5</th>\n",
       "      <td>Yes men rape women. But women also rape men, y...</td>\n",
       "      <td>sexual_violence</td>\n",
       "      <td>ye men rape women but women also rape men yet ...</td>\n",
       "    </tr>\n",
       "    <tr>\n",
       "      <th>6</th>\n",
       "      <td>My Husband Beats Me Frequently, Wife Tells Cou...</td>\n",
       "      <td>Physical_violence</td>\n",
       "      <td>my husband beat me frequent wife tell court</td>\n",
       "    </tr>\n",
       "  </tbody>\n",
       "</table>\n",
       "</div>"
      ],
      "text/plain": [
       "                                               tweet               type  \\\n",
       "0  Had a dream i got raped last night. By a guy i...    sexual_violence   \n",
       "1  he thought the word raped means sex and told m...    sexual_violence   \n",
       "2  She NOT TALKING TO ME I WAS RAPED BY 2 MEN 1 M...    sexual_violence   \n",
       "3  I was sexually abused for 3 years at age 4 to ...    sexual_violence   \n",
       "4  Chessy Prout can do better by telling the trut...    sexual_violence   \n",
       "5  Yes men rape women. But women also rape men, y...    sexual_violence   \n",
       "6  My Husband Beats Me Frequently, Wife Tells Cou...  Physical_violence   \n",
       "\n",
       "                                       processedtext  \n",
       "0  had dream got rape last night by guy work actu...  \n",
       "1  thought word rape mean sex told saw dog rape e...  \n",
       "2  she not talk to me i wa rape by men molest he ...  \n",
       "3  i sexual abus year age no one believ i rape br...  \n",
       "4  chessi prout better tell truth by sell owen la...  \n",
       "5  ye men rape women but women also rape men yet ...  \n",
       "6        my husband beat me frequent wife tell court  "
      ]
     },
     "execution_count": 9,
     "metadata": {},
     "output_type": "execute_result"
    }
   ],
   "source": [
    "train.head(7)"
   ]
  },
  {
   "cell_type": "markdown",
   "id": "0dd89070",
   "metadata": {},
   "source": [
    "### Convert Into Lower case "
   ]
  },
  {
   "cell_type": "code",
   "execution_count": 10,
   "id": "25374ba3",
   "metadata": {},
   "outputs": [],
   "source": [
    "# Convert into lower case\n",
    "train['processedtext']= train['processedtext'].str.lower()\n"
   ]
  },
  {
   "cell_type": "markdown",
   "id": "d2f0131d",
   "metadata": {},
   "source": [
    "### Removing Punctuation from Tweets"
   ]
  },
  {
   "cell_type": "code",
   "execution_count": 11,
   "id": "60873d1c",
   "metadata": {},
   "outputs": [],
   "source": [
    "# Removing Punctuation from the Tweets\n",
    "import string\n",
    "\n",
    "train['processedtext']= train['processedtext'].str.strip(string.punctuation)\n"
   ]
  },
  {
   "cell_type": "markdown",
   "id": "97d79b86",
   "metadata": {},
   "source": [
    "### Removing Intergers from the tweets"
   ]
  },
  {
   "cell_type": "code",
   "execution_count": 12,
   "id": "d3ea1c78",
   "metadata": {},
   "outputs": [],
   "source": [
    "# Removing Intergers from the tweets\n",
    "train['processedtext'] = [x for x in train['processedtext'] if not isinstance(x, int)]\n"
   ]
  },
  {
   "cell_type": "markdown",
   "id": "b455a420",
   "metadata": {},
   "source": [
    "### Removing Emojis from the tweets"
   ]
  },
  {
   "cell_type": "code",
   "execution_count": 13,
   "id": "532c689a",
   "metadata": {},
   "outputs": [],
   "source": [
    "# Removing Emojis from the tweets\n",
    "train['processedtext'] = [item.encode('ascii', 'ignore').decode('ascii') for item in train['processedtext'] ]\n"
   ]
  },
  {
   "cell_type": "markdown",
   "id": "0854772a",
   "metadata": {},
   "source": [
    "### Lable Encoding our target variable "
   ]
  },
  {
   "cell_type": "code",
   "execution_count": 14,
   "id": "dd7b6d33",
   "metadata": {},
   "outputs": [
    {
     "data": {
      "text/html": [
       "<div>\n",
       "<style scoped>\n",
       "    .dataframe tbody tr th:only-of-type {\n",
       "        vertical-align: middle;\n",
       "    }\n",
       "\n",
       "    .dataframe tbody tr th {\n",
       "        vertical-align: top;\n",
       "    }\n",
       "\n",
       "    .dataframe thead th {\n",
       "        text-align: right;\n",
       "    }\n",
       "</style>\n",
       "<table border=\"1\" class=\"dataframe\">\n",
       "  <thead>\n",
       "    <tr style=\"text-align: right;\">\n",
       "      <th></th>\n",
       "      <th>tweet</th>\n",
       "      <th>type</th>\n",
       "      <th>processedtext</th>\n",
       "    </tr>\n",
       "  </thead>\n",
       "  <tbody>\n",
       "    <tr>\n",
       "      <th>0</th>\n",
       "      <td>Had a dream i got raped last night. By a guy i...</td>\n",
       "      <td>4</td>\n",
       "      <td>had dream got rape last night by guy work actu...</td>\n",
       "    </tr>\n",
       "    <tr>\n",
       "      <th>1</th>\n",
       "      <td>he thought the word raped means sex and told m...</td>\n",
       "      <td>4</td>\n",
       "      <td>thought word rape mean sex told saw dog rape e...</td>\n",
       "    </tr>\n",
       "    <tr>\n",
       "      <th>2</th>\n",
       "      <td>She NOT TALKING TO ME I WAS RAPED BY 2 MEN 1 M...</td>\n",
       "      <td>4</td>\n",
       "      <td>she not talk to me i wa rape by men molest he ...</td>\n",
       "    </tr>\n",
       "    <tr>\n",
       "      <th>3</th>\n",
       "      <td>I was sexually abused for 3 years at age 4 to ...</td>\n",
       "      <td>4</td>\n",
       "      <td>i sexual abus year age no one believ i rape br...</td>\n",
       "    </tr>\n",
       "    <tr>\n",
       "      <th>4</th>\n",
       "      <td>Chessy Prout can do better by telling the trut...</td>\n",
       "      <td>4</td>\n",
       "      <td>chessi prout better tell truth by sell owen la...</td>\n",
       "    </tr>\n",
       "    <tr>\n",
       "      <th>...</th>\n",
       "      <td>...</td>\n",
       "      <td>...</td>\n",
       "      <td>...</td>\n",
       "    </tr>\n",
       "    <tr>\n",
       "      <th>39645</th>\n",
       "      <td>ENTRY 1299: 21F. 23M, BF’s cousin. Got drunk o...</td>\n",
       "      <td>4</td>\n",
       "      <td>entri f m bf cousin got drunk halloween i like...</td>\n",
       "    </tr>\n",
       "    <tr>\n",
       "      <th>39646</th>\n",
       "      <td>So you’re telling me Emmanuel Macron was groom...</td>\n",
       "      <td>4</td>\n",
       "      <td>so tell emmanuel macron groom mayb even rape c...</td>\n",
       "    </tr>\n",
       "    <tr>\n",
       "      <th>39647</th>\n",
       "      <td>My wife regularly beats me, I get dirty slaps ...</td>\n",
       "      <td>1</td>\n",
       "      <td>my wife regularli beat i get dirti slap husban...</td>\n",
       "    </tr>\n",
       "    <tr>\n",
       "      <th>39648</th>\n",
       "      <td>Me: Hey babe! Police officer boyfriend: is tha...</td>\n",
       "      <td>4</td>\n",
       "      <td>me hey babe polic offic boyfriend me ye babe g...</td>\n",
       "    </tr>\n",
       "    <tr>\n",
       "      <th>39649</th>\n",
       "      <td>“I will take accountability if you think it’s ...</td>\n",
       "      <td>4</td>\n",
       "      <td>i take account think ok live tenn jail rest li...</td>\n",
       "    </tr>\n",
       "  </tbody>\n",
       "</table>\n",
       "<p>100 rows × 3 columns</p>\n",
       "</div>"
      ],
      "text/plain": [
       "                                                   tweet  type  \\\n",
       "0      Had a dream i got raped last night. By a guy i...     4   \n",
       "1      he thought the word raped means sex and told m...     4   \n",
       "2      She NOT TALKING TO ME I WAS RAPED BY 2 MEN 1 M...     4   \n",
       "3      I was sexually abused for 3 years at age 4 to ...     4   \n",
       "4      Chessy Prout can do better by telling the trut...     4   \n",
       "...                                                  ...   ...   \n",
       "39645  ENTRY 1299: 21F. 23M, BF’s cousin. Got drunk o...     4   \n",
       "39646  So you’re telling me Emmanuel Macron was groom...     4   \n",
       "39647  My wife regularly beats me, I get dirty slaps ...     1   \n",
       "39648  Me: Hey babe! Police officer boyfriend: is tha...     4   \n",
       "39649  “I will take accountability if you think it’s ...     4   \n",
       "\n",
       "                                           processedtext  \n",
       "0      had dream got rape last night by guy work actu...  \n",
       "1      thought word rape mean sex told saw dog rape e...  \n",
       "2      she not talk to me i wa rape by men molest he ...  \n",
       "3      i sexual abus year age no one believ i rape br...  \n",
       "4      chessi prout better tell truth by sell owen la...  \n",
       "...                                                  ...  \n",
       "39645  entri f m bf cousin got drunk halloween i like...  \n",
       "39646  so tell emmanuel macron groom mayb even rape c...  \n",
       "39647  my wife regularli beat i get dirti slap husban...  \n",
       "39648  me hey babe polic offic boyfriend me ye babe g...  \n",
       "39649  i take account think ok live tenn jail rest li...  \n",
       "\n",
       "[100 rows x 3 columns]"
      ]
     },
     "execution_count": 14,
     "metadata": {},
     "output_type": "execute_result"
    }
   ],
   "source": [
    "#import LableEncoder module \n",
    "from sklearn.preprocessing import LabelEncoder\n",
    "\n",
    "le = LabelEncoder()\n",
    "\n",
    "train['type'] = le.fit_transform(train['type'])\n",
    "\n",
    "train.head(50).append(train.tail(50))"
   ]
  },
  {
   "cell_type": "markdown",
   "id": "db2cf9c7",
   "metadata": {},
   "source": [
    "### Text Vectorization using TF-IDF Vectorizer"
   ]
  },
  {
   "cell_type": "code",
   "execution_count": 15,
   "id": "845c465b",
   "metadata": {},
   "outputs": [
    {
     "name": "stdout",
     "output_type": "stream",
     "text": [
      "n_samples: 39650, n_features: 25954\n"
     ]
    }
   ],
   "source": [
    "from sklearn.feature_extraction.text import TfidfVectorizer\n",
    "\n",
    "\n",
    "vectorizer_tfidf = TfidfVectorizer(stop_words='english', max_df=0.7)\n",
    "\n",
    "vector=vectorizer_tfidf.fit_transform(train['processedtext'].values.astype('U'))\n",
    "\n",
    "#print(vectorizer_tfidf.get_feature_names()[:10])\n",
    "print(\"n_samples: %d, n_features: %d\" % vector.shape)\n"
   ]
  },
  {
   "cell_type": "code",
   "execution_count": 16,
   "id": "c38128b4",
   "metadata": {},
   "outputs": [
    {
     "name": "stdout",
     "output_type": "stream",
     "text": [
      "             tweet1    tweet2    tweet3    tweet4    tweet5\n",
      "smoke      0.635930  0.000000  0.000000  0.000000  0.000000\n",
      "word       0.000000  0.294805  0.301498  0.000000  0.000000\n",
      "nother     0.000000  0.000000  0.593019  0.000000  0.000000\n",
      "eachoth    0.000000  0.552542  0.000000  0.000000  0.000000\n",
      "bro        0.000000  0.000000  0.000000  0.473031  0.000000\n",
      "chessi     0.000000  0.000000  0.000000  0.000000  0.463254\n",
      "classroom  0.000000  0.000000  0.000000  0.373405  0.000000\n",
      "dog        0.000000  0.362656  0.000000  0.000000  0.000000\n",
      "wtf        0.000000  0.348267  0.000000  0.000000  0.000000\n",
      "sexual     0.187536  0.000000  0.000000  0.159266  0.000000\n"
     ]
    }
   ],
   "source": [
    "# Select the first five documents from the data set\n",
    "tf_idf = pd.DataFrame(vector.todense()).iloc[:5]  \n",
    "tf_idf.columns = vectorizer_tfidf.get_feature_names()\n",
    "tfidf_matrix = tf_idf.T\n",
    "tfidf_matrix.columns = ['tweet'+ str(i) for i in range(1, 6)]\n",
    "tfidf_matrix['count'] = tfidf_matrix.sum(axis=1)\n",
    "\n",
    "# Top 10 words \n",
    "tfidf_matrix = tfidf_matrix.sort_values(by ='count', ascending=False)[:10] \n",
    "\n",
    "# Print the first 10 words \n",
    "print(tfidf_matrix.drop(columns=['count']).head(10))"
   ]
  },
  {
   "cell_type": "code",
   "execution_count": 17,
   "id": "c06702db",
   "metadata": {},
   "outputs": [
    {
     "name": "stdout",
     "output_type": "stream",
     "text": [
      "(39650, 3)\n",
      "(27755, 25954)\n",
      "(11895, 25954)\n"
     ]
    }
   ],
   "source": [
    "# Splitting the dataset to training and testing sets\n",
    "from sklearn.model_selection import train_test_split\n",
    "\n",
    "\n",
    "target = train['type']\n",
    "\n",
    "\n",
    "X_train, X_test, y_train, y_test = train_test_split(vector, target, test_size=0.30, random_state=100, stratify = target)\n",
    "\n",
    "print(train.shape); print(X_train.shape); print(X_test.shape)"
   ]
  },
  {
   "cell_type": "code",
   "execution_count": 18,
   "id": "beee0e3d",
   "metadata": {},
   "outputs": [
    {
     "data": {
      "text/plain": [
       "['GBV/Preprocessing/vectorizer_tfidf.pkl']"
      ]
     },
     "execution_count": 18,
     "metadata": {},
     "output_type": "execute_result"
    }
   ],
   "source": [
    "# how to save the model into the folder \n",
    "import joblib\n",
    "\n",
    "joblib.dump(vectorizer_tfidf, 'GBV/Preprocessing/vectorizer_tfidf.pkl')"
   ]
  },
  {
   "cell_type": "markdown",
   "id": "05987943",
   "metadata": {},
   "source": [
    "### Data Imbalancing"
   ]
  },
  {
   "cell_type": "code",
   "execution_count": 19,
   "id": "5478f125",
   "metadata": {},
   "outputs": [],
   "source": [
    "# !pip install -U imbalanced-learn"
   ]
  },
  {
   "cell_type": "code",
   "execution_count": 20,
   "id": "0220e523",
   "metadata": {},
   "outputs": [],
   "source": [
    "from imblearn.under_sampling import RandomUnderSampler"
   ]
  },
  {
   "cell_type": "code",
   "execution_count": 27,
   "id": "6d658934",
   "metadata": {},
   "outputs": [],
   "source": [
    "from sklearn.model_selection import train_test_split\n",
    "\n",
    "target = train['type']\n",
    "ros = RandomUnderSampler()\n",
    "x_ros, y_ros = ros.fit_resample(vector, target)\n",
    "\n",
    "x_train_ros, x_test, y_train_ros, y_test = train_test_split(x_ros, y_ros, test_size=0.30, random_state=100, stratify = y_ros)"
   ]
  },
  {
   "cell_type": "code",
   "execution_count": 28,
   "id": "55db761a",
   "metadata": {},
   "outputs": [
    {
     "data": {
      "image/png": "[encoded data removed]",
      "text/plain": [
       "<Figure size 432x288 with 1 Axes>"
      ]
     },
     "metadata": {},
     "output_type": "display_data"
    }
   ],
   "source": [
    "ax = y_train_ros.value_counts().plot.pie(autopct='%.2f')\n"
   ]
  },
  {
   "cell_type": "code",
   "execution_count": 30,
   "id": "26cbe3ac",
   "metadata": {},
   "outputs": [
    {
     "name": "stdout",
     "output_type": "stream",
     "text": [
      "0    188\n",
      "1    188\n",
      "2    188\n",
      "3    188\n",
      "4    188\n",
      "Name: type, dtype: int64\n"
     ]
    }
   ],
   "source": [
    "print(y_ros.value_counts())"
   ]
  },
  {
   "cell_type": "markdown",
   "id": "878fd05d",
   "metadata": {},
   "source": [
    "# RandomForestClassifier"
   ]
  },
  {
   "cell_type": "code",
   "execution_count": 31,
   "id": "f308e385",
   "metadata": {},
   "outputs": [],
   "source": [
    "# # Fitting Random Forest Classification to the dataset\n",
    "# import the classifier\n",
    "from sklearn.ensemble import RandomForestClassifier\n",
    "\n",
    "# # create classifier object\n",
    "classifier = RandomForestClassifier(n_estimators = 100, random_state = 0)\n",
    "\n",
    "# # fit the classifier with x and y data\n",
    "classifier.fit(x_train_ros, y_train_ros)\n",
    "\n",
    "pred = classifier.predict(x_test)\n"
   ]
  },
  {
   "cell_type": "code",
   "execution_count": 32,
   "id": "63ded657",
   "metadata": {},
   "outputs": [
    {
     "name": "stdout",
     "output_type": "stream",
     "text": [
      "0.9713260344887893\n"
     ]
    }
   ],
   "source": [
    "# # Calculating the f1 score\n",
    "from sklearn import metrics\n",
    "f1_score = metrics.f1_score(y_test,pred,average='macro')\n",
    "print(f1_score)"
   ]
  },
  {
   "cell_type": "code",
   "execution_count": 33,
   "id": "32cf86e8",
   "metadata": {},
   "outputs": [
    {
     "name": "stdout",
     "output_type": "stream",
     "text": [
      "              precision    recall  f1-score   support\n",
      "\n",
      "           0       0.98      1.00      0.99        57\n",
      "           1       0.96      0.98      0.97        56\n",
      "           2       0.96      0.98      0.97        56\n",
      "           3       0.98      1.00      0.99        56\n",
      "           4       0.96      0.89      0.93        57\n",
      "\n",
      "    accuracy                           0.97       282\n",
      "   macro avg       0.97      0.97      0.97       282\n",
      "weighted avg       0.97      0.97      0.97       282\n",
      "\n"
     ]
    }
   ],
   "source": [
    "from sklearn.metrics import classification_report\n",
    "print(classification_report(y_test,pred))\n"
   ]
  },
  {
   "cell_type": "code",
   "execution_count": 34,
   "id": "226e78c5",
   "metadata": {},
   "outputs": [
    {
     "data": {
      "text/plain": [
       "['GBV/Model/RandomForestClassifier.pkl']"
      ]
     },
     "execution_count": 34,
     "metadata": {},
     "output_type": "execute_result"
    }
   ],
   "source": [
    "# # how to save the model into the folder \n",
    "import joblib\n",
    "\n",
    "joblib.dump(classifier, 'GBV/Model/RandomForestClassifier.pkl')"
   ]
  },
  {
   "cell_type": "markdown",
   "id": "9cbc6cf9",
   "metadata": {},
   "source": [
    "# OTHER ALGORITHMS"
   ]
  },
  {
   "cell_type": "code",
   "execution_count": 35,
   "id": "676a8513",
   "metadata": {},
   "outputs": [],
   "source": [
    "# !pip install xgboost"
   ]
  },
  {
   "cell_type": "markdown",
   "id": "0ad1a59a",
   "metadata": {},
   "source": [
    "## 1. XgBoost after Over balancing"
   ]
  },
  {
   "cell_type": "code",
   "execution_count": 36,
   "id": "51859f0e",
   "metadata": {},
   "outputs": [
    {
     "data": {
      "text/plain": [
       "0.9610571963273407"
      ]
     },
     "execution_count": 36,
     "metadata": {},
     "output_type": "execute_result"
    }
   ],
   "source": [
    "# evaluate xgboost algorithm for classification\n",
    "from sklearn.metrics import accuracy_score\n",
    "from xgboost import XGBClassifier\n",
    "from sklearn import metrics\n",
    "\n",
    "# split the data test\n",
    "from sklearn.model_selection import train_test_split\n",
    "# target = train['type']\n",
    "\n",
    "# x_train,x_test,y_train,y_test=train_test_split(vector, target, test_size=0.30, random_state=100, stratify = target)\n",
    "\n",
    "\n",
    "# define the model\n",
    "xg_Classifier = XGBClassifier()\n",
    "\n",
    "#fit the model\n",
    "xg_Classifier.fit(x_train_ros, y_train_ros)\n",
    "\n",
    "# evaluate the model\n",
    "xg_pred = xg_Classifier.predict(x_test)\n",
    "\n",
    "# Calculating the f1 score\n",
    "f1_score=metrics.f1_score(y_test,xg_pred,average='macro')\n",
    "f1_score"
   ]
  },
  {
   "cell_type": "code",
   "execution_count": 37,
   "id": "cd59df64",
   "metadata": {
    "scrolled": true
   },
   "outputs": [
    {
     "name": "stdout",
     "output_type": "stream",
     "text": [
      "              precision    recall  f1-score   support\n",
      "\n",
      "           0       0.98      0.98      0.98        57\n",
      "           1       0.96      0.98      0.97        56\n",
      "           2       0.96      0.95      0.95        56\n",
      "           3       0.98      0.98      0.98        56\n",
      "           4       0.91      0.91      0.91        57\n",
      "\n",
      "    accuracy                           0.96       282\n",
      "   macro avg       0.96      0.96      0.96       282\n",
      "weighted avg       0.96      0.96      0.96       282\n",
      "\n"
     ]
    }
   ],
   "source": [
    "from sklearn.metrics import classification_report\n",
    "print(classification_report(y_test,xg_pred))"
   ]
  },
  {
   "cell_type": "code",
   "execution_count": 38,
   "id": "49dd93d5",
   "metadata": {},
   "outputs": [
    {
     "data": {
      "text/plain": [
       "<Figure size 2160x2160 with 0 Axes>"
      ]
     },
     "metadata": {},
     "output_type": "display_data"
    },
    {
     "data": {
      "image/png": "[encoded data removed]",
      "text/plain": [
       "<Figure size 432x288 with 2 Axes>"
      ]
     },
     "metadata": {
      "needs_background": "light"
     },
     "output_type": "display_data"
    }
   ],
   "source": [
    "from sklearn.metrics import confusion_matrix, ConfusionMatrixDisplay\n",
    "plt.figure(figsize=(30,30))\n",
    "#Compute confusion matrix to evaluate the accuray of a classification\n",
    "confusion_table = confusion_matrix(y_test,xg_pred)\n",
    "\n",
    "#Confusion matrix visualization\n",
    "cm_display = ConfusionMatrixDisplay(confusion_matrix=confusion_table, display_labels=[0,1,2,3,4])\n",
    "\n",
    "#create the plot\n",
    "cm_display.plot()\n",
    "\n",
    "#display the plot\n",
    "plt.show()\n"
   ]
  },
  {
   "cell_type": "markdown",
   "id": "7725a18a",
   "metadata": {},
   "source": [
    " ### 0 - 'Harmful_Traditional_practice', 1 - 'Physical_violence', 2 - 'economic_violence', 3 - 'emotional_violence',  4 - 'sexual_violence'   "
   ]
  },
  {
   "cell_type": "code",
   "execution_count": 39,
   "id": "b3036bb2",
   "metadata": {},
   "outputs": [
    {
     "data": {
      "text/plain": [
       "['GBV/Model/XGBClassifier_model.pkl']"
      ]
     },
     "execution_count": 39,
     "metadata": {},
     "output_type": "execute_result"
    }
   ],
   "source": [
    "# how to save the model into the folder \n",
    "import joblib\n",
    "\n",
    "joblib.dump(xg_Classifier, 'GBV/Model/XGBClassifier_model.pkl')"
   ]
  },
  {
   "cell_type": "markdown",
   "id": "0e1af549",
   "metadata": {},
   "source": [
    "## 2. Lightgbm after balancing"
   ]
  },
  {
   "cell_type": "code",
   "execution_count": 40,
   "id": "24306727",
   "metadata": {},
   "outputs": [],
   "source": [
    "# installing lightgbm\n",
    "\n",
    "# !pip install lightgbm"
   ]
  },
  {
   "cell_type": "code",
   "execution_count": 42,
   "id": "446cbdb8",
   "metadata": {},
   "outputs": [
    {
     "data": {
      "text/plain": [
       "0.9644093488715914"
      ]
     },
     "execution_count": 42,
     "metadata": {},
     "output_type": "execute_result"
    }
   ],
   "source": [
    "# evaluate lightgbm algorithm for classification\n",
    "from sklearn.metrics import accuracy_score\n",
    "from lightgbm import LGBMClassifier\n",
    "from sklearn import metrics\n",
    "\n",
    "# split the data test\n",
    "from sklearn.model_selection import train_test_split\n",
    "# target = train['type']\n",
    "\n",
    "# x_train,x_test,y_train,y_test=train_test_split(vector, target, test_size=0.30, random_state=100, stratify = target)\n",
    "\n",
    "\n",
    "# define the model\n",
    "l_Classifier = LGBMClassifier()\n",
    "\n",
    "#fit the model\n",
    "l_Classifier.fit(x_train_ros, y_train_ros)\n",
    "\n",
    "# evaluate the model\n",
    "l_pred = l_Classifier.predict(x_test)\n",
    "\n",
    "# Calculating the f1 score\n",
    "f1_score=metrics.f1_score(y_test,l_pred,average='macro')\n",
    "f1_score"
   ]
  },
  {
   "cell_type": "code",
   "execution_count": 43,
   "id": "e8ebbb42",
   "metadata": {},
   "outputs": [
    {
     "name": "stdout",
     "output_type": "stream",
     "text": [
      "              precision    recall  f1-score   support\n",
      "\n",
      "           0       0.98      1.00      0.99        57\n",
      "           1       0.95      0.98      0.96        56\n",
      "           2       0.98      0.96      0.97        56\n",
      "           3       0.98      0.98      0.98        56\n",
      "           4       0.93      0.89      0.91        57\n",
      "\n",
      "    accuracy                           0.96       282\n",
      "   macro avg       0.96      0.96      0.96       282\n",
      "weighted avg       0.96      0.96      0.96       282\n",
      "\n"
     ]
    }
   ],
   "source": [
    "from sklearn.metrics import classification_report\n",
    "print(classification_report(y_test,l_pred))"
   ]
  },
  {
   "cell_type": "code",
   "execution_count": 44,
   "id": "e679edfe",
   "metadata": {},
   "outputs": [
    {
     "data": {
      "text/plain": [
       "<Figure size 2160x2160 with 0 Axes>"
      ]
     },
     "metadata": {},
     "output_type": "display_data"
    },
    {
     "data": {
      "image/png": "[encoded data removed]",
      "text/plain": [
       "<Figure size 432x288 with 2 Axes>"
      ]
     },
     "metadata": {
      "needs_background": "light"
     },
     "output_type": "display_data"
    }
   ],
   "source": [
    "from sklearn.metrics import confusion_matrix, ConfusionMatrixDisplay\n",
    "plt.figure(figsize=(30,30))\n",
    "#Compute confusion matrix to evaluate the accuray of a classification\n",
    "confusion_table = confusion_matrix(y_test,l_pred)\n",
    "\n",
    "#Confusion matrix visualization\n",
    "cm_display = ConfusionMatrixDisplay(confusion_matrix=confusion_table, display_labels=[0,1,2,3,4])\n",
    "\n",
    "#create the plot\n",
    "cm_display.plot()\n",
    "\n",
    "#display the plot\n",
    "plt.show()\n"
   ]
  },
  {
   "cell_type": "markdown",
   "id": "52105432",
   "metadata": {},
   "source": [
    " ### 0 - 'Harmful_Traditional_practice', 1 - 'Physical_violence', 2 - 'economic_violence', 3 - 'emotional_violence',  4 - 'sexual_violence'   "
   ]
  },
  {
   "cell_type": "code",
   "execution_count": 45,
   "id": "8affd907",
   "metadata": {},
   "outputs": [
    {
     "data": {
      "text/plain": [
       "['GBV/Model/LGBMClassifier.pkl']"
      ]
     },
     "execution_count": 45,
     "metadata": {},
     "output_type": "execute_result"
    }
   ],
   "source": [
    "# how to save the model into the folder \n",
    "import joblib\n",
    "\n",
    "joblib.dump(l_Classifier, 'GBV/Model/LGBMClassifier.pkl')"
   ]
  },
  {
   "cell_type": "markdown",
   "id": "196cb08e",
   "metadata": {},
   "source": [
    "## 3. CatBoost after Balancing"
   ]
  },
  {
   "cell_type": "code",
   "execution_count": null,
   "id": "4a138e7b",
   "metadata": {},
   "outputs": [],
   "source": [
    "# installing catboost\n",
    "# !pip install catBoost"
   ]
  },
  {
   "cell_type": "code",
   "execution_count": 46,
   "id": "ed878383",
   "metadata": {
    "scrolled": true
   },
   "outputs": [
    {
     "name": "stdout",
     "output_type": "stream",
     "text": [
      "Learning rate set to 0.077456\n",
      "0:\tlearn: 1.4461770\ttotal: 223ms\tremaining: 3m 42s\n",
      "1:\tlearn: 1.3261739\ttotal: 282ms\tremaining: 2m 20s\n",
      "2:\tlearn: 1.1885921\ttotal: 354ms\tremaining: 1m 57s\n",
      "3:\tlearn: 1.0875943\ttotal: 428ms\tremaining: 1m 46s\n",
      "4:\tlearn: 1.0186874\ttotal: 499ms\tremaining: 1m 39s\n",
      "5:\tlearn: 0.9442930\ttotal: 569ms\tremaining: 1m 34s\n",
      "6:\tlearn: 0.8830906\ttotal: 639ms\tremaining: 1m 30s\n",
      "7:\tlearn: 0.8159289\ttotal: 709ms\tremaining: 1m 27s\n",
      "8:\tlearn: 0.7670354\ttotal: 779ms\tremaining: 1m 25s\n",
      "9:\tlearn: 0.7272744\ttotal: 852ms\tremaining: 1m 24s\n",
      "10:\tlearn: 0.6802523\ttotal: 922ms\tremaining: 1m 22s\n",
      "11:\tlearn: 0.6407439\ttotal: 999ms\tremaining: 1m 22s\n",
      "12:\tlearn: 0.5964199\ttotal: 1.07s\tremaining: 1m 21s\n",
      "13:\tlearn: 0.5558017\ttotal: 1.14s\tremaining: 1m 20s\n",
      "14:\tlearn: 0.5208410\ttotal: 1.2s\tremaining: 1m 18s\n",
      "15:\tlearn: 0.4946834\ttotal: 1.27s\tremaining: 1m 18s\n",
      "16:\tlearn: 0.4642375\ttotal: 1.34s\tremaining: 1m 17s\n",
      "17:\tlearn: 0.4348596\ttotal: 1.42s\tremaining: 1m 17s\n",
      "18:\tlearn: 0.4171334\ttotal: 1.49s\tremaining: 1m 16s\n",
      "19:\tlearn: 0.3929703\ttotal: 1.56s\tremaining: 1m 16s\n",
      "20:\tlearn: 0.3728593\ttotal: 1.63s\tremaining: 1m 16s\n",
      "21:\tlearn: 0.3575967\ttotal: 1.71s\tremaining: 1m 16s\n",
      "22:\tlearn: 0.3440779\ttotal: 1.78s\tremaining: 1m 15s\n",
      "23:\tlearn: 0.3314026\ttotal: 1.85s\tremaining: 1m 15s\n",
      "24:\tlearn: 0.3169551\ttotal: 1.92s\tremaining: 1m 14s\n",
      "25:\tlearn: 0.3081505\ttotal: 2s\tremaining: 1m 14s\n",
      "26:\tlearn: 0.2977529\ttotal: 2.06s\tremaining: 1m 14s\n",
      "27:\tlearn: 0.2845941\ttotal: 2.13s\tremaining: 1m 14s\n",
      "28:\tlearn: 0.2753575\ttotal: 2.2s\tremaining: 1m 13s\n",
      "29:\tlearn: 0.2669737\ttotal: 2.26s\tremaining: 1m 13s\n",
      "30:\tlearn: 0.2560686\ttotal: 2.32s\tremaining: 1m 12s\n",
      "31:\tlearn: 0.2485994\ttotal: 2.39s\tremaining: 1m 12s\n",
      "32:\tlearn: 0.2438282\ttotal: 2.46s\tremaining: 1m 12s\n",
      "33:\tlearn: 0.2373804\ttotal: 2.54s\tremaining: 1m 12s\n",
      "34:\tlearn: 0.2311140\ttotal: 2.6s\tremaining: 1m 11s\n",
      "35:\tlearn: 0.2285500\ttotal: 2.67s\tremaining: 1m 11s\n",
      "36:\tlearn: 0.2246028\ttotal: 2.74s\tremaining: 1m 11s\n",
      "37:\tlearn: 0.2161822\ttotal: 2.81s\tremaining: 1m 11s\n",
      "38:\tlearn: 0.2082790\ttotal: 2.87s\tremaining: 1m 10s\n",
      "39:\tlearn: 0.2056238\ttotal: 2.93s\tremaining: 1m 10s\n",
      "40:\tlearn: 0.2054246\ttotal: 3s\tremaining: 1m 10s\n",
      "41:\tlearn: 0.2044846\ttotal: 3.07s\tremaining: 1m 10s\n",
      "42:\tlearn: 0.2033934\ttotal: 3.15s\tremaining: 1m 10s\n",
      "43:\tlearn: 0.2031890\ttotal: 3.22s\tremaining: 1m 10s\n",
      "44:\tlearn: 0.2022700\ttotal: 3.29s\tremaining: 1m 9s\n",
      "45:\tlearn: 0.2006095\ttotal: 3.36s\tremaining: 1m 9s\n",
      "46:\tlearn: 0.1990088\ttotal: 3.43s\tremaining: 1m 9s\n",
      "47:\tlearn: 0.1983412\ttotal: 3.5s\tremaining: 1m 9s\n",
      "48:\tlearn: 0.1975792\ttotal: 3.58s\tremaining: 1m 9s\n",
      "49:\tlearn: 0.1951909\ttotal: 3.65s\tremaining: 1m 9s\n",
      "50:\tlearn: 0.1940159\ttotal: 3.73s\tremaining: 1m 9s\n",
      "51:\tlearn: 0.1937738\ttotal: 3.8s\tremaining: 1m 9s\n",
      "52:\tlearn: 0.1887732\ttotal: 3.88s\tremaining: 1m 9s\n",
      "53:\tlearn: 0.1811489\ttotal: 3.95s\tremaining: 1m 9s\n",
      "54:\tlearn: 0.1796632\ttotal: 4.02s\tremaining: 1m 9s\n",
      "55:\tlearn: 0.1753125\ttotal: 4.1s\tremaining: 1m 9s\n",
      "56:\tlearn: 0.1751638\ttotal: 4.17s\tremaining: 1m 8s\n",
      "57:\tlearn: 0.1750439\ttotal: 4.23s\tremaining: 1m 8s\n",
      "58:\tlearn: 0.1732994\ttotal: 4.29s\tremaining: 1m 8s\n",
      "59:\tlearn: 0.1730634\ttotal: 4.35s\tremaining: 1m 8s\n",
      "60:\tlearn: 0.1709945\ttotal: 4.42s\tremaining: 1m 8s\n",
      "61:\tlearn: 0.1678239\ttotal: 4.5s\tremaining: 1m 8s\n",
      "62:\tlearn: 0.1674774\ttotal: 4.57s\tremaining: 1m 8s\n",
      "63:\tlearn: 0.1673058\ttotal: 4.65s\tremaining: 1m 7s\n",
      "64:\tlearn: 0.1657528\ttotal: 4.72s\tremaining: 1m 7s\n",
      "65:\tlearn: 0.1645385\ttotal: 4.78s\tremaining: 1m 7s\n",
      "66:\tlearn: 0.1640434\ttotal: 4.85s\tremaining: 1m 7s\n",
      "67:\tlearn: 0.1604756\ttotal: 4.91s\tremaining: 1m 7s\n",
      "68:\tlearn: 0.1582846\ttotal: 4.97s\tremaining: 1m 7s\n",
      "69:\tlearn: 0.1578206\ttotal: 5.04s\tremaining: 1m 6s\n",
      "70:\tlearn: 0.1576003\ttotal: 5.1s\tremaining: 1m 6s\n",
      "71:\tlearn: 0.1573210\ttotal: 5.17s\tremaining: 1m 6s\n",
      "72:\tlearn: 0.1571787\ttotal: 5.24s\tremaining: 1m 6s\n",
      "73:\tlearn: 0.1570012\ttotal: 5.3s\tremaining: 1m 6s\n",
      "74:\tlearn: 0.1568026\ttotal: 5.37s\tremaining: 1m 6s\n",
      "75:\tlearn: 0.1566749\ttotal: 5.44s\tremaining: 1m 6s\n",
      "76:\tlearn: 0.1530619\ttotal: 5.51s\tremaining: 1m 6s\n",
      "77:\tlearn: 0.1524384\ttotal: 5.57s\tremaining: 1m 5s\n",
      "78:\tlearn: 0.1517742\ttotal: 5.64s\tremaining: 1m 5s\n",
      "79:\tlearn: 0.1516010\ttotal: 5.71s\tremaining: 1m 5s\n",
      "80:\tlearn: 0.1491806\ttotal: 5.78s\tremaining: 1m 5s\n",
      "81:\tlearn: 0.1490019\ttotal: 5.85s\tremaining: 1m 5s\n",
      "82:\tlearn: 0.1485940\ttotal: 5.92s\tremaining: 1m 5s\n",
      "83:\tlearn: 0.1482517\ttotal: 5.98s\tremaining: 1m 5s\n",
      "84:\tlearn: 0.1480999\ttotal: 6.05s\tremaining: 1m 5s\n",
      "85:\tlearn: 0.1468821\ttotal: 6.13s\tremaining: 1m 5s\n",
      "86:\tlearn: 0.1466756\ttotal: 6.19s\tremaining: 1m 4s\n",
      "87:\tlearn: 0.1465099\ttotal: 6.27s\tremaining: 1m 4s\n",
      "88:\tlearn: 0.1462931\ttotal: 6.33s\tremaining: 1m 4s\n",
      "89:\tlearn: 0.1460670\ttotal: 6.4s\tremaining: 1m 4s\n",
      "90:\tlearn: 0.1455298\ttotal: 6.48s\tremaining: 1m 4s\n",
      "91:\tlearn: 0.1449868\ttotal: 6.55s\tremaining: 1m 4s\n",
      "92:\tlearn: 0.1447771\ttotal: 6.62s\tremaining: 1m 4s\n",
      "93:\tlearn: 0.1445740\ttotal: 6.7s\tremaining: 1m 4s\n",
      "94:\tlearn: 0.1444119\ttotal: 6.76s\tremaining: 1m 4s\n",
      "95:\tlearn: 0.1441909\ttotal: 6.83s\tremaining: 1m 4s\n",
      "96:\tlearn: 0.1440324\ttotal: 6.9s\tremaining: 1m 4s\n",
      "97:\tlearn: 0.1438749\ttotal: 6.96s\tremaining: 1m 4s\n",
      "98:\tlearn: 0.1436931\ttotal: 7.03s\tremaining: 1m 4s\n",
      "99:\tlearn: 0.1413785\ttotal: 7.11s\tremaining: 1m 3s\n",
      "100:\tlearn: 0.1411559\ttotal: 7.18s\tremaining: 1m 3s\n",
      "101:\tlearn: 0.1409344\ttotal: 7.25s\tremaining: 1m 3s\n",
      "102:\tlearn: 0.1407066\ttotal: 7.32s\tremaining: 1m 3s\n",
      "103:\tlearn: 0.1397024\ttotal: 7.39s\tremaining: 1m 3s\n",
      "104:\tlearn: 0.1395532\ttotal: 7.47s\tremaining: 1m 3s\n",
      "105:\tlearn: 0.1393407\ttotal: 7.54s\tremaining: 1m 3s\n",
      "106:\tlearn: 0.1391633\ttotal: 7.62s\tremaining: 1m 3s\n",
      "107:\tlearn: 0.1389863\ttotal: 7.69s\tremaining: 1m 3s\n",
      "108:\tlearn: 0.1387164\ttotal: 7.77s\tremaining: 1m 3s\n",
      "109:\tlearn: 0.1385443\ttotal: 7.84s\tremaining: 1m 3s\n",
      "110:\tlearn: 0.1383640\ttotal: 7.9s\tremaining: 1m 3s\n",
      "111:\tlearn: 0.1382155\ttotal: 7.98s\tremaining: 1m 3s\n",
      "112:\tlearn: 0.1379054\ttotal: 8.05s\tremaining: 1m 3s\n",
      "113:\tlearn: 0.1377758\ttotal: 8.13s\tremaining: 1m 3s\n",
      "114:\tlearn: 0.1376082\ttotal: 8.19s\tremaining: 1m 3s\n",
      "115:\tlearn: 0.1374236\ttotal: 8.26s\tremaining: 1m 2s\n",
      "116:\tlearn: 0.1372407\ttotal: 8.33s\tremaining: 1m 2s\n",
      "117:\tlearn: 0.1371035\ttotal: 8.4s\tremaining: 1m 2s\n",
      "118:\tlearn: 0.1369320\ttotal: 8.49s\tremaining: 1m 2s\n",
      "119:\tlearn: 0.1367393\ttotal: 8.57s\tremaining: 1m 2s\n",
      "120:\tlearn: 0.1364753\ttotal: 8.64s\tremaining: 1m 2s\n",
      "121:\tlearn: 0.1362743\ttotal: 8.71s\tremaining: 1m 2s\n",
      "122:\tlearn: 0.1360941\ttotal: 8.78s\tremaining: 1m 2s\n",
      "123:\tlearn: 0.1313314\ttotal: 8.84s\tremaining: 1m 2s\n",
      "124:\tlearn: 0.1310830\ttotal: 8.91s\tremaining: 1m 2s\n",
      "125:\tlearn: 0.1308053\ttotal: 8.98s\tremaining: 1m 2s\n",
      "126:\tlearn: 0.1277292\ttotal: 9.05s\tremaining: 1m 2s\n",
      "127:\tlearn: 0.1248208\ttotal: 9.13s\tremaining: 1m 2s\n",
      "128:\tlearn: 0.1227064\ttotal: 9.2s\tremaining: 1m 2s\n",
      "129:\tlearn: 0.1225059\ttotal: 9.28s\tremaining: 1m 2s\n",
      "130:\tlearn: 0.1223522\ttotal: 9.38s\tremaining: 1m 2s\n",
      "131:\tlearn: 0.1221446\ttotal: 9.46s\tremaining: 1m 2s\n",
      "132:\tlearn: 0.1220198\ttotal: 9.54s\tremaining: 1m 2s\n",
      "133:\tlearn: 0.1196451\ttotal: 9.61s\tremaining: 1m 2s\n",
      "134:\tlearn: 0.1195295\ttotal: 9.68s\tremaining: 1m 2s\n",
      "135:\tlearn: 0.1182875\ttotal: 9.75s\tremaining: 1m 1s\n",
      "136:\tlearn: 0.1181222\ttotal: 9.82s\tremaining: 1m 1s\n",
      "137:\tlearn: 0.1179540\ttotal: 9.89s\tremaining: 1m 1s\n",
      "138:\tlearn: 0.1144097\ttotal: 9.96s\tremaining: 1m 1s\n",
      "139:\tlearn: 0.1142435\ttotal: 10s\tremaining: 1m 1s\n",
      "140:\tlearn: 0.1140970\ttotal: 10.1s\tremaining: 1m 1s\n",
      "141:\tlearn: 0.1139388\ttotal: 10.2s\tremaining: 1m 1s\n",
      "142:\tlearn: 0.1137718\ttotal: 10.2s\tremaining: 1m 1s\n",
      "143:\tlearn: 0.1136343\ttotal: 10.3s\tremaining: 1m 1s\n",
      "144:\tlearn: 0.1119649\ttotal: 10.4s\tremaining: 1m 1s\n",
      "145:\tlearn: 0.1099771\ttotal: 10.4s\tremaining: 1m 1s\n",
      "146:\tlearn: 0.1098537\ttotal: 10.5s\tremaining: 1m 1s\n",
      "147:\tlearn: 0.1097081\ttotal: 10.6s\tremaining: 1m 1s\n",
      "148:\tlearn: 0.1095726\ttotal: 10.7s\tremaining: 1m\n",
      "149:\tlearn: 0.1070323\ttotal: 10.7s\tremaining: 1m\n",
      "150:\tlearn: 0.1068939\ttotal: 10.8s\tremaining: 1m\n",
      "151:\tlearn: 0.1033829\ttotal: 10.9s\tremaining: 1m\n",
      "152:\tlearn: 0.1032301\ttotal: 10.9s\tremaining: 1m\n",
      "153:\tlearn: 0.1027945\ttotal: 11s\tremaining: 1m\n",
      "154:\tlearn: 0.1026699\ttotal: 11.1s\tremaining: 1m\n",
      "155:\tlearn: 0.1025014\ttotal: 11.2s\tremaining: 1m\n",
      "156:\tlearn: 0.0986966\ttotal: 11.2s\tremaining: 1m\n",
      "157:\tlearn: 0.0985489\ttotal: 11.3s\tremaining: 1m\n",
      "158:\tlearn: 0.0983993\ttotal: 11.4s\tremaining: 1m\n",
      "159:\tlearn: 0.0982993\ttotal: 11.4s\tremaining: 1m\n",
      "160:\tlearn: 0.0980451\ttotal: 11.5s\tremaining: 60s\n"
     ]
    },
    {
     "name": "stdout",
     "output_type": "stream",
     "text": [
      "161:\tlearn: 0.0978570\ttotal: 11.6s\tremaining: 59.9s\n",
      "162:\tlearn: 0.0977686\ttotal: 11.6s\tremaining: 59.8s\n",
      "163:\tlearn: 0.0976770\ttotal: 11.7s\tremaining: 59.7s\n",
      "164:\tlearn: 0.0975082\ttotal: 11.8s\tremaining: 59.6s\n",
      "165:\tlearn: 0.0957978\ttotal: 11.8s\tremaining: 59.5s\n",
      "166:\tlearn: 0.0950455\ttotal: 11.9s\tremaining: 59.4s\n",
      "167:\tlearn: 0.0949261\ttotal: 12s\tremaining: 59.3s\n",
      "168:\tlearn: 0.0933060\ttotal: 12s\tremaining: 59.2s\n",
      "169:\tlearn: 0.0932018\ttotal: 12.1s\tremaining: 59.1s\n",
      "170:\tlearn: 0.0916859\ttotal: 12.2s\tremaining: 59s\n",
      "171:\tlearn: 0.0913125\ttotal: 12.2s\tremaining: 58.9s\n",
      "172:\tlearn: 0.0912009\ttotal: 12.3s\tremaining: 58.8s\n",
      "173:\tlearn: 0.0910465\ttotal: 12.4s\tremaining: 58.7s\n",
      "174:\tlearn: 0.0909555\ttotal: 12.4s\tremaining: 58.6s\n",
      "175:\tlearn: 0.0907874\ttotal: 12.5s\tremaining: 58.5s\n",
      "176:\tlearn: 0.0907060\ttotal: 12.6s\tremaining: 58.4s\n",
      "177:\tlearn: 0.0905657\ttotal: 12.6s\tremaining: 58.3s\n",
      "178:\tlearn: 0.0904009\ttotal: 12.7s\tremaining: 58.2s\n",
      "179:\tlearn: 0.0902735\ttotal: 12.8s\tremaining: 58.2s\n",
      "180:\tlearn: 0.0901984\ttotal: 12.8s\tremaining: 58.1s\n",
      "181:\tlearn: 0.0900351\ttotal: 12.9s\tremaining: 58s\n",
      "182:\tlearn: 0.0899496\ttotal: 13s\tremaining: 57.9s\n",
      "183:\tlearn: 0.0898442\ttotal: 13s\tremaining: 57.9s\n",
      "184:\tlearn: 0.0897458\ttotal: 13.1s\tremaining: 57.8s\n",
      "185:\tlearn: 0.0891895\ttotal: 13.2s\tremaining: 57.7s\n",
      "186:\tlearn: 0.0890759\ttotal: 13.3s\tremaining: 57.6s\n",
      "187:\tlearn: 0.0889882\ttotal: 13.3s\tremaining: 57.5s\n",
      "188:\tlearn: 0.0888886\ttotal: 13.4s\tremaining: 57.5s\n",
      "189:\tlearn: 0.0862771\ttotal: 13.5s\tremaining: 57.4s\n",
      "190:\tlearn: 0.0861712\ttotal: 13.5s\tremaining: 57.4s\n",
      "191:\tlearn: 0.0860406\ttotal: 13.6s\tremaining: 57.3s\n",
      "192:\tlearn: 0.0859300\ttotal: 13.7s\tremaining: 57.2s\n",
      "193:\tlearn: 0.0858284\ttotal: 13.8s\tremaining: 57.2s\n",
      "194:\tlearn: 0.0857272\ttotal: 13.8s\tremaining: 57.1s\n",
      "195:\tlearn: 0.0855383\ttotal: 13.9s\tremaining: 57.1s\n",
      "196:\tlearn: 0.0854421\ttotal: 14s\tremaining: 57s\n",
      "197:\tlearn: 0.0853547\ttotal: 14.1s\tremaining: 56.9s\n",
      "198:\tlearn: 0.0840206\ttotal: 14.1s\tremaining: 56.9s\n",
      "199:\tlearn: 0.0839074\ttotal: 14.2s\tremaining: 56.8s\n",
      "200:\tlearn: 0.0833903\ttotal: 14.3s\tremaining: 56.7s\n",
      "201:\tlearn: 0.0832790\ttotal: 14.3s\tremaining: 56.6s\n",
      "202:\tlearn: 0.0831797\ttotal: 14.4s\tremaining: 56.6s\n",
      "203:\tlearn: 0.0830845\ttotal: 14.5s\tremaining: 56.5s\n",
      "204:\tlearn: 0.0808834\ttotal: 14.6s\tremaining: 56.5s\n",
      "205:\tlearn: 0.0807761\ttotal: 14.7s\tremaining: 56.5s\n",
      "206:\tlearn: 0.0807014\ttotal: 14.7s\tremaining: 56.4s\n",
      "207:\tlearn: 0.0806058\ttotal: 14.8s\tremaining: 56.4s\n",
      "208:\tlearn: 0.0805248\ttotal: 14.9s\tremaining: 56.3s\n",
      "209:\tlearn: 0.0804112\ttotal: 14.9s\tremaining: 56.2s\n",
      "210:\tlearn: 0.0803265\ttotal: 15s\tremaining: 56.2s\n",
      "211:\tlearn: 0.0792466\ttotal: 15.1s\tremaining: 56.1s\n",
      "212:\tlearn: 0.0791749\ttotal: 15.2s\tremaining: 56.1s\n",
      "213:\tlearn: 0.0790645\ttotal: 15.2s\tremaining: 56s\n",
      "214:\tlearn: 0.0790059\ttotal: 15.3s\tremaining: 55.9s\n",
      "215:\tlearn: 0.0789293\ttotal: 15.4s\tremaining: 55.8s\n",
      "216:\tlearn: 0.0788480\ttotal: 15.4s\tremaining: 55.7s\n",
      "217:\tlearn: 0.0787177\ttotal: 15.5s\tremaining: 55.7s\n",
      "218:\tlearn: 0.0786239\ttotal: 15.6s\tremaining: 55.6s\n",
      "219:\tlearn: 0.0785494\ttotal: 15.7s\tremaining: 55.5s\n",
      "220:\tlearn: 0.0784392\ttotal: 15.7s\tremaining: 55.5s\n",
      "221:\tlearn: 0.0782086\ttotal: 15.8s\tremaining: 55.5s\n",
      "222:\tlearn: 0.0781418\ttotal: 15.9s\tremaining: 55.5s\n",
      "223:\tlearn: 0.0780642\ttotal: 16s\tremaining: 55.4s\n",
      "224:\tlearn: 0.0779662\ttotal: 16.1s\tremaining: 55.4s\n",
      "225:\tlearn: 0.0779055\ttotal: 16.2s\tremaining: 55.4s\n",
      "226:\tlearn: 0.0778209\ttotal: 16.2s\tremaining: 55.3s\n",
      "227:\tlearn: 0.0777437\ttotal: 16.3s\tremaining: 55.2s\n",
      "228:\tlearn: 0.0776777\ttotal: 16.4s\tremaining: 55.1s\n",
      "229:\tlearn: 0.0775906\ttotal: 16.4s\tremaining: 55s\n",
      "230:\tlearn: 0.0775196\ttotal: 16.5s\tremaining: 55s\n",
      "231:\tlearn: 0.0771686\ttotal: 16.6s\tremaining: 54.9s\n",
      "232:\tlearn: 0.0770982\ttotal: 16.7s\tremaining: 54.9s\n",
      "233:\tlearn: 0.0766747\ttotal: 16.7s\tremaining: 54.8s\n",
      "234:\tlearn: 0.0765716\ttotal: 16.8s\tremaining: 54.8s\n",
      "235:\tlearn: 0.0764885\ttotal: 16.9s\tremaining: 54.7s\n",
      "236:\tlearn: 0.0764036\ttotal: 17s\tremaining: 54.6s\n",
      "237:\tlearn: 0.0763356\ttotal: 17s\tremaining: 54.5s\n",
      "238:\tlearn: 0.0762786\ttotal: 17.1s\tremaining: 54.4s\n",
      "239:\tlearn: 0.0762035\ttotal: 17.2s\tremaining: 54.4s\n",
      "240:\tlearn: 0.0761221\ttotal: 17.2s\tremaining: 54.3s\n",
      "241:\tlearn: 0.0760461\ttotal: 17.3s\tremaining: 54.2s\n",
      "242:\tlearn: 0.0759854\ttotal: 17.4s\tremaining: 54.1s\n",
      "243:\tlearn: 0.0759132\ttotal: 17.5s\tremaining: 54.1s\n",
      "244:\tlearn: 0.0754104\ttotal: 17.5s\tremaining: 54s\n",
      "245:\tlearn: 0.0753313\ttotal: 17.6s\tremaining: 53.9s\n",
      "246:\tlearn: 0.0752867\ttotal: 17.7s\tremaining: 53.9s\n",
      "247:\tlearn: 0.0748510\ttotal: 17.7s\tremaining: 53.8s\n",
      "248:\tlearn: 0.0743362\ttotal: 17.8s\tremaining: 53.7s\n",
      "249:\tlearn: 0.0742708\ttotal: 17.9s\tremaining: 53.6s\n",
      "250:\tlearn: 0.0741808\ttotal: 18s\tremaining: 53.6s\n",
      "251:\tlearn: 0.0740894\ttotal: 18s\tremaining: 53.5s\n",
      "252:\tlearn: 0.0740182\ttotal: 18.1s\tremaining: 53.4s\n",
      "253:\tlearn: 0.0739455\ttotal: 18.2s\tremaining: 53.4s\n",
      "254:\tlearn: 0.0727651\ttotal: 18.2s\tremaining: 53.3s\n",
      "255:\tlearn: 0.0726822\ttotal: 18.3s\tremaining: 53.2s\n",
      "256:\tlearn: 0.0725793\ttotal: 18.4s\tremaining: 53.1s\n",
      "257:\tlearn: 0.0714188\ttotal: 18.4s\tremaining: 53s\n",
      "258:\tlearn: 0.0713619\ttotal: 18.5s\tremaining: 53s\n",
      "259:\tlearn: 0.0689249\ttotal: 18.6s\tremaining: 52.9s\n",
      "260:\tlearn: 0.0688544\ttotal: 18.7s\tremaining: 52.9s\n",
      "261:\tlearn: 0.0687844\ttotal: 18.7s\tremaining: 52.8s\n",
      "262:\tlearn: 0.0687065\ttotal: 18.8s\tremaining: 52.7s\n",
      "263:\tlearn: 0.0686306\ttotal: 18.9s\tremaining: 52.6s\n",
      "264:\tlearn: 0.0685549\ttotal: 18.9s\tremaining: 52.5s\n",
      "265:\tlearn: 0.0684979\ttotal: 19s\tremaining: 52.5s\n",
      "266:\tlearn: 0.0684412\ttotal: 19.1s\tremaining: 52.4s\n",
      "267:\tlearn: 0.0683982\ttotal: 19.2s\tremaining: 52.4s\n",
      "268:\tlearn: 0.0675594\ttotal: 19.2s\tremaining: 52.3s\n",
      "269:\tlearn: 0.0666718\ttotal: 19.3s\tremaining: 52.2s\n",
      "270:\tlearn: 0.0657890\ttotal: 19.4s\tremaining: 52.1s\n",
      "271:\tlearn: 0.0657247\ttotal: 19.4s\tremaining: 52s\n",
      "272:\tlearn: 0.0656379\ttotal: 19.5s\tremaining: 52s\n",
      "273:\tlearn: 0.0655816\ttotal: 19.6s\tremaining: 51.9s\n",
      "274:\tlearn: 0.0655246\ttotal: 19.6s\tremaining: 51.8s\n",
      "275:\tlearn: 0.0654776\ttotal: 19.7s\tremaining: 51.7s\n",
      "276:\tlearn: 0.0654084\ttotal: 19.8s\tremaining: 51.6s\n",
      "277:\tlearn: 0.0647880\ttotal: 19.9s\tremaining: 51.6s\n",
      "278:\tlearn: 0.0647384\ttotal: 19.9s\tremaining: 51.5s\n",
      "279:\tlearn: 0.0646921\ttotal: 20s\tremaining: 51.5s\n",
      "280:\tlearn: 0.0646374\ttotal: 20.1s\tremaining: 51.4s\n",
      "281:\tlearn: 0.0645875\ttotal: 20.2s\tremaining: 51.4s\n",
      "282:\tlearn: 0.0645412\ttotal: 20.2s\tremaining: 51.3s\n",
      "283:\tlearn: 0.0644447\ttotal: 20.3s\tremaining: 51.2s\n",
      "284:\tlearn: 0.0643969\ttotal: 20.4s\tremaining: 51.1s\n",
      "285:\tlearn: 0.0643471\ttotal: 20.4s\tremaining: 51s\n",
      "286:\tlearn: 0.0642971\ttotal: 20.5s\tremaining: 50.9s\n",
      "287:\tlearn: 0.0642505\ttotal: 20.6s\tremaining: 50.8s\n",
      "288:\tlearn: 0.0641998\ttotal: 20.6s\tremaining: 50.8s\n",
      "289:\tlearn: 0.0641317\ttotal: 20.7s\tremaining: 50.7s\n",
      "290:\tlearn: 0.0625004\ttotal: 20.8s\tremaining: 50.6s\n",
      "291:\tlearn: 0.0624480\ttotal: 20.9s\tremaining: 50.6s\n",
      "292:\tlearn: 0.0615108\ttotal: 20.9s\tremaining: 50.5s\n",
      "293:\tlearn: 0.0614714\ttotal: 21s\tremaining: 50.4s\n",
      "294:\tlearn: 0.0614137\ttotal: 21.1s\tremaining: 50.4s\n",
      "295:\tlearn: 0.0613604\ttotal: 21.2s\tremaining: 50.3s\n",
      "296:\tlearn: 0.0613003\ttotal: 21.2s\tremaining: 50.3s\n",
      "297:\tlearn: 0.0594554\ttotal: 21.3s\tremaining: 50.2s\n",
      "298:\tlearn: 0.0582263\ttotal: 21.4s\tremaining: 50.1s\n",
      "299:\tlearn: 0.0581803\ttotal: 21.4s\tremaining: 50s\n",
      "300:\tlearn: 0.0574325\ttotal: 21.5s\tremaining: 50s\n",
      "301:\tlearn: 0.0573861\ttotal: 21.6s\tremaining: 49.9s\n",
      "302:\tlearn: 0.0573201\ttotal: 21.7s\tremaining: 49.8s\n",
      "303:\tlearn: 0.0572758\ttotal: 21.7s\tremaining: 49.8s\n",
      "304:\tlearn: 0.0572049\ttotal: 21.8s\tremaining: 49.7s\n",
      "305:\tlearn: 0.0571470\ttotal: 21.9s\tremaining: 49.6s\n",
      "306:\tlearn: 0.0570772\ttotal: 21.9s\tremaining: 49.5s\n",
      "307:\tlearn: 0.0570318\ttotal: 22s\tremaining: 49.5s\n",
      "308:\tlearn: 0.0569419\ttotal: 22.1s\tremaining: 49.4s\n",
      "309:\tlearn: 0.0568722\ttotal: 22.2s\tremaining: 49.4s\n",
      "310:\tlearn: 0.0556252\ttotal: 22.2s\tremaining: 49.3s\n",
      "311:\tlearn: 0.0555652\ttotal: 22.3s\tremaining: 49.2s\n",
      "312:\tlearn: 0.0551531\ttotal: 22.4s\tremaining: 49.1s\n",
      "313:\tlearn: 0.0551043\ttotal: 22.4s\tremaining: 49s\n",
      "314:\tlearn: 0.0550552\ttotal: 22.5s\tremaining: 48.9s\n",
      "315:\tlearn: 0.0550028\ttotal: 22.6s\tremaining: 48.9s\n",
      "316:\tlearn: 0.0549467\ttotal: 22.7s\tremaining: 48.8s\n",
      "317:\tlearn: 0.0541035\ttotal: 22.7s\tremaining: 48.7s\n",
      "318:\tlearn: 0.0540562\ttotal: 22.8s\tremaining: 48.7s\n",
      "319:\tlearn: 0.0540037\ttotal: 22.9s\tremaining: 48.6s\n",
      "320:\tlearn: 0.0539514\ttotal: 23s\tremaining: 48.6s\n",
      "321:\tlearn: 0.0530134\ttotal: 23s\tremaining: 48.5s\n"
     ]
    },
    {
     "name": "stdout",
     "output_type": "stream",
     "text": [
      "322:\tlearn: 0.0529715\ttotal: 23.1s\tremaining: 48.5s\n",
      "323:\tlearn: 0.0529239\ttotal: 23.2s\tremaining: 48.4s\n",
      "324:\tlearn: 0.0528633\ttotal: 23.3s\tremaining: 48.3s\n",
      "325:\tlearn: 0.0528189\ttotal: 23.3s\tremaining: 48.3s\n",
      "326:\tlearn: 0.0524695\ttotal: 23.4s\tremaining: 48.2s\n",
      "327:\tlearn: 0.0524354\ttotal: 23.5s\tremaining: 48.1s\n",
      "328:\tlearn: 0.0523712\ttotal: 23.6s\tremaining: 48s\n",
      "329:\tlearn: 0.0523289\ttotal: 23.6s\tremaining: 48s\n",
      "330:\tlearn: 0.0517309\ttotal: 23.7s\tremaining: 47.9s\n",
      "331:\tlearn: 0.0516894\ttotal: 23.8s\tremaining: 47.8s\n",
      "332:\tlearn: 0.0511661\ttotal: 23.8s\tremaining: 47.7s\n",
      "333:\tlearn: 0.0510917\ttotal: 23.9s\tremaining: 47.6s\n",
      "334:\tlearn: 0.0510412\ttotal: 24s\tremaining: 47.5s\n",
      "335:\tlearn: 0.0510044\ttotal: 24s\tremaining: 47.5s\n",
      "336:\tlearn: 0.0509711\ttotal: 24.1s\tremaining: 47.4s\n",
      "337:\tlearn: 0.0509344\ttotal: 24.2s\tremaining: 47.3s\n",
      "338:\tlearn: 0.0508938\ttotal: 24.2s\tremaining: 47.2s\n",
      "339:\tlearn: 0.0508481\ttotal: 24.3s\tremaining: 47.1s\n",
      "340:\tlearn: 0.0508142\ttotal: 24.4s\tremaining: 47.1s\n",
      "341:\tlearn: 0.0507844\ttotal: 24.4s\tremaining: 47s\n",
      "342:\tlearn: 0.0507500\ttotal: 24.5s\tremaining: 46.9s\n",
      "343:\tlearn: 0.0506858\ttotal: 24.6s\tremaining: 46.9s\n",
      "344:\tlearn: 0.0506516\ttotal: 24.6s\tremaining: 46.8s\n",
      "345:\tlearn: 0.0506089\ttotal: 24.7s\tremaining: 46.7s\n",
      "346:\tlearn: 0.0505580\ttotal: 24.8s\tremaining: 46.7s\n",
      "347:\tlearn: 0.0505189\ttotal: 24.9s\tremaining: 46.6s\n",
      "348:\tlearn: 0.0495935\ttotal: 25s\tremaining: 46.6s\n",
      "349:\tlearn: 0.0495509\ttotal: 25s\tremaining: 46.5s\n",
      "350:\tlearn: 0.0495140\ttotal: 25.1s\tremaining: 46.4s\n",
      "351:\tlearn: 0.0494664\ttotal: 25.2s\tremaining: 46.4s\n",
      "352:\tlearn: 0.0494282\ttotal: 25.3s\tremaining: 46.3s\n",
      "353:\tlearn: 0.0493989\ttotal: 25.3s\tremaining: 46.2s\n",
      "354:\tlearn: 0.0493520\ttotal: 25.4s\tremaining: 46.2s\n",
      "355:\tlearn: 0.0493219\ttotal: 25.5s\tremaining: 46.1s\n",
      "356:\tlearn: 0.0492730\ttotal: 25.6s\tremaining: 46s\n",
      "357:\tlearn: 0.0492379\ttotal: 25.6s\tremaining: 46s\n",
      "358:\tlearn: 0.0492010\ttotal: 25.7s\tremaining: 45.9s\n",
      "359:\tlearn: 0.0491389\ttotal: 25.8s\tremaining: 45.8s\n",
      "360:\tlearn: 0.0490940\ttotal: 25.8s\tremaining: 45.7s\n",
      "361:\tlearn: 0.0490630\ttotal: 25.9s\tremaining: 45.7s\n",
      "362:\tlearn: 0.0490365\ttotal: 26s\tremaining: 45.6s\n",
      "363:\tlearn: 0.0489986\ttotal: 26.1s\tremaining: 45.5s\n",
      "364:\tlearn: 0.0489642\ttotal: 26.1s\tremaining: 45.5s\n",
      "365:\tlearn: 0.0489345\ttotal: 26.2s\tremaining: 45.4s\n",
      "366:\tlearn: 0.0489052\ttotal: 26.3s\tremaining: 45.3s\n",
      "367:\tlearn: 0.0488594\ttotal: 26.4s\tremaining: 45.3s\n",
      "368:\tlearn: 0.0488344\ttotal: 26.4s\tremaining: 45.2s\n",
      "369:\tlearn: 0.0488013\ttotal: 26.5s\tremaining: 45.1s\n",
      "370:\tlearn: 0.0487657\ttotal: 26.6s\tremaining: 45s\n",
      "371:\tlearn: 0.0487262\ttotal: 26.6s\tremaining: 45s\n",
      "372:\tlearn: 0.0478804\ttotal: 26.7s\tremaining: 44.9s\n",
      "373:\tlearn: 0.0478477\ttotal: 26.8s\tremaining: 44.8s\n",
      "374:\tlearn: 0.0478043\ttotal: 26.9s\tremaining: 44.8s\n",
      "375:\tlearn: 0.0477615\ttotal: 26.9s\tremaining: 44.7s\n",
      "376:\tlearn: 0.0477259\ttotal: 27s\tremaining: 44.6s\n",
      "377:\tlearn: 0.0476952\ttotal: 27.1s\tremaining: 44.5s\n",
      "378:\tlearn: 0.0476715\ttotal: 27.1s\tremaining: 44.4s\n",
      "379:\tlearn: 0.0470295\ttotal: 27.2s\tremaining: 44.4s\n",
      "380:\tlearn: 0.0469996\ttotal: 27.3s\tremaining: 44.3s\n",
      "381:\tlearn: 0.0469820\ttotal: 27.3s\tremaining: 44.2s\n",
      "382:\tlearn: 0.0469457\ttotal: 27.4s\tremaining: 44.2s\n",
      "383:\tlearn: 0.0468916\ttotal: 27.5s\tremaining: 44.1s\n",
      "384:\tlearn: 0.0468574\ttotal: 27.6s\tremaining: 44s\n",
      "385:\tlearn: 0.0468188\ttotal: 27.6s\tremaining: 43.9s\n",
      "386:\tlearn: 0.0467822\ttotal: 27.7s\tremaining: 43.9s\n",
      "387:\tlearn: 0.0467293\ttotal: 27.8s\tremaining: 43.8s\n",
      "388:\tlearn: 0.0466895\ttotal: 27.8s\tremaining: 43.7s\n",
      "389:\tlearn: 0.0466541\ttotal: 27.9s\tremaining: 43.6s\n",
      "390:\tlearn: 0.0466234\ttotal: 28s\tremaining: 43.6s\n",
      "391:\tlearn: 0.0465861\ttotal: 28.1s\tremaining: 43.5s\n",
      "392:\tlearn: 0.0465574\ttotal: 28.1s\tremaining: 43.5s\n",
      "393:\tlearn: 0.0464953\ttotal: 28.2s\tremaining: 43.4s\n",
      "394:\tlearn: 0.0464667\ttotal: 28.3s\tremaining: 43.3s\n",
      "395:\tlearn: 0.0464332\ttotal: 28.4s\tremaining: 43.3s\n",
      "396:\tlearn: 0.0462941\ttotal: 28.4s\tremaining: 43.2s\n",
      "397:\tlearn: 0.0462632\ttotal: 28.5s\tremaining: 43.1s\n",
      "398:\tlearn: 0.0462297\ttotal: 28.6s\tremaining: 43s\n",
      "399:\tlearn: 0.0462023\ttotal: 28.6s\tremaining: 43s\n",
      "400:\tlearn: 0.0461601\ttotal: 28.7s\tremaining: 42.9s\n",
      "401:\tlearn: 0.0461348\ttotal: 28.8s\tremaining: 42.8s\n",
      "402:\tlearn: 0.0455683\ttotal: 28.9s\tremaining: 42.8s\n",
      "403:\tlearn: 0.0451619\ttotal: 28.9s\tremaining: 42.7s\n",
      "404:\tlearn: 0.0451346\ttotal: 29s\tremaining: 42.6s\n",
      "405:\tlearn: 0.0451082\ttotal: 29.1s\tremaining: 42.6s\n",
      "406:\tlearn: 0.0450755\ttotal: 29.2s\tremaining: 42.5s\n",
      "407:\tlearn: 0.0450433\ttotal: 29.3s\tremaining: 42.5s\n",
      "408:\tlearn: 0.0449338\ttotal: 29.3s\tremaining: 42.4s\n",
      "409:\tlearn: 0.0449034\ttotal: 29.4s\tremaining: 42.3s\n",
      "410:\tlearn: 0.0448796\ttotal: 29.5s\tremaining: 42.2s\n",
      "411:\tlearn: 0.0448395\ttotal: 29.6s\tremaining: 42.2s\n",
      "412:\tlearn: 0.0448063\ttotal: 29.6s\tremaining: 42.1s\n",
      "413:\tlearn: 0.0447775\ttotal: 29.7s\tremaining: 42s\n",
      "414:\tlearn: 0.0447506\ttotal: 29.8s\tremaining: 42s\n",
      "415:\tlearn: 0.0447273\ttotal: 29.8s\tremaining: 41.9s\n",
      "416:\tlearn: 0.0446942\ttotal: 29.9s\tremaining: 41.8s\n",
      "417:\tlearn: 0.0446631\ttotal: 30s\tremaining: 41.8s\n",
      "418:\tlearn: 0.0446360\ttotal: 30.1s\tremaining: 41.7s\n",
      "419:\tlearn: 0.0446054\ttotal: 30.1s\tremaining: 41.6s\n",
      "420:\tlearn: 0.0445784\ttotal: 30.2s\tremaining: 41.5s\n",
      "421:\tlearn: 0.0445535\ttotal: 30.4s\tremaining: 41.6s\n",
      "422:\tlearn: 0.0445295\ttotal: 30.4s\tremaining: 41.5s\n",
      "423:\tlearn: 0.0445014\ttotal: 30.5s\tremaining: 41.4s\n",
      "424:\tlearn: 0.0444700\ttotal: 30.6s\tremaining: 41.4s\n",
      "425:\tlearn: 0.0441188\ttotal: 30.7s\tremaining: 41.3s\n",
      "426:\tlearn: 0.0440858\ttotal: 30.7s\tremaining: 41.2s\n",
      "427:\tlearn: 0.0440568\ttotal: 30.8s\tremaining: 41.2s\n",
      "428:\tlearn: 0.0440238\ttotal: 30.9s\tremaining: 41.1s\n",
      "429:\tlearn: 0.0439978\ttotal: 30.9s\tremaining: 41s\n",
      "430:\tlearn: 0.0439771\ttotal: 31s\tremaining: 41s\n",
      "431:\tlearn: 0.0439552\ttotal: 31.1s\tremaining: 40.9s\n",
      "432:\tlearn: 0.0439107\ttotal: 31.2s\tremaining: 40.8s\n",
      "433:\tlearn: 0.0438671\ttotal: 31.2s\tremaining: 40.7s\n",
      "434:\tlearn: 0.0438379\ttotal: 31.3s\tremaining: 40.7s\n",
      "435:\tlearn: 0.0438129\ttotal: 31.4s\tremaining: 40.6s\n",
      "436:\tlearn: 0.0436906\ttotal: 31.5s\tremaining: 40.5s\n",
      "437:\tlearn: 0.0436694\ttotal: 31.5s\tremaining: 40.5s\n",
      "438:\tlearn: 0.0432065\ttotal: 31.6s\tremaining: 40.4s\n",
      "439:\tlearn: 0.0431823\ttotal: 31.7s\tremaining: 40.3s\n",
      "440:\tlearn: 0.0431484\ttotal: 31.8s\tremaining: 40.3s\n",
      "441:\tlearn: 0.0431200\ttotal: 31.8s\tremaining: 40.2s\n",
      "442:\tlearn: 0.0430871\ttotal: 31.9s\tremaining: 40.1s\n",
      "443:\tlearn: 0.0430682\ttotal: 32s\tremaining: 40.1s\n",
      "444:\tlearn: 0.0430451\ttotal: 32.1s\tremaining: 40s\n",
      "445:\tlearn: 0.0430241\ttotal: 32.1s\tremaining: 39.9s\n",
      "446:\tlearn: 0.0429981\ttotal: 32.2s\tremaining: 39.8s\n",
      "447:\tlearn: 0.0429661\ttotal: 32.3s\tremaining: 39.8s\n",
      "448:\tlearn: 0.0428659\ttotal: 32.4s\tremaining: 39.7s\n",
      "449:\tlearn: 0.0428402\ttotal: 32.4s\tremaining: 39.6s\n",
      "450:\tlearn: 0.0428164\ttotal: 32.5s\tremaining: 39.6s\n",
      "451:\tlearn: 0.0427945\ttotal: 32.6s\tremaining: 39.5s\n",
      "452:\tlearn: 0.0422080\ttotal: 32.7s\tremaining: 39.4s\n",
      "453:\tlearn: 0.0420255\ttotal: 32.7s\tremaining: 39.4s\n",
      "454:\tlearn: 0.0419991\ttotal: 32.8s\tremaining: 39.3s\n",
      "455:\tlearn: 0.0419714\ttotal: 32.9s\tremaining: 39.2s\n",
      "456:\tlearn: 0.0419504\ttotal: 33s\tremaining: 39.2s\n",
      "457:\tlearn: 0.0419229\ttotal: 33s\tremaining: 39.1s\n",
      "458:\tlearn: 0.0413356\ttotal: 33.1s\tremaining: 39s\n",
      "459:\tlearn: 0.0403148\ttotal: 33.2s\tremaining: 38.9s\n",
      "460:\tlearn: 0.0402897\ttotal: 33.2s\tremaining: 38.9s\n",
      "461:\tlearn: 0.0402720\ttotal: 33.3s\tremaining: 38.8s\n",
      "462:\tlearn: 0.0402492\ttotal: 33.4s\tremaining: 38.7s\n",
      "463:\tlearn: 0.0400220\ttotal: 33.5s\tremaining: 38.7s\n",
      "464:\tlearn: 0.0399948\ttotal: 33.5s\tremaining: 38.6s\n",
      "465:\tlearn: 0.0399599\ttotal: 33.6s\tremaining: 38.5s\n",
      "466:\tlearn: 0.0399372\ttotal: 33.7s\tremaining: 38.4s\n",
      "467:\tlearn: 0.0399177\ttotal: 33.8s\tremaining: 38.4s\n",
      "468:\tlearn: 0.0392282\ttotal: 33.8s\tremaining: 38.3s\n",
      "469:\tlearn: 0.0392079\ttotal: 33.9s\tremaining: 38.2s\n",
      "470:\tlearn: 0.0391788\ttotal: 34s\tremaining: 38.2s\n",
      "471:\tlearn: 0.0391561\ttotal: 34.1s\tremaining: 38.1s\n",
      "472:\tlearn: 0.0391321\ttotal: 34.1s\tremaining: 38s\n",
      "473:\tlearn: 0.0386049\ttotal: 34.2s\tremaining: 38s\n",
      "474:\tlearn: 0.0385833\ttotal: 34.3s\tremaining: 37.9s\n",
      "475:\tlearn: 0.0385583\ttotal: 34.4s\tremaining: 37.8s\n",
      "476:\tlearn: 0.0385218\ttotal: 34.4s\tremaining: 37.7s\n",
      "477:\tlearn: 0.0379279\ttotal: 34.5s\tremaining: 37.7s\n",
      "478:\tlearn: 0.0379095\ttotal: 34.6s\tremaining: 37.6s\n",
      "479:\tlearn: 0.0378869\ttotal: 34.6s\tremaining: 37.5s\n",
      "480:\tlearn: 0.0378525\ttotal: 34.7s\tremaining: 37.5s\n",
      "481:\tlearn: 0.0378337\ttotal: 34.8s\tremaining: 37.4s\n",
      "482:\tlearn: 0.0378028\ttotal: 34.9s\tremaining: 37.3s\n"
     ]
    },
    {
     "name": "stdout",
     "output_type": "stream",
     "text": [
      "483:\tlearn: 0.0377756\ttotal: 34.9s\tremaining: 37.3s\n",
      "484:\tlearn: 0.0377555\ttotal: 35s\tremaining: 37.2s\n",
      "485:\tlearn: 0.0374255\ttotal: 35.1s\tremaining: 37.1s\n",
      "486:\tlearn: 0.0374043\ttotal: 35.2s\tremaining: 37s\n",
      "487:\tlearn: 0.0373874\ttotal: 35.2s\tremaining: 37s\n",
      "488:\tlearn: 0.0373643\ttotal: 35.3s\tremaining: 36.9s\n",
      "489:\tlearn: 0.0371914\ttotal: 35.4s\tremaining: 36.8s\n",
      "490:\tlearn: 0.0371671\ttotal: 35.5s\tremaining: 36.8s\n",
      "491:\tlearn: 0.0371402\ttotal: 35.5s\tremaining: 36.7s\n",
      "492:\tlearn: 0.0371147\ttotal: 35.6s\tremaining: 36.6s\n",
      "493:\tlearn: 0.0370946\ttotal: 35.7s\tremaining: 36.6s\n",
      "494:\tlearn: 0.0370716\ttotal: 35.8s\tremaining: 36.5s\n",
      "495:\tlearn: 0.0370511\ttotal: 35.8s\tremaining: 36.4s\n",
      "496:\tlearn: 0.0368070\ttotal: 35.9s\tremaining: 36.4s\n",
      "497:\tlearn: 0.0366020\ttotal: 36s\tremaining: 36.3s\n",
      "498:\tlearn: 0.0365849\ttotal: 36.1s\tremaining: 36.2s\n",
      "499:\tlearn: 0.0365686\ttotal: 36.2s\tremaining: 36.2s\n",
      "500:\tlearn: 0.0365408\ttotal: 36.3s\tremaining: 36.1s\n",
      "501:\tlearn: 0.0365166\ttotal: 36.3s\tremaining: 36s\n",
      "502:\tlearn: 0.0364996\ttotal: 36.4s\tremaining: 36s\n",
      "503:\tlearn: 0.0364779\ttotal: 36.5s\tremaining: 35.9s\n",
      "504:\tlearn: 0.0364451\ttotal: 36.6s\tremaining: 35.8s\n",
      "505:\tlearn: 0.0363538\ttotal: 36.6s\tremaining: 35.8s\n",
      "506:\tlearn: 0.0363293\ttotal: 36.7s\tremaining: 35.7s\n",
      "507:\tlearn: 0.0363117\ttotal: 36.8s\tremaining: 35.6s\n",
      "508:\tlearn: 0.0362926\ttotal: 36.9s\tremaining: 35.6s\n",
      "509:\tlearn: 0.0358843\ttotal: 37s\tremaining: 35.5s\n",
      "510:\tlearn: 0.0358693\ttotal: 37s\tremaining: 35.4s\n",
      "511:\tlearn: 0.0355281\ttotal: 37.1s\tremaining: 35.4s\n",
      "512:\tlearn: 0.0355073\ttotal: 37.2s\tremaining: 35.3s\n",
      "513:\tlearn: 0.0354903\ttotal: 37.2s\tremaining: 35.2s\n",
      "514:\tlearn: 0.0354590\ttotal: 37.3s\tremaining: 35.1s\n",
      "515:\tlearn: 0.0351486\ttotal: 37.4s\tremaining: 35.1s\n",
      "516:\tlearn: 0.0351287\ttotal: 37.4s\tremaining: 35s\n",
      "517:\tlearn: 0.0351089\ttotal: 37.5s\tremaining: 34.9s\n",
      "518:\tlearn: 0.0350807\ttotal: 37.6s\tremaining: 34.8s\n",
      "519:\tlearn: 0.0350636\ttotal: 37.7s\tremaining: 34.8s\n",
      "520:\tlearn: 0.0349821\ttotal: 37.7s\tremaining: 34.7s\n",
      "521:\tlearn: 0.0349610\ttotal: 37.8s\tremaining: 34.6s\n",
      "522:\tlearn: 0.0349468\ttotal: 37.9s\tremaining: 34.5s\n",
      "523:\tlearn: 0.0349305\ttotal: 37.9s\tremaining: 34.5s\n",
      "524:\tlearn: 0.0346578\ttotal: 38s\tremaining: 34.4s\n",
      "525:\tlearn: 0.0346332\ttotal: 38.1s\tremaining: 34.3s\n",
      "526:\tlearn: 0.0346107\ttotal: 38.2s\tremaining: 34.2s\n",
      "527:\tlearn: 0.0338460\ttotal: 38.2s\tremaining: 34.2s\n",
      "528:\tlearn: 0.0338223\ttotal: 38.3s\tremaining: 34.1s\n",
      "529:\tlearn: 0.0337488\ttotal: 38.4s\tremaining: 34s\n",
      "530:\tlearn: 0.0334454\ttotal: 38.5s\tremaining: 34s\n",
      "531:\tlearn: 0.0334293\ttotal: 38.5s\tremaining: 33.9s\n",
      "532:\tlearn: 0.0334131\ttotal: 38.6s\tremaining: 33.8s\n",
      "533:\tlearn: 0.0333975\ttotal: 38.7s\tremaining: 33.8s\n",
      "534:\tlearn: 0.0333789\ttotal: 38.8s\tremaining: 33.7s\n",
      "535:\tlearn: 0.0333355\ttotal: 38.8s\tremaining: 33.6s\n",
      "536:\tlearn: 0.0333230\ttotal: 38.9s\tremaining: 33.5s\n",
      "537:\tlearn: 0.0333001\ttotal: 39s\tremaining: 33.5s\n",
      "538:\tlearn: 0.0332827\ttotal: 39s\tremaining: 33.4s\n",
      "539:\tlearn: 0.0332707\ttotal: 39.1s\tremaining: 33.3s\n",
      "540:\tlearn: 0.0332505\ttotal: 39.2s\tremaining: 33.3s\n",
      "541:\tlearn: 0.0332361\ttotal: 39.3s\tremaining: 33.2s\n",
      "542:\tlearn: 0.0329735\ttotal: 39.3s\tremaining: 33.1s\n",
      "543:\tlearn: 0.0329521\ttotal: 39.4s\tremaining: 33s\n",
      "544:\tlearn: 0.0329262\ttotal: 39.5s\tremaining: 33s\n",
      "545:\tlearn: 0.0329101\ttotal: 39.6s\tremaining: 32.9s\n",
      "546:\tlearn: 0.0326871\ttotal: 39.6s\tremaining: 32.8s\n",
      "547:\tlearn: 0.0326646\ttotal: 39.7s\tremaining: 32.8s\n",
      "548:\tlearn: 0.0326524\ttotal: 39.8s\tremaining: 32.7s\n",
      "549:\tlearn: 0.0324635\ttotal: 39.8s\tremaining: 32.6s\n",
      "550:\tlearn: 0.0324486\ttotal: 39.9s\tremaining: 32.5s\n",
      "551:\tlearn: 0.0324343\ttotal: 40s\tremaining: 32.5s\n",
      "552:\tlearn: 0.0324072\ttotal: 40.1s\tremaining: 32.4s\n",
      "553:\tlearn: 0.0323938\ttotal: 40.2s\tremaining: 32.4s\n",
      "554:\tlearn: 0.0319063\ttotal: 40.3s\tremaining: 32.3s\n",
      "555:\tlearn: 0.0318837\ttotal: 40.4s\tremaining: 32.3s\n",
      "556:\tlearn: 0.0318653\ttotal: 40.5s\tremaining: 32.2s\n",
      "557:\tlearn: 0.0318478\ttotal: 40.6s\tremaining: 32.1s\n",
      "558:\tlearn: 0.0318352\ttotal: 40.7s\tremaining: 32.1s\n",
      "559:\tlearn: 0.0318268\ttotal: 40.7s\tremaining: 32s\n",
      "560:\tlearn: 0.0318125\ttotal: 40.8s\tremaining: 31.9s\n",
      "561:\tlearn: 0.0317937\ttotal: 40.9s\tremaining: 31.9s\n",
      "562:\tlearn: 0.0317829\ttotal: 41s\tremaining: 31.8s\n",
      "563:\tlearn: 0.0317608\ttotal: 41.1s\tremaining: 31.7s\n",
      "564:\tlearn: 0.0317446\ttotal: 41.1s\tremaining: 31.7s\n",
      "565:\tlearn: 0.0317318\ttotal: 41.2s\tremaining: 31.6s\n",
      "566:\tlearn: 0.0317177\ttotal: 41.3s\tremaining: 31.5s\n",
      "567:\tlearn: 0.0317054\ttotal: 41.3s\tremaining: 31.4s\n",
      "568:\tlearn: 0.0316853\ttotal: 41.4s\tremaining: 31.4s\n",
      "569:\tlearn: 0.0316709\ttotal: 41.5s\tremaining: 31.3s\n",
      "570:\tlearn: 0.0316555\ttotal: 41.6s\tremaining: 31.2s\n",
      "571:\tlearn: 0.0316250\ttotal: 41.6s\tremaining: 31.2s\n",
      "572:\tlearn: 0.0313590\ttotal: 41.7s\tremaining: 31.1s\n",
      "573:\tlearn: 0.0313494\ttotal: 41.8s\tremaining: 31s\n",
      "574:\tlearn: 0.0313399\ttotal: 41.9s\tremaining: 31s\n",
      "575:\tlearn: 0.0313245\ttotal: 42s\tremaining: 30.9s\n",
      "576:\tlearn: 0.0313090\ttotal: 42s\tremaining: 30.8s\n",
      "577:\tlearn: 0.0312865\ttotal: 42.1s\tremaining: 30.7s\n",
      "578:\tlearn: 0.0312707\ttotal: 42.2s\tremaining: 30.7s\n",
      "579:\tlearn: 0.0312519\ttotal: 42.3s\tremaining: 30.6s\n",
      "580:\tlearn: 0.0312374\ttotal: 42.3s\tremaining: 30.5s\n",
      "581:\tlearn: 0.0311097\ttotal: 42.4s\tremaining: 30.5s\n",
      "582:\tlearn: 0.0310978\ttotal: 42.5s\tremaining: 30.4s\n",
      "583:\tlearn: 0.0310812\ttotal: 42.6s\tremaining: 30.3s\n",
      "584:\tlearn: 0.0310655\ttotal: 42.6s\tremaining: 30.2s\n",
      "585:\tlearn: 0.0310507\ttotal: 42.7s\tremaining: 30.2s\n",
      "586:\tlearn: 0.0310388\ttotal: 42.8s\tremaining: 30.1s\n",
      "587:\tlearn: 0.0310276\ttotal: 42.9s\tremaining: 30s\n",
      "588:\tlearn: 0.0310155\ttotal: 42.9s\tremaining: 30s\n",
      "589:\tlearn: 0.0303110\ttotal: 43s\tremaining: 29.9s\n",
      "590:\tlearn: 0.0302933\ttotal: 43.1s\tremaining: 29.8s\n",
      "591:\tlearn: 0.0302777\ttotal: 43.2s\tremaining: 29.8s\n",
      "592:\tlearn: 0.0302627\ttotal: 43.2s\tremaining: 29.7s\n",
      "593:\tlearn: 0.0302520\ttotal: 43.3s\tremaining: 29.6s\n",
      "594:\tlearn: 0.0302283\ttotal: 43.4s\tremaining: 29.5s\n",
      "595:\tlearn: 0.0302168\ttotal: 43.5s\tremaining: 29.5s\n",
      "596:\tlearn: 0.0302066\ttotal: 43.5s\tremaining: 29.4s\n",
      "597:\tlearn: 0.0301857\ttotal: 43.6s\tremaining: 29.3s\n",
      "598:\tlearn: 0.0301734\ttotal: 43.7s\tremaining: 29.2s\n",
      "599:\tlearn: 0.0301563\ttotal: 43.8s\tremaining: 29.2s\n",
      "600:\tlearn: 0.0301131\ttotal: 43.8s\tremaining: 29.1s\n",
      "601:\tlearn: 0.0301005\ttotal: 43.9s\tremaining: 29s\n",
      "602:\tlearn: 0.0300895\ttotal: 44s\tremaining: 28.9s\n",
      "603:\tlearn: 0.0300756\ttotal: 44s\tremaining: 28.9s\n",
      "604:\tlearn: 0.0300633\ttotal: 44.1s\tremaining: 28.8s\n",
      "605:\tlearn: 0.0299239\ttotal: 44.2s\tremaining: 28.7s\n",
      "606:\tlearn: 0.0299116\ttotal: 44.3s\tremaining: 28.7s\n",
      "607:\tlearn: 0.0297786\ttotal: 44.4s\tremaining: 28.6s\n",
      "608:\tlearn: 0.0297642\ttotal: 44.4s\tremaining: 28.5s\n",
      "609:\tlearn: 0.0293340\ttotal: 44.5s\tremaining: 28.5s\n",
      "610:\tlearn: 0.0293208\ttotal: 44.6s\tremaining: 28.4s\n",
      "611:\tlearn: 0.0288239\ttotal: 44.7s\tremaining: 28.3s\n",
      "612:\tlearn: 0.0288077\ttotal: 44.7s\tremaining: 28.2s\n",
      "613:\tlearn: 0.0287911\ttotal: 44.8s\tremaining: 28.2s\n",
      "614:\tlearn: 0.0281528\ttotal: 44.9s\tremaining: 28.1s\n",
      "615:\tlearn: 0.0281425\ttotal: 45s\tremaining: 28s\n",
      "616:\tlearn: 0.0276649\ttotal: 45s\tremaining: 28s\n",
      "617:\tlearn: 0.0276505\ttotal: 45.1s\tremaining: 27.9s\n",
      "618:\tlearn: 0.0276407\ttotal: 45.2s\tremaining: 27.8s\n",
      "619:\tlearn: 0.0276284\ttotal: 45.3s\tremaining: 27.7s\n",
      "620:\tlearn: 0.0276134\ttotal: 45.3s\tremaining: 27.7s\n",
      "621:\tlearn: 0.0275941\ttotal: 45.4s\tremaining: 27.6s\n",
      "622:\tlearn: 0.0275830\ttotal: 45.5s\tremaining: 27.5s\n",
      "623:\tlearn: 0.0275621\ttotal: 45.6s\tremaining: 27.5s\n",
      "624:\tlearn: 0.0275516\ttotal: 45.6s\tremaining: 27.4s\n",
      "625:\tlearn: 0.0275402\ttotal: 45.7s\tremaining: 27.3s\n",
      "626:\tlearn: 0.0275288\ttotal: 45.8s\tremaining: 27.2s\n",
      "627:\tlearn: 0.0275022\ttotal: 45.9s\tremaining: 27.2s\n",
      "628:\tlearn: 0.0274913\ttotal: 45.9s\tremaining: 27.1s\n",
      "629:\tlearn: 0.0274819\ttotal: 46s\tremaining: 27s\n",
      "630:\tlearn: 0.0274605\ttotal: 46.1s\tremaining: 27s\n",
      "631:\tlearn: 0.0274486\ttotal: 46.2s\tremaining: 26.9s\n",
      "632:\tlearn: 0.0274312\ttotal: 46.3s\tremaining: 26.8s\n",
      "633:\tlearn: 0.0273389\ttotal: 46.3s\tremaining: 26.8s\n",
      "634:\tlearn: 0.0273282\ttotal: 46.4s\tremaining: 26.7s\n",
      "635:\tlearn: 0.0273180\ttotal: 46.5s\tremaining: 26.6s\n",
      "636:\tlearn: 0.0273081\ttotal: 46.6s\tremaining: 26.5s\n",
      "637:\tlearn: 0.0272994\ttotal: 46.6s\tremaining: 26.5s\n",
      "638:\tlearn: 0.0272919\ttotal: 46.7s\tremaining: 26.4s\n",
      "639:\tlearn: 0.0272849\ttotal: 46.8s\tremaining: 26.3s\n",
      "640:\tlearn: 0.0272742\ttotal: 46.9s\tremaining: 26.2s\n",
      "641:\tlearn: 0.0272655\ttotal: 46.9s\tremaining: 26.2s\n",
      "642:\tlearn: 0.0272576\ttotal: 47s\tremaining: 26.1s\n",
      "643:\tlearn: 0.0272482\ttotal: 47.1s\tremaining: 26s\n"
     ]
    },
    {
     "name": "stdout",
     "output_type": "stream",
     "text": [
      "644:\tlearn: 0.0272310\ttotal: 47.2s\tremaining: 26s\n",
      "645:\tlearn: 0.0272210\ttotal: 47.3s\tremaining: 25.9s\n",
      "646:\tlearn: 0.0272085\ttotal: 47.4s\tremaining: 25.8s\n",
      "647:\tlearn: 0.0271997\ttotal: 47.4s\tremaining: 25.8s\n",
      "648:\tlearn: 0.0269473\ttotal: 47.5s\tremaining: 25.7s\n",
      "649:\tlearn: 0.0269386\ttotal: 47.6s\tremaining: 25.6s\n",
      "650:\tlearn: 0.0269249\ttotal: 47.7s\tremaining: 25.5s\n",
      "651:\tlearn: 0.0269163\ttotal: 47.7s\tremaining: 25.5s\n",
      "652:\tlearn: 0.0269025\ttotal: 47.8s\tremaining: 25.4s\n",
      "653:\tlearn: 0.0268872\ttotal: 47.9s\tremaining: 25.3s\n",
      "654:\tlearn: 0.0268772\ttotal: 47.9s\tremaining: 25.2s\n",
      "655:\tlearn: 0.0268656\ttotal: 48s\tremaining: 25.2s\n",
      "656:\tlearn: 0.0268532\ttotal: 48.1s\tremaining: 25.1s\n",
      "657:\tlearn: 0.0268441\ttotal: 48.1s\tremaining: 25s\n",
      "658:\tlearn: 0.0268310\ttotal: 48.2s\tremaining: 25s\n",
      "659:\tlearn: 0.0267787\ttotal: 48.3s\tremaining: 24.9s\n",
      "660:\tlearn: 0.0267697\ttotal: 48.4s\tremaining: 24.8s\n",
      "661:\tlearn: 0.0263310\ttotal: 48.5s\tremaining: 24.7s\n",
      "662:\tlearn: 0.0263213\ttotal: 48.5s\tremaining: 24.7s\n",
      "663:\tlearn: 0.0263103\ttotal: 48.6s\tremaining: 24.6s\n",
      "664:\tlearn: 0.0262963\ttotal: 48.7s\tremaining: 24.5s\n",
      "665:\tlearn: 0.0262872\ttotal: 48.7s\tremaining: 24.4s\n",
      "666:\tlearn: 0.0262751\ttotal: 48.8s\tremaining: 24.4s\n",
      "667:\tlearn: 0.0262615\ttotal: 48.9s\tremaining: 24.3s\n",
      "668:\tlearn: 0.0262495\ttotal: 49s\tremaining: 24.2s\n",
      "669:\tlearn: 0.0261576\ttotal: 49s\tremaining: 24.1s\n",
      "670:\tlearn: 0.0261487\ttotal: 49.1s\tremaining: 24.1s\n",
      "671:\tlearn: 0.0261323\ttotal: 49.2s\tremaining: 24s\n",
      "672:\tlearn: 0.0261200\ttotal: 49.3s\tremaining: 23.9s\n",
      "673:\tlearn: 0.0261094\ttotal: 49.3s\tremaining: 23.9s\n",
      "674:\tlearn: 0.0260997\ttotal: 49.4s\tremaining: 23.8s\n",
      "675:\tlearn: 0.0260844\ttotal: 49.5s\tremaining: 23.7s\n",
      "676:\tlearn: 0.0260721\ttotal: 49.6s\tremaining: 23.6s\n",
      "677:\tlearn: 0.0260591\ttotal: 49.6s\tremaining: 23.6s\n",
      "678:\tlearn: 0.0260418\ttotal: 49.7s\tremaining: 23.5s\n",
      "679:\tlearn: 0.0260292\ttotal: 49.8s\tremaining: 23.4s\n",
      "680:\tlearn: 0.0260194\ttotal: 49.9s\tremaining: 23.4s\n",
      "681:\tlearn: 0.0260087\ttotal: 49.9s\tremaining: 23.3s\n",
      "682:\tlearn: 0.0255878\ttotal: 50s\tremaining: 23.2s\n",
      "683:\tlearn: 0.0255785\ttotal: 50.1s\tremaining: 23.1s\n",
      "684:\tlearn: 0.0255693\ttotal: 50.2s\tremaining: 23.1s\n",
      "685:\tlearn: 0.0255578\ttotal: 50.3s\tremaining: 23s\n",
      "686:\tlearn: 0.0255428\ttotal: 50.3s\tremaining: 22.9s\n",
      "687:\tlearn: 0.0255344\ttotal: 50.4s\tremaining: 22.9s\n",
      "688:\tlearn: 0.0255264\ttotal: 50.5s\tremaining: 22.8s\n",
      "689:\tlearn: 0.0255140\ttotal: 50.6s\tremaining: 22.7s\n",
      "690:\tlearn: 0.0255054\ttotal: 50.6s\tremaining: 22.6s\n",
      "691:\tlearn: 0.0254958\ttotal: 50.7s\tremaining: 22.6s\n",
      "692:\tlearn: 0.0254809\ttotal: 50.8s\tremaining: 22.5s\n",
      "693:\tlearn: 0.0254700\ttotal: 50.9s\tremaining: 22.4s\n",
      "694:\tlearn: 0.0254614\ttotal: 51s\tremaining: 22.4s\n",
      "695:\tlearn: 0.0254508\ttotal: 51s\tremaining: 22.3s\n",
      "696:\tlearn: 0.0254430\ttotal: 51.1s\tremaining: 22.2s\n",
      "697:\tlearn: 0.0254286\ttotal: 51.2s\tremaining: 22.1s\n",
      "698:\tlearn: 0.0254097\ttotal: 51.3s\tremaining: 22.1s\n",
      "699:\tlearn: 0.0254014\ttotal: 51.4s\tremaining: 22s\n",
      "700:\tlearn: 0.0252882\ttotal: 51.4s\tremaining: 21.9s\n",
      "701:\tlearn: 0.0252799\ttotal: 51.5s\tremaining: 21.9s\n",
      "702:\tlearn: 0.0252697\ttotal: 51.6s\tremaining: 21.8s\n",
      "703:\tlearn: 0.0252584\ttotal: 51.6s\tremaining: 21.7s\n",
      "704:\tlearn: 0.0252425\ttotal: 51.7s\tremaining: 21.6s\n",
      "705:\tlearn: 0.0252299\ttotal: 51.8s\tremaining: 21.6s\n",
      "706:\tlearn: 0.0252218\ttotal: 51.9s\tremaining: 21.5s\n",
      "707:\tlearn: 0.0252137\ttotal: 51.9s\tremaining: 21.4s\n",
      "708:\tlearn: 0.0251352\ttotal: 52s\tremaining: 21.3s\n",
      "709:\tlearn: 0.0251261\ttotal: 52.1s\tremaining: 21.3s\n",
      "710:\tlearn: 0.0246583\ttotal: 52.2s\tremaining: 21.2s\n",
      "711:\tlearn: 0.0246505\ttotal: 52.2s\tremaining: 21.1s\n",
      "712:\tlearn: 0.0246355\ttotal: 52.3s\tremaining: 21.1s\n",
      "713:\tlearn: 0.0246245\ttotal: 52.4s\tremaining: 21s\n",
      "714:\tlearn: 0.0246114\ttotal: 52.5s\tremaining: 20.9s\n",
      "715:\tlearn: 0.0244543\ttotal: 52.5s\tremaining: 20.8s\n",
      "716:\tlearn: 0.0244436\ttotal: 52.6s\tremaining: 20.8s\n",
      "717:\tlearn: 0.0244322\ttotal: 52.7s\tremaining: 20.7s\n",
      "718:\tlearn: 0.0244222\ttotal: 52.8s\tremaining: 20.6s\n",
      "719:\tlearn: 0.0244156\ttotal: 52.8s\tremaining: 20.5s\n",
      "720:\tlearn: 0.0244085\ttotal: 52.9s\tremaining: 20.5s\n",
      "721:\tlearn: 0.0244007\ttotal: 53s\tremaining: 20.4s\n",
      "722:\tlearn: 0.0243840\ttotal: 53.1s\tremaining: 20.3s\n",
      "723:\tlearn: 0.0243706\ttotal: 53.1s\tremaining: 20.3s\n",
      "724:\tlearn: 0.0243594\ttotal: 53.2s\tremaining: 20.2s\n",
      "725:\tlearn: 0.0242894\ttotal: 53.3s\tremaining: 20.1s\n",
      "726:\tlearn: 0.0242807\ttotal: 53.3s\tremaining: 20s\n",
      "727:\tlearn: 0.0238375\ttotal: 53.4s\tremaining: 20s\n",
      "728:\tlearn: 0.0238256\ttotal: 53.5s\tremaining: 19.9s\n",
      "729:\tlearn: 0.0238175\ttotal: 53.6s\tremaining: 19.8s\n",
      "730:\tlearn: 0.0238099\ttotal: 53.7s\tremaining: 19.7s\n",
      "731:\tlearn: 0.0238013\ttotal: 53.7s\tremaining: 19.7s\n",
      "732:\tlearn: 0.0237931\ttotal: 53.8s\tremaining: 19.6s\n",
      "733:\tlearn: 0.0237812\ttotal: 53.9s\tremaining: 19.5s\n",
      "734:\tlearn: 0.0237721\ttotal: 54s\tremaining: 19.5s\n",
      "735:\tlearn: 0.0237456\ttotal: 54s\tremaining: 19.4s\n",
      "736:\tlearn: 0.0237379\ttotal: 54.1s\tremaining: 19.3s\n",
      "737:\tlearn: 0.0237286\ttotal: 54.2s\tremaining: 19.2s\n",
      "738:\tlearn: 0.0237190\ttotal: 54.3s\tremaining: 19.2s\n",
      "739:\tlearn: 0.0237109\ttotal: 54.3s\tremaining: 19.1s\n",
      "740:\tlearn: 0.0237028\ttotal: 54.4s\tremaining: 19s\n",
      "741:\tlearn: 0.0236940\ttotal: 54.5s\tremaining: 18.9s\n",
      "742:\tlearn: 0.0236826\ttotal: 54.6s\tremaining: 18.9s\n",
      "743:\tlearn: 0.0236663\ttotal: 54.6s\tremaining: 18.8s\n",
      "744:\tlearn: 0.0236574\ttotal: 54.7s\tremaining: 18.7s\n",
      "745:\tlearn: 0.0236490\ttotal: 54.8s\tremaining: 18.6s\n",
      "746:\tlearn: 0.0236416\ttotal: 54.8s\tremaining: 18.6s\n",
      "747:\tlearn: 0.0232576\ttotal: 54.9s\tremaining: 18.5s\n",
      "748:\tlearn: 0.0230978\ttotal: 55s\tremaining: 18.4s\n",
      "749:\tlearn: 0.0230848\ttotal: 55.1s\tremaining: 18.4s\n",
      "750:\tlearn: 0.0230761\ttotal: 55.2s\tremaining: 18.3s\n",
      "751:\tlearn: 0.0230656\ttotal: 55.2s\tremaining: 18.2s\n",
      "752:\tlearn: 0.0230567\ttotal: 55.3s\tremaining: 18.1s\n",
      "753:\tlearn: 0.0228546\ttotal: 55.4s\tremaining: 18.1s\n",
      "754:\tlearn: 0.0227810\ttotal: 55.4s\tremaining: 18s\n",
      "755:\tlearn: 0.0227751\ttotal: 55.5s\tremaining: 17.9s\n",
      "756:\tlearn: 0.0226069\ttotal: 55.6s\tremaining: 17.8s\n",
      "757:\tlearn: 0.0225994\ttotal: 55.7s\tremaining: 17.8s\n",
      "758:\tlearn: 0.0225907\ttotal: 55.7s\tremaining: 17.7s\n",
      "759:\tlearn: 0.0223731\ttotal: 55.8s\tremaining: 17.6s\n",
      "760:\tlearn: 0.0223650\ttotal: 55.9s\tremaining: 17.6s\n",
      "761:\tlearn: 0.0223556\ttotal: 56s\tremaining: 17.5s\n",
      "762:\tlearn: 0.0222235\ttotal: 56s\tremaining: 17.4s\n",
      "763:\tlearn: 0.0219936\ttotal: 56.1s\tremaining: 17.3s\n",
      "764:\tlearn: 0.0219857\ttotal: 56.2s\tremaining: 17.3s\n",
      "765:\tlearn: 0.0219776\ttotal: 56.3s\tremaining: 17.2s\n",
      "766:\tlearn: 0.0219695\ttotal: 56.3s\tremaining: 17.1s\n",
      "767:\tlearn: 0.0219619\ttotal: 56.4s\tremaining: 17s\n",
      "768:\tlearn: 0.0219553\ttotal: 56.5s\tremaining: 17s\n",
      "769:\tlearn: 0.0219467\ttotal: 56.6s\tremaining: 16.9s\n",
      "770:\tlearn: 0.0219403\ttotal: 56.6s\tremaining: 16.8s\n",
      "771:\tlearn: 0.0219326\ttotal: 56.7s\tremaining: 16.7s\n",
      "772:\tlearn: 0.0219225\ttotal: 56.8s\tremaining: 16.7s\n",
      "773:\tlearn: 0.0218074\ttotal: 56.9s\tremaining: 16.6s\n",
      "774:\tlearn: 0.0217955\ttotal: 57s\tremaining: 16.5s\n",
      "775:\tlearn: 0.0217889\ttotal: 57s\tremaining: 16.5s\n",
      "776:\tlearn: 0.0217827\ttotal: 57.1s\tremaining: 16.4s\n",
      "777:\tlearn: 0.0215595\ttotal: 57.2s\tremaining: 16.3s\n",
      "778:\tlearn: 0.0215522\ttotal: 57.3s\tremaining: 16.2s\n",
      "779:\tlearn: 0.0215438\ttotal: 57.3s\tremaining: 16.2s\n",
      "780:\tlearn: 0.0215343\ttotal: 57.4s\tremaining: 16.1s\n",
      "781:\tlearn: 0.0215257\ttotal: 57.5s\tremaining: 16s\n",
      "782:\tlearn: 0.0215183\ttotal: 57.6s\tremaining: 16s\n",
      "783:\tlearn: 0.0215123\ttotal: 57.6s\tremaining: 15.9s\n",
      "784:\tlearn: 0.0215026\ttotal: 57.7s\tremaining: 15.8s\n",
      "785:\tlearn: 0.0214953\ttotal: 57.8s\tremaining: 15.7s\n",
      "786:\tlearn: 0.0214884\ttotal: 57.9s\tremaining: 15.7s\n",
      "787:\tlearn: 0.0213334\ttotal: 57.9s\tremaining: 15.6s\n",
      "788:\tlearn: 0.0212572\ttotal: 58s\tremaining: 15.5s\n",
      "789:\tlearn: 0.0212465\ttotal: 58.1s\tremaining: 15.4s\n",
      "790:\tlearn: 0.0212403\ttotal: 58.1s\tremaining: 15.4s\n",
      "791:\tlearn: 0.0212286\ttotal: 58.2s\tremaining: 15.3s\n",
      "792:\tlearn: 0.0212227\ttotal: 58.3s\tremaining: 15.2s\n",
      "793:\tlearn: 0.0212163\ttotal: 58.4s\tremaining: 15.1s\n",
      "794:\tlearn: 0.0212082\ttotal: 58.4s\tremaining: 15.1s\n",
      "795:\tlearn: 0.0212010\ttotal: 58.5s\tremaining: 15s\n",
      "796:\tlearn: 0.0211936\ttotal: 58.6s\tremaining: 14.9s\n",
      "797:\tlearn: 0.0211852\ttotal: 58.7s\tremaining: 14.8s\n",
      "798:\tlearn: 0.0211795\ttotal: 58.7s\tremaining: 14.8s\n",
      "799:\tlearn: 0.0210609\ttotal: 58.8s\tremaining: 14.7s\n",
      "800:\tlearn: 0.0210504\ttotal: 58.9s\tremaining: 14.6s\n",
      "801:\tlearn: 0.0210438\ttotal: 59s\tremaining: 14.6s\n",
      "802:\tlearn: 0.0210360\ttotal: 59s\tremaining: 14.5s\n",
      "803:\tlearn: 0.0210290\ttotal: 59.1s\tremaining: 14.4s\n",
      "804:\tlearn: 0.0209508\ttotal: 59.2s\tremaining: 14.3s\n"
     ]
    },
    {
     "name": "stdout",
     "output_type": "stream",
     "text": [
      "805:\tlearn: 0.0209456\ttotal: 59.3s\tremaining: 14.3s\n",
      "806:\tlearn: 0.0209391\ttotal: 59.3s\tremaining: 14.2s\n",
      "807:\tlearn: 0.0209258\ttotal: 59.4s\tremaining: 14.1s\n",
      "808:\tlearn: 0.0209204\ttotal: 59.5s\tremaining: 14s\n",
      "809:\tlearn: 0.0209137\ttotal: 59.5s\tremaining: 14s\n",
      "810:\tlearn: 0.0209028\ttotal: 59.6s\tremaining: 13.9s\n",
      "811:\tlearn: 0.0208928\ttotal: 59.7s\tremaining: 13.8s\n",
      "812:\tlearn: 0.0208874\ttotal: 59.7s\tremaining: 13.7s\n",
      "813:\tlearn: 0.0208752\ttotal: 59.8s\tremaining: 13.7s\n",
      "814:\tlearn: 0.0208687\ttotal: 59.9s\tremaining: 13.6s\n",
      "815:\tlearn: 0.0208604\ttotal: 60s\tremaining: 13.5s\n",
      "816:\tlearn: 0.0207369\ttotal: 1m\tremaining: 13.4s\n",
      "817:\tlearn: 0.0207257\ttotal: 1m\tremaining: 13.4s\n",
      "818:\tlearn: 0.0207179\ttotal: 1m\tremaining: 13.3s\n",
      "819:\tlearn: 0.0207066\ttotal: 1m\tremaining: 13.2s\n",
      "820:\tlearn: 0.0207004\ttotal: 1m\tremaining: 13.2s\n",
      "821:\tlearn: 0.0206920\ttotal: 1m\tremaining: 13.1s\n",
      "822:\tlearn: 0.0206647\ttotal: 1m\tremaining: 13s\n",
      "823:\tlearn: 0.0206592\ttotal: 1m\tremaining: 12.9s\n",
      "824:\tlearn: 0.0206505\ttotal: 1m\tremaining: 12.9s\n",
      "825:\tlearn: 0.0206412\ttotal: 1m\tremaining: 12.8s\n",
      "826:\tlearn: 0.0206325\ttotal: 1m\tremaining: 12.7s\n",
      "827:\tlearn: 0.0206235\ttotal: 1m\tremaining: 12.6s\n",
      "828:\tlearn: 0.0206156\ttotal: 1m\tremaining: 12.6s\n",
      "829:\tlearn: 0.0205636\ttotal: 1m 1s\tremaining: 12.5s\n",
      "830:\tlearn: 0.0205553\ttotal: 1m 1s\tremaining: 12.4s\n",
      "831:\tlearn: 0.0205477\ttotal: 1m 1s\tremaining: 12.3s\n",
      "832:\tlearn: 0.0205410\ttotal: 1m 1s\tremaining: 12.3s\n",
      "833:\tlearn: 0.0205336\ttotal: 1m 1s\tremaining: 12.2s\n",
      "834:\tlearn: 0.0205260\ttotal: 1m 1s\tremaining: 12.1s\n",
      "835:\tlearn: 0.0205189\ttotal: 1m 1s\tremaining: 12.1s\n",
      "836:\tlearn: 0.0202937\ttotal: 1m 1s\tremaining: 12s\n",
      "837:\tlearn: 0.0202876\ttotal: 1m 1s\tremaining: 11.9s\n",
      "838:\tlearn: 0.0202808\ttotal: 1m 1s\tremaining: 11.8s\n",
      "839:\tlearn: 0.0202726\ttotal: 1m 1s\tremaining: 11.8s\n",
      "840:\tlearn: 0.0202646\ttotal: 1m 1s\tremaining: 11.7s\n",
      "841:\tlearn: 0.0202595\ttotal: 1m 1s\tremaining: 11.6s\n",
      "842:\tlearn: 0.0202532\ttotal: 1m 2s\tremaining: 11.6s\n",
      "843:\tlearn: 0.0202456\ttotal: 1m 2s\tremaining: 11.5s\n",
      "844:\tlearn: 0.0202409\ttotal: 1m 2s\tremaining: 11.4s\n",
      "845:\tlearn: 0.0202326\ttotal: 1m 2s\tremaining: 11.3s\n",
      "846:\tlearn: 0.0202271\ttotal: 1m 2s\tremaining: 11.3s\n",
      "847:\tlearn: 0.0202213\ttotal: 1m 2s\tremaining: 11.2s\n",
      "848:\tlearn: 0.0200542\ttotal: 1m 2s\tremaining: 11.1s\n",
      "849:\tlearn: 0.0200484\ttotal: 1m 2s\tremaining: 11s\n",
      "850:\tlearn: 0.0200432\ttotal: 1m 2s\tremaining: 11s\n",
      "851:\tlearn: 0.0200324\ttotal: 1m 2s\tremaining: 10.9s\n",
      "852:\tlearn: 0.0200242\ttotal: 1m 2s\tremaining: 10.8s\n",
      "853:\tlearn: 0.0200182\ttotal: 1m 2s\tremaining: 10.8s\n",
      "854:\tlearn: 0.0200075\ttotal: 1m 2s\tremaining: 10.7s\n",
      "855:\tlearn: 0.0199984\ttotal: 1m 3s\tremaining: 10.6s\n",
      "856:\tlearn: 0.0199895\ttotal: 1m 3s\tremaining: 10.5s\n",
      "857:\tlearn: 0.0199848\ttotal: 1m 3s\tremaining: 10.5s\n",
      "858:\tlearn: 0.0199788\ttotal: 1m 3s\tremaining: 10.4s\n",
      "859:\tlearn: 0.0199009\ttotal: 1m 3s\tremaining: 10.3s\n",
      "860:\tlearn: 0.0198929\ttotal: 1m 3s\tremaining: 10.2s\n",
      "861:\tlearn: 0.0198798\ttotal: 1m 3s\tremaining: 10.2s\n",
      "862:\tlearn: 0.0198736\ttotal: 1m 3s\tremaining: 10.1s\n",
      "863:\tlearn: 0.0198650\ttotal: 1m 3s\tremaining: 10s\n",
      "864:\tlearn: 0.0198573\ttotal: 1m 3s\tremaining: 9.94s\n",
      "865:\tlearn: 0.0198513\ttotal: 1m 3s\tremaining: 9.87s\n",
      "866:\tlearn: 0.0195559\ttotal: 1m 3s\tremaining: 9.79s\n",
      "867:\tlearn: 0.0195513\ttotal: 1m 3s\tremaining: 9.72s\n",
      "868:\tlearn: 0.0195367\ttotal: 1m 3s\tremaining: 9.64s\n",
      "869:\tlearn: 0.0195314\ttotal: 1m 4s\tremaining: 9.57s\n",
      "870:\tlearn: 0.0195256\ttotal: 1m 4s\tremaining: 9.5s\n",
      "871:\tlearn: 0.0195186\ttotal: 1m 4s\tremaining: 9.42s\n",
      "872:\tlearn: 0.0195130\ttotal: 1m 4s\tremaining: 9.35s\n",
      "873:\tlearn: 0.0194900\ttotal: 1m 4s\tremaining: 9.28s\n",
      "874:\tlearn: 0.0192522\ttotal: 1m 4s\tremaining: 9.2s\n",
      "875:\tlearn: 0.0192408\ttotal: 1m 4s\tremaining: 9.13s\n",
      "876:\tlearn: 0.0192342\ttotal: 1m 4s\tremaining: 9.06s\n",
      "877:\tlearn: 0.0192291\ttotal: 1m 4s\tremaining: 8.98s\n",
      "878:\tlearn: 0.0191406\ttotal: 1m 4s\tremaining: 8.91s\n",
      "879:\tlearn: 0.0191350\ttotal: 1m 4s\tremaining: 8.84s\n",
      "880:\tlearn: 0.0191254\ttotal: 1m 4s\tremaining: 8.76s\n",
      "881:\tlearn: 0.0191199\ttotal: 1m 4s\tremaining: 8.69s\n",
      "882:\tlearn: 0.0191122\ttotal: 1m 5s\tremaining: 8.62s\n",
      "883:\tlearn: 0.0191056\ttotal: 1m 5s\tremaining: 8.54s\n",
      "884:\tlearn: 0.0190979\ttotal: 1m 5s\tremaining: 8.47s\n",
      "885:\tlearn: 0.0190932\ttotal: 1m 5s\tremaining: 8.4s\n",
      "886:\tlearn: 0.0190862\ttotal: 1m 5s\tremaining: 8.32s\n",
      "887:\tlearn: 0.0190789\ttotal: 1m 5s\tremaining: 8.25s\n",
      "888:\tlearn: 0.0190701\ttotal: 1m 5s\tremaining: 8.18s\n",
      "889:\tlearn: 0.0190651\ttotal: 1m 5s\tremaining: 8.1s\n",
      "890:\tlearn: 0.0190585\ttotal: 1m 5s\tremaining: 8.03s\n",
      "891:\tlearn: 0.0190555\ttotal: 1m 5s\tremaining: 7.96s\n",
      "892:\tlearn: 0.0190462\ttotal: 1m 5s\tremaining: 7.88s\n",
      "893:\tlearn: 0.0190401\ttotal: 1m 5s\tremaining: 7.81s\n",
      "894:\tlearn: 0.0190324\ttotal: 1m 5s\tremaining: 7.73s\n",
      "895:\tlearn: 0.0190265\ttotal: 1m 5s\tremaining: 7.66s\n",
      "896:\tlearn: 0.0188175\ttotal: 1m 6s\tremaining: 7.59s\n",
      "897:\tlearn: 0.0187490\ttotal: 1m 6s\tremaining: 7.51s\n",
      "898:\tlearn: 0.0187426\ttotal: 1m 6s\tremaining: 7.44s\n",
      "899:\tlearn: 0.0186987\ttotal: 1m 6s\tremaining: 7.37s\n",
      "900:\tlearn: 0.0186924\ttotal: 1m 6s\tremaining: 7.29s\n",
      "901:\tlearn: 0.0186867\ttotal: 1m 6s\tremaining: 7.22s\n",
      "902:\tlearn: 0.0186812\ttotal: 1m 6s\tremaining: 7.15s\n",
      "903:\tlearn: 0.0186743\ttotal: 1m 6s\tremaining: 7.07s\n",
      "904:\tlearn: 0.0186551\ttotal: 1m 6s\tremaining: 7s\n",
      "905:\tlearn: 0.0186486\ttotal: 1m 6s\tremaining: 6.92s\n",
      "906:\tlearn: 0.0186431\ttotal: 1m 6s\tremaining: 6.85s\n",
      "907:\tlearn: 0.0186373\ttotal: 1m 6s\tremaining: 6.78s\n",
      "908:\tlearn: 0.0186316\ttotal: 1m 6s\tremaining: 6.71s\n",
      "909:\tlearn: 0.0186269\ttotal: 1m 7s\tremaining: 6.63s\n",
      "910:\tlearn: 0.0186180\ttotal: 1m 7s\tremaining: 6.56s\n",
      "911:\tlearn: 0.0186133\ttotal: 1m 7s\tremaining: 6.49s\n",
      "912:\tlearn: 0.0184482\ttotal: 1m 7s\tremaining: 6.41s\n",
      "913:\tlearn: 0.0184399\ttotal: 1m 7s\tremaining: 6.34s\n",
      "914:\tlearn: 0.0183977\ttotal: 1m 7s\tremaining: 6.26s\n",
      "915:\tlearn: 0.0183927\ttotal: 1m 7s\tremaining: 6.19s\n",
      "916:\tlearn: 0.0183411\ttotal: 1m 7s\tremaining: 6.12s\n",
      "917:\tlearn: 0.0183363\ttotal: 1m 7s\tremaining: 6.04s\n",
      "918:\tlearn: 0.0183316\ttotal: 1m 7s\tremaining: 5.97s\n",
      "919:\tlearn: 0.0183249\ttotal: 1m 7s\tremaining: 5.9s\n",
      "920:\tlearn: 0.0183169\ttotal: 1m 7s\tremaining: 5.82s\n",
      "921:\tlearn: 0.0183119\ttotal: 1m 7s\tremaining: 5.75s\n",
      "922:\tlearn: 0.0183033\ttotal: 1m 8s\tremaining: 5.68s\n",
      "923:\tlearn: 0.0182987\ttotal: 1m 8s\tremaining: 5.6s\n",
      "924:\tlearn: 0.0182937\ttotal: 1m 8s\tremaining: 5.53s\n",
      "925:\tlearn: 0.0182879\ttotal: 1m 8s\tremaining: 5.46s\n",
      "926:\tlearn: 0.0182808\ttotal: 1m 8s\tremaining: 5.38s\n",
      "927:\tlearn: 0.0182766\ttotal: 1m 8s\tremaining: 5.31s\n",
      "928:\tlearn: 0.0182719\ttotal: 1m 8s\tremaining: 5.24s\n",
      "929:\tlearn: 0.0182674\ttotal: 1m 8s\tremaining: 5.16s\n",
      "930:\tlearn: 0.0182607\ttotal: 1m 8s\tremaining: 5.09s\n",
      "931:\tlearn: 0.0182553\ttotal: 1m 8s\tremaining: 5.01s\n",
      "932:\tlearn: 0.0182509\ttotal: 1m 8s\tremaining: 4.94s\n",
      "933:\tlearn: 0.0182437\ttotal: 1m 8s\tremaining: 4.87s\n",
      "934:\tlearn: 0.0182377\ttotal: 1m 8s\tremaining: 4.79s\n",
      "935:\tlearn: 0.0181570\ttotal: 1m 9s\tremaining: 4.72s\n",
      "936:\tlearn: 0.0181499\ttotal: 1m 9s\tremaining: 4.64s\n",
      "937:\tlearn: 0.0181303\ttotal: 1m 9s\tremaining: 4.57s\n",
      "938:\tlearn: 0.0181255\ttotal: 1m 9s\tremaining: 4.5s\n",
      "939:\tlearn: 0.0181209\ttotal: 1m 9s\tremaining: 4.42s\n",
      "940:\tlearn: 0.0180531\ttotal: 1m 9s\tremaining: 4.35s\n",
      "941:\tlearn: 0.0180482\ttotal: 1m 9s\tremaining: 4.28s\n",
      "942:\tlearn: 0.0180423\ttotal: 1m 9s\tremaining: 4.2s\n",
      "943:\tlearn: 0.0180383\ttotal: 1m 9s\tremaining: 4.13s\n",
      "944:\tlearn: 0.0180335\ttotal: 1m 9s\tremaining: 4.05s\n",
      "945:\tlearn: 0.0180290\ttotal: 1m 9s\tremaining: 3.98s\n",
      "946:\tlearn: 0.0180242\ttotal: 1m 9s\tremaining: 3.91s\n",
      "947:\tlearn: 0.0180183\ttotal: 1m 9s\tremaining: 3.83s\n",
      "948:\tlearn: 0.0178956\ttotal: 1m 9s\tremaining: 3.76s\n",
      "949:\tlearn: 0.0178905\ttotal: 1m 10s\tremaining: 3.69s\n",
      "950:\tlearn: 0.0178849\ttotal: 1m 10s\tremaining: 3.61s\n",
      "951:\tlearn: 0.0178804\ttotal: 1m 10s\tremaining: 3.54s\n",
      "952:\tlearn: 0.0178533\ttotal: 1m 10s\tremaining: 3.46s\n",
      "953:\tlearn: 0.0178493\ttotal: 1m 10s\tremaining: 3.39s\n",
      "954:\tlearn: 0.0177242\ttotal: 1m 10s\tremaining: 3.32s\n",
      "955:\tlearn: 0.0176357\ttotal: 1m 10s\tremaining: 3.25s\n",
      "956:\tlearn: 0.0176313\ttotal: 1m 10s\tremaining: 3.17s\n",
      "957:\tlearn: 0.0174295\ttotal: 1m 10s\tremaining: 3.1s\n",
      "958:\tlearn: 0.0174190\ttotal: 1m 10s\tremaining: 3.02s\n",
      "959:\tlearn: 0.0174139\ttotal: 1m 10s\tremaining: 2.95s\n",
      "960:\tlearn: 0.0174070\ttotal: 1m 10s\tremaining: 2.88s\n",
      "961:\tlearn: 0.0173314\ttotal: 1m 10s\tremaining: 2.8s\n",
      "962:\tlearn: 0.0173216\ttotal: 1m 11s\tremaining: 2.73s\n",
      "963:\tlearn: 0.0173168\ttotal: 1m 11s\tremaining: 2.65s\n",
      "964:\tlearn: 0.0173126\ttotal: 1m 11s\tremaining: 2.58s\n",
      "965:\tlearn: 0.0172358\ttotal: 1m 11s\tremaining: 2.51s\n"
     ]
    },
    {
     "name": "stdout",
     "output_type": "stream",
     "text": [
      "966:\tlearn: 0.0172316\ttotal: 1m 11s\tremaining: 2.43s\n",
      "967:\tlearn: 0.0170926\ttotal: 1m 11s\tremaining: 2.36s\n",
      "968:\tlearn: 0.0170875\ttotal: 1m 11s\tremaining: 2.29s\n",
      "969:\tlearn: 0.0170834\ttotal: 1m 11s\tremaining: 2.21s\n",
      "970:\tlearn: 0.0170763\ttotal: 1m 11s\tremaining: 2.14s\n",
      "971:\tlearn: 0.0170679\ttotal: 1m 11s\tremaining: 2.06s\n",
      "972:\tlearn: 0.0169258\ttotal: 1m 11s\tremaining: 1.99s\n",
      "973:\tlearn: 0.0168613\ttotal: 1m 11s\tremaining: 1.92s\n",
      "974:\tlearn: 0.0168579\ttotal: 1m 11s\tremaining: 1.84s\n",
      "975:\tlearn: 0.0168544\ttotal: 1m 12s\tremaining: 1.77s\n",
      "976:\tlearn: 0.0168505\ttotal: 1m 12s\tremaining: 1.7s\n",
      "977:\tlearn: 0.0168451\ttotal: 1m 12s\tremaining: 1.62s\n",
      "978:\tlearn: 0.0167699\ttotal: 1m 12s\tremaining: 1.55s\n",
      "979:\tlearn: 0.0167506\ttotal: 1m 12s\tremaining: 1.48s\n",
      "980:\tlearn: 0.0167467\ttotal: 1m 12s\tremaining: 1.4s\n",
      "981:\tlearn: 0.0167418\ttotal: 1m 12s\tremaining: 1.33s\n",
      "982:\tlearn: 0.0167386\ttotal: 1m 12s\tremaining: 1.25s\n",
      "983:\tlearn: 0.0167303\ttotal: 1m 12s\tremaining: 1.18s\n",
      "984:\tlearn: 0.0165472\ttotal: 1m 12s\tremaining: 1.11s\n",
      "985:\tlearn: 0.0165438\ttotal: 1m 12s\tremaining: 1.03s\n",
      "986:\tlearn: 0.0165017\ttotal: 1m 12s\tremaining: 960ms\n",
      "987:\tlearn: 0.0164981\ttotal: 1m 12s\tremaining: 886ms\n",
      "988:\tlearn: 0.0164931\ttotal: 1m 13s\tremaining: 812ms\n",
      "989:\tlearn: 0.0164879\ttotal: 1m 13s\tremaining: 738ms\n",
      "990:\tlearn: 0.0164824\ttotal: 1m 13s\tremaining: 664ms\n",
      "991:\tlearn: 0.0164097\ttotal: 1m 13s\tremaining: 590ms\n",
      "992:\tlearn: 0.0164023\ttotal: 1m 13s\tremaining: 517ms\n",
      "993:\tlearn: 0.0163984\ttotal: 1m 13s\tremaining: 443ms\n",
      "994:\tlearn: 0.0163941\ttotal: 1m 13s\tremaining: 369ms\n",
      "995:\tlearn: 0.0163855\ttotal: 1m 13s\tremaining: 295ms\n",
      "996:\tlearn: 0.0163671\ttotal: 1m 13s\tremaining: 221ms\n",
      "997:\tlearn: 0.0163627\ttotal: 1m 13s\tremaining: 148ms\n",
      "998:\tlearn: 0.0162550\ttotal: 1m 13s\tremaining: 73.8ms\n",
      "999:\tlearn: 0.0162486\ttotal: 1m 13s\tremaining: 0us\n"
     ]
    },
    {
     "data": {
      "text/plain": [
       "0.9611209769220947"
      ]
     },
     "execution_count": 46,
     "metadata": {},
     "output_type": "execute_result"
    }
   ],
   "source": [
    "# evaluate xgboost algorithm for classification\n",
    "from sklearn.metrics import accuracy_score\n",
    "from catboost import CatBoostClassifier\n",
    "from sklearn import metrics\n",
    "\n",
    "# split the data test\n",
    "from sklearn.model_selection import train_test_split\n",
    "# target = train['type']\n",
    "\n",
    "# x_train,x_test,y_train,y_test=train_test_split(vector, target, test_size=0.30, random_state=100, stratify = target)\n",
    "\n",
    "\n",
    "# define the model\n",
    "cat_Classifier = CatBoostClassifier()\n",
    "\n",
    "#fit the model\n",
    "cat_Classifier.fit(x_train_ros, y_train_ros)\n",
    "\n",
    "# evaluate the model\n",
    "cat_pred = cat_Classifier.predict(x_test)\n",
    "\n",
    "# Calculating the f1 score\n",
    "f1_score=metrics.f1_score(y_test,cat_pred,average='macro')\n",
    "f1_score"
   ]
  },
  {
   "cell_type": "code",
   "execution_count": 47,
   "id": "a6bdac87",
   "metadata": {},
   "outputs": [
    {
     "name": "stdout",
     "output_type": "stream",
     "text": [
      "              precision    recall  f1-score   support\n",
      "\n",
      "           0       0.98      0.98      0.98        57\n",
      "           1       0.98      0.98      0.98        56\n",
      "           2       0.95      0.96      0.96        56\n",
      "           3       0.98      0.96      0.97        56\n",
      "           4       0.91      0.91      0.91        57\n",
      "\n",
      "    accuracy                           0.96       282\n",
      "   macro avg       0.96      0.96      0.96       282\n",
      "weighted avg       0.96      0.96      0.96       282\n",
      "\n"
     ]
    }
   ],
   "source": [
    "from sklearn.metrics import classification_report\n",
    "print(classification_report(y_test,cat_pred))"
   ]
  },
  {
   "cell_type": "code",
   "execution_count": 48,
   "id": "107c3d78",
   "metadata": {
    "scrolled": true
   },
   "outputs": [
    {
     "data": {
      "text/plain": [
       "<Figure size 2160x2160 with 0 Axes>"
      ]
     },
     "metadata": {},
     "output_type": "display_data"
    },
    {
     "data": {
      "image/png": "[encoded data removed]",
      "text/plain": [
       "<Figure size 432x288 with 2 Axes>"
      ]
     },
     "metadata": {
      "needs_background": "light"
     },
     "output_type": "display_data"
    }
   ],
   "source": [
    "from sklearn.metrics import confusion_matrix, ConfusionMatrixDisplay\n",
    "plt.figure(figsize=(30,30))\n",
    "#Compute confusion matrix to evaluate the accuray of a classification\n",
    "confusion_table = confusion_matrix(y_test,cat_pred)\n",
    "\n",
    "#Confusion matrix visualization\n",
    "cm_display = ConfusionMatrixDisplay(confusion_matrix=confusion_table, display_labels=[0,1,2,3,4])\n",
    "\n",
    "#create the plot\n",
    "cm_display.plot()\n",
    "\n",
    "#display the plot\n",
    "plt.show()\n"
   ]
  },
  {
   "cell_type": "markdown",
   "id": "9303ef44",
   "metadata": {},
   "source": [
    " ### 0 - 'Harmful_Traditional_practice', 1 - 'Physical_violence', 2 - 'economic_violence', 3 - 'emotional_violence',  4 - 'sexual_violence'   "
   ]
  },
  {
   "cell_type": "code",
   "execution_count": 49,
   "id": "f866dcd9",
   "metadata": {},
   "outputs": [
    {
     "data": {
      "text/plain": [
       "['GBV/Model/cat_Classifier_model.pkl']"
      ]
     },
     "execution_count": 49,
     "metadata": {},
     "output_type": "execute_result"
    }
   ],
   "source": [
    "# how to save the model into the folder \n",
    "import joblib\n",
    "\n",
    "joblib.dump(cat_Classifier, 'GBV/Model/cat_Classifier_model.pkl')"
   ]
  },
  {
   "cell_type": "markdown",
   "id": "7dee79a1",
   "metadata": {},
   "source": [
    "## 4. Soft Voting Classifer after balancing "
   ]
  },
  {
   "cell_type": "code",
   "execution_count": 50,
   "id": "76f95c82",
   "metadata": {},
   "outputs": [
    {
     "data": {
      "text/plain": [
       "0.9713260344887893"
      ]
     },
     "execution_count": 50,
     "metadata": {},
     "output_type": "execute_result"
    }
   ],
   "source": [
    "# evaluate VotingClassifer algorithm for classification\n",
    "from sklearn import model_selection\n",
    "from sklearn.tree import DecisionTreeClassifier\n",
    "from sklearn.linear_model import LogisticRegression\n",
    "from sklearn.svm import SVC\n",
    "from sklearn.metrics import accuracy_score\n",
    "from sklearn.ensemble import VotingClassifier\n",
    "from sklearn import metrics\n",
    "\n",
    "# split the data test\n",
    "from sklearn.model_selection import train_test_split\n",
    "# target = train['type']\n",
    "\n",
    "# x_train,x_test,y_train,y_test=train_test_split(vector, target, test_size=0.30, random_state=100, stratify = target)\n",
    "\n",
    "# creating submodels\n",
    "estimators = []\n",
    "model1 = LogisticRegression()\n",
    "estimators.append(('Logistic',model1))\n",
    "model2 = DecisionTreeClassifier()\n",
    "estimators.append(('cart',model2))\n",
    "model3 = SVC(probability=True)\n",
    "estimators.append(('svm',model3))\n",
    "\n",
    "# define the model\n",
    "ensemble = VotingClassifier(estimators, voting='soft')\n",
    "\n",
    "#fit the model\n",
    "ensemble.fit(x_train_ros, y_train_ros)\n",
    "\n",
    "# evaluate the model\n",
    "en_pred = ensemble.predict(x_test)\n",
    "\n",
    "# Calculating the f1 score\n",
    "f1_score=metrics.f1_score(y_test,en_pred,average='macro')\n",
    "f1_score"
   ]
  },
  {
   "cell_type": "code",
   "execution_count": 51,
   "id": "218dc63b",
   "metadata": {},
   "outputs": [
    {
     "name": "stdout",
     "output_type": "stream",
     "text": [
      "              precision    recall  f1-score   support\n",
      "\n",
      "           0       0.98      1.00      0.99        57\n",
      "           1       0.96      0.98      0.97        56\n",
      "           2       0.96      0.98      0.97        56\n",
      "           3       0.98      1.00      0.99        56\n",
      "           4       0.96      0.89      0.93        57\n",
      "\n",
      "    accuracy                           0.97       282\n",
      "   macro avg       0.97      0.97      0.97       282\n",
      "weighted avg       0.97      0.97      0.97       282\n",
      "\n"
     ]
    }
   ],
   "source": [
    "from sklearn.metrics import classification_report\n",
    "print(classification_report(y_test,en_pred))"
   ]
  },
  {
   "cell_type": "code",
   "execution_count": 52,
   "id": "01e5afe5",
   "metadata": {
    "scrolled": false
   },
   "outputs": [
    {
     "data": {
      "text/plain": [
       "<Figure size 2160x2160 with 0 Axes>"
      ]
     },
     "metadata": {},
     "output_type": "display_data"
    },
    {
     "data": {
      "image/png": "[encoded data removed]",
      "text/plain": [
       "<Figure size 432x288 with 2 Axes>"
      ]
     },
     "metadata": {
      "needs_background": "light"
     },
     "output_type": "display_data"
    }
   ],
   "source": [
    "from sklearn.metrics import confusion_matrix, ConfusionMatrixDisplay\n",
    "plt.figure(figsize=(30,30))\n",
    "#Compute confusion matrix to evaluate the accuray of a classification\n",
    "confusion_table = confusion_matrix(y_test,en_pred)\n",
    "\n",
    "#Confusion matrix visualization\n",
    "cm_display = ConfusionMatrixDisplay(confusion_matrix=confusion_table, display_labels=[0,1,2,3,4])\n",
    "\n",
    "#create the plot\n",
    "cm_display.plot()\n",
    "\n",
    "#display the plot\n",
    "plt.show()\n"
   ]
  },
  {
   "cell_type": "markdown",
   "id": "587ae381",
   "metadata": {},
   "source": [
    " ### 0 - 'Harmful_Traditional_practice', 1 - 'Physical_violence', 2 - 'economic_violence', 3 - 'emotional_violence',  4 - 'sexual_violence'   "
   ]
  },
  {
   "cell_type": "code",
   "execution_count": 53,
   "id": "52fd349c",
   "metadata": {},
   "outputs": [
    {
     "data": {
      "text/plain": [
       "['GBV/Model/VotingClassifier_soft_model.pkl']"
      ]
     },
     "execution_count": 53,
     "metadata": {},
     "output_type": "execute_result"
    }
   ],
   "source": [
    "# how to save the model into the folder \n",
    "import joblib\n",
    "\n",
    "joblib.dump(ensemble, 'GBV/Model/VotingClassifier_soft_model.pkl')"
   ]
  },
  {
   "cell_type": "markdown",
   "id": "19815907",
   "metadata": {},
   "source": [
    "## 5. Histogram Gradient Boosting"
   ]
  },
  {
   "cell_type": "code",
   "execution_count": null,
   "id": "51406d70",
   "metadata": {},
   "outputs": [],
   "source": [
    "# # evaluate Histogram gradient boosting algorithm for classification\n",
    "# from sklearn.ensemble import HistGradientBoostingClassifier\n",
    "# from sklearn import metrics\n",
    "\n",
    "# # # explicitly requires this experimental feature\n",
    "# from sklearn.experimental import enable_hist_gradient_boosting\n",
    "\n",
    "# # # split the data test\n",
    "# from sklearn.model_selection import train_test_split\n",
    "# # # target = train['type']\n",
    "\n",
    "# # x_train,x_test,y_train,y_test=train_test_split(vector, target, test_size=0.30, random_state=100)\n",
    "\n",
    "# xtr = x_train_ros.toarray()\n",
    "# # # ytr = y_train.toarray()\n",
    "# xte = X_test.toarray()\n",
    "# # # yte = y_test.toarray()\n",
    "\n",
    "\n",
    "# # # define the model\n",
    "# hgb = HistGradientBoostingClassifier()\n",
    "\n",
    "# # #fit the model\n",
    "# hgb.fit(xtr, y_train_ros)\n",
    "\n",
    "# # # evaluate the model\n",
    "# hg_pred = hgb.predict(xte)\n",
    "\n",
    "# # # Calculating the f1 score\n",
    "# f1_score=metrics.f1_score(y_test,hg_pred,average='macro')\n",
    "# f1_score"
   ]
  },
  {
   "cell_type": "code",
   "execution_count": null,
   "id": "0dd34aa7",
   "metadata": {},
   "outputs": [],
   "source": [
    "# from sklearn.metrics import classification_report\n",
    "# print(classification_report(y_test,hg_pred))"
   ]
  },
  {
   "cell_type": "code",
   "execution_count": null,
   "id": "36cb26e7",
   "metadata": {},
   "outputs": [],
   "source": [
    "# # from sklearn.metrics import confusion_matrix, ConfusionMatrixDisplay\n",
    "# plt.figure(figsize=(30,30))\n",
    "#  #Compute confusion matrix to evaluate the accuray of a classification\n",
    "# confusion_table = confusion_matrix(y_test,hg_pred)\n",
    "\n",
    "# # #Confusion matrix visualization\n",
    "# cm_display = ConfusionMatrixDisplay(confusion_matrix=confusion_table, display_labels=[0,1,2,3,4])\n",
    "\n",
    "# #create the plot\n",
    "# cm_display.plot()\n",
    "\n",
    "# #display the plot\n",
    "# plt.show()\n"
   ]
  },
  {
   "cell_type": "markdown",
   "id": "8ea3a068",
   "metadata": {},
   "source": [
    " ### 0 - 'Harmful_Traditional_practice', 1 - 'Physical_violence', 2 - 'economic_violence', 3 - 'emotional_violence',  4 - 'sexual_violence'   "
   ]
  },
  {
   "cell_type": "code",
   "execution_count": null,
   "id": "7300db51",
   "metadata": {},
   "outputs": [],
   "source": [
    "#!pip install joblib"
   ]
  },
  {
   "cell_type": "code",
   "execution_count": null,
   "id": "6313ea27",
   "metadata": {},
   "outputs": [],
   "source": [
    "# # how to save the model into the folder \n",
    "# import joblib\n",
    "\n",
    "# joblib.dump(ensemble, 'GBV/Model/hgb.pkl')"
   ]
  },
  {
   "cell_type": "code",
   "execution_count": null,
   "id": "b18be403",
   "metadata": {},
   "outputs": [],
   "source": []
  }
 ],
 "metadata": {
  "kernelspec": {
   "display_name": "Python 3 (ipykernel)",
   "language": "python",
   "name": "python3"
  },
  "language_info": {
   "codemirror_mode": {
    "name": "ipython",
    "version": 3
   },
   "file_extension": ".py",
   "mimetype": "text/x-python",
   "name": "python",
   "nbconvert_exporter": "python",
   "pygments_lexer": "ipython3",
   "version": "3.9.12"
  }
 },
 "nbformat": 4,
 "nbformat_minor": 5
}
